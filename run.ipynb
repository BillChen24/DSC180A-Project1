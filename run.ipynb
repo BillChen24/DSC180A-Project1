{
 "cells": [
  {
   "cell_type": "code",
   "execution_count": 1,
   "id": "dd647a7c",
   "metadata": {},
   "outputs": [],
   "source": [
    "import json"
   ]
  },
  {
   "cell_type": "code",
   "execution_count": 3,
   "id": "9ea33928",
   "metadata": {},
   "outputs": [],
   "source": [
    "with open('config/data-params.json', 'r') as fh:\n",
    "    data_params = json.load(fh)"
   ]
  },
  {
   "cell_type": "code",
   "execution_count": 4,
   "id": "3fc85094",
   "metadata": {},
   "outputs": [],
   "source": [
    "from src.etl import *"
   ]
  },
  {
   "cell_type": "code",
   "execution_count": 5,
   "id": "a71d5d1f",
   "metadata": {},
   "outputs": [
    {
     "data": {
      "text/plain": [
       "(array([[ 59,  43,  50, ..., 140,  84,  72],\n",
       "        [154, 126, 105, ..., 139, 142, 144],\n",
       "        [255, 253, 253, ...,  83,  83,  84],\n",
       "        ...,\n",
       "        [ 35,  40,  42, ...,  77,  66,  50],\n",
       "        [189, 186, 185, ..., 169, 171, 171],\n",
       "        [229, 236, 234, ..., 173, 162, 161]], dtype=uint8),\n",
       " array([6, 9, 9, ..., 9, 1, 1]),\n",
       " array([[158, 159, 165, ..., 124, 129, 110],\n",
       "        [235, 231, 232, ..., 178, 191, 199],\n",
       "        [158, 158, 139, ...,   8,   3,   7],\n",
       "        ...,\n",
       "        [ 20,  19,  15, ...,  50,  53,  47],\n",
       "        [ 25,  15,  23, ...,  80,  81,  80],\n",
       "        [ 73,  98,  99, ...,  94,  58,  26]], dtype=uint8),\n",
       " array([3, 8, 8, ..., 5, 1, 7]))"
      ]
     },
     "execution_count": 5,
     "metadata": {},
     "output_type": "execute_result"
    }
   ],
   "source": [
    "getData(**data_params)"
   ]
  },
  {
   "cell_type": "code",
   "execution_count": 7,
   "id": "f5191878",
   "metadata": {},
   "outputs": [],
   "source": [
    "train_data, train_label, test_data, test_label = getData(**data_params)"
   ]
  },
  {
   "cell_type": "code",
   "execution_count": 8,
   "id": "8c1b59b9",
   "metadata": {},
   "outputs": [],
   "source": [
    "with open('config/model-params.json', 'r') as fh:\n",
    "    model_params = json.load(fh)"
   ]
  },
  {
   "cell_type": "code",
   "execution_count": 8,
   "id": "2c6ee8cf",
   "metadata": {},
   "outputs": [],
   "source": [
    "from src.classifier import *"
   ]
  },
  {
   "cell_type": "code",
   "execution_count": 9,
   "id": "8c46da33",
   "metadata": {},
   "outputs": [],
   "source": [
    "clf = clf_build(train_data, train_label, \"RandomForestClassifier\")"
   ]
  },
  {
   "cell_type": "code",
   "execution_count": 10,
   "id": "bcc7e551",
   "metadata": {},
   "outputs": [
    {
     "name": "stdout",
     "output_type": "stream",
     "text": [
      "              precision    recall  f1-score   support\n",
      "\n",
      "           0       0.54      0.57      0.56      1000\n",
      "           1       0.52      0.55      0.54      1000\n",
      "           2       0.39      0.34      0.36      1000\n",
      "           3       0.34      0.28      0.31      1000\n",
      "           4       0.40      0.38      0.39      1000\n",
      "           5       0.42      0.39      0.40      1000\n",
      "           6       0.46      0.56      0.50      1000\n",
      "           7       0.52      0.46      0.49      1000\n",
      "           8       0.57      0.60      0.59      1000\n",
      "           9       0.48      0.55      0.51      1000\n",
      "\n",
      "    accuracy                           0.47     10000\n",
      "   macro avg       0.46      0.47      0.47     10000\n",
      "weighted avg       0.46      0.47      0.47     10000\n",
      "\n"
     ]
    },
    {
     "data": {
      "text/plain": [
       "array([2, 8, 8, ..., 3, 5, 7])"
      ]
     },
     "execution_count": 10,
     "metadata": {},
     "output_type": "execute_result"
    }
   ],
   "source": [
    "clf_predict(clf, test_data, test_label, \"data/out/intial_preds.csv\")"
   ]
  },
  {
   "cell_type": "code",
   "execution_count": 11,
   "id": "c8696f68",
   "metadata": {},
   "outputs": [],
   "source": [
    "from src.color_transform import *"
   ]
  },
  {
   "cell_type": "code",
   "execution_count": 12,
   "id": "fb615958",
   "metadata": {},
   "outputs": [],
   "source": [
    "X_train_gray = grayscale(train_data, 'X_train_gray')\n",
    "X_test_gray = grayscale(test_data, 'X_test_gray')"
   ]
  },
  {
   "cell_type": "code",
   "execution_count": 13,
   "id": "0232e901",
   "metadata": {},
   "outputs": [
    {
     "data": {
      "text/plain": [
       "(10000, 3072)"
      ]
     },
     "execution_count": 13,
     "metadata": {},
     "output_type": "execute_result"
    }
   ],
   "source": [
    "X_test_gray.shape"
   ]
  },
  {
   "cell_type": "code",
   "execution_count": 14,
   "id": "710efc92",
   "metadata": {},
   "outputs": [
    {
     "name": "stdout",
     "output_type": "stream",
     "text": [
      "              precision    recall  f1-score   support\n",
      "\n",
      "           0       0.18      0.00      0.00      1000\n",
      "           1       0.33      0.00      0.00      1000\n",
      "           2       0.13      0.30      0.18      1000\n",
      "           3       0.13      0.19      0.15      1000\n",
      "           4       0.14      0.16      0.15      1000\n",
      "           5       0.00      0.00      0.00      1000\n",
      "           6       0.12      0.58      0.19      1000\n",
      "           7       0.50      0.00      0.01      1000\n",
      "           8       0.00      0.00      0.00      1000\n",
      "           9       0.00      0.00      0.00      1000\n",
      "\n",
      "    accuracy                           0.12     10000\n",
      "   macro avg       0.15      0.12      0.07     10000\n",
      "weighted avg       0.15      0.12      0.07     10000\n",
      "\n"
     ]
    },
    {
     "name": "stderr",
     "output_type": "stream",
     "text": [
      "c:\\users\\bill chen\\appdata\\local\\programs\\python\\python38\\lib\\site-packages\\sklearn\\metrics\\_classification.py:1308: UndefinedMetricWarning: Precision and F-score are ill-defined and being set to 0.0 in labels with no predicted samples. Use `zero_division` parameter to control this behavior.\n",
      "  _warn_prf(average, modifier, msg_start, len(result))\n",
      "c:\\users\\bill chen\\appdata\\local\\programs\\python\\python38\\lib\\site-packages\\sklearn\\metrics\\_classification.py:1308: UndefinedMetricWarning: Precision and F-score are ill-defined and being set to 0.0 in labels with no predicted samples. Use `zero_division` parameter to control this behavior.\n",
      "  _warn_prf(average, modifier, msg_start, len(result))\n",
      "c:\\users\\bill chen\\appdata\\local\\programs\\python\\python38\\lib\\site-packages\\sklearn\\metrics\\_classification.py:1308: UndefinedMetricWarning: Precision and F-score are ill-defined and being set to 0.0 in labels with no predicted samples. Use `zero_division` parameter to control this behavior.\n",
      "  _warn_prf(average, modifier, msg_start, len(result))\n"
     ]
    },
    {
     "data": {
      "text/plain": [
       "array([6, 6, 2, ..., 6, 6, 2])"
      ]
     },
     "execution_count": 14,
     "metadata": {},
     "output_type": "execute_result"
    }
   ],
   "source": [
    "clf_predict(clf, X_test_gray, test_label, \"data/out/grayscale_preds.csv\")"
   ]
  },
  {
   "cell_type": "code",
   "execution_count": 16,
   "id": "f1f9d57f",
   "metadata": {},
   "outputs": [
    {
     "data": {
      "text/plain": [
       "(10000, 3072)"
      ]
     },
     "execution_count": 16,
     "metadata": {},
     "output_type": "execute_result"
    }
   ],
   "source": [
    "X_test_gray.shape"
   ]
  },
  {
   "cell_type": "code",
   "execution_count": 33,
   "id": "1b338698",
   "metadata": {},
   "outputs": [],
   "source": [
    "sample1 = np.random.randint(50000, size = 5000)\n",
    "sample2 = np.random.randint(50000, size = 5000)"
   ]
  },
  {
   "cell_type": "code",
   "execution_count": 34,
   "id": "feb83d67",
   "metadata": {},
   "outputs": [],
   "source": [
    "Xt = train_data[sample1]\n",
    "Xs = X_train_gray[sample2]"
   ]
  },
  {
   "cell_type": "code",
   "execution_count": 35,
   "id": "0dbd42aa",
   "metadata": {},
   "outputs": [
    {
     "data": {
      "text/plain": [
       "(5000, 3072)"
      ]
     },
     "execution_count": 35,
     "metadata": {},
     "output_type": "execute_result"
    }
   ],
   "source": [
    "Xt.shape"
   ]
  },
  {
   "cell_type": "code",
   "execution_count": 25,
   "id": "4461bf23",
   "metadata": {},
   "outputs": [],
   "source": [
    "import ot"
   ]
  },
  {
   "cell_type": "code",
   "execution_count": 36,
   "id": "d007e387",
   "metadata": {},
   "outputs": [
    {
     "data": {
      "text/plain": [
       "<ot.da.SinkhornTransport at 0x1d27f8dd850>"
      ]
     },
     "execution_count": 36,
     "metadata": {},
     "output_type": "execute_result"
    }
   ],
   "source": [
    " # EMDTransport\n",
    "ot_emd = ot.da.EMDTransport()\n",
    "ot_emd.fit(Xs=Xs, Xt=Xt)\n",
    "\n",
    "# SinkhornTransport\n",
    "ot_sinkhorn = ot.da.SinkhornTransport(reg_e=1e-1)\n",
    "ot_sinkhorn.fit(Xs=Xs, Xt=Xt)"
   ]
  },
  {
   "cell_type": "code",
   "execution_count": 37,
   "id": "bf3c514d",
   "metadata": {},
   "outputs": [],
   "source": [
    "X_test_ot = ot_emd.transform(X_test_gray)"
   ]
  },
  {
   "cell_type": "code",
   "execution_count": 38,
   "id": "ba77a8ad",
   "metadata": {},
   "outputs": [
    {
     "data": {
      "text/plain": [
       "array([[47.2262, 47.5251, 49.3185, ..., 14.136 , 14.706 , 12.54  ],\n",
       "       [70.2415, 69.0459, 69.3448, ..., 20.292 , 21.774 , 22.686 ],\n",
       "       [47.2262, 47.2262, 41.5471, ...,  0.912 ,  0.342 ,  0.798 ],\n",
       "       ...,\n",
       "       [ 5.978 ,  5.6791,  4.4835, ...,  5.7   ,  6.042 ,  5.358 ],\n",
       "       [ 7.4725,  4.4835,  6.8747, ...,  9.12  ,  9.234 ,  9.12  ],\n",
       "       [21.8197, 29.2922, 29.5911, ..., 10.716 ,  6.612 ,  2.964 ]])"
      ]
     },
     "execution_count": 38,
     "metadata": {},
     "output_type": "execute_result"
    }
   ],
   "source": [
    "X_test_gray"
   ]
  },
  {
   "cell_type": "code",
   "execution_count": 39,
   "id": "3c0d45ab",
   "metadata": {},
   "outputs": [
    {
     "data": {
      "text/plain": [
       "array([[ 46.5648,  47.4615,  50.2549, ..., 147.938 , 148.306 , 144.684 ],\n",
       "       [ 56.2769,  35.1736,  57.7714, ...,  92.042 ,  79.726 ,  85.524 ],\n",
       "       [217.7934, 218.4945, 213.8154, ..., 112.564 , 108.994 , 109.45  ],\n",
       "       ...,\n",
       "       [ 87.4242,  99.022 , 101.4242, ..., 157.166 , 155.938 , 151.026 ],\n",
       "       [ 74.077 ,  65.4902,  71.7781, ..., 240.834 , 239.404 , 240.518 ],\n",
       "       [110.2616, 118.4352, 121.2396, ..., 101.202 ,  89.212 ,  77.196 ]])"
      ]
     },
     "execution_count": 39,
     "metadata": {},
     "output_type": "execute_result"
    }
   ],
   "source": [
    "X_test_ot"
   ]
  },
  {
   "cell_type": "code",
   "execution_count": 41,
   "id": "06f2bbf1",
   "metadata": {},
   "outputs": [
    {
     "name": "stdout",
     "output_type": "stream",
     "text": [
      "              precision    recall  f1-score   support\n",
      "\n",
      "           0       0.09      0.11      0.10      1000\n",
      "           1       0.10      0.10      0.10      1000\n",
      "           2       0.10      0.08      0.09      1000\n",
      "           3       0.12      0.10      0.11      1000\n",
      "           4       0.10      0.12      0.11      1000\n",
      "           5       0.10      0.09      0.10      1000\n",
      "           6       0.12      0.18      0.15      1000\n",
      "           7       0.08      0.08      0.08      1000\n",
      "           8       0.11      0.10      0.11      1000\n",
      "           9       0.13      0.11      0.12      1000\n",
      "\n",
      "    accuracy                           0.10     10000\n",
      "   macro avg       0.10      0.10      0.10     10000\n",
      "weighted avg       0.10      0.10      0.10     10000\n",
      "\n"
     ]
    },
    {
     "data": {
      "text/plain": [
       "array([0, 3, 8, ..., 1, 6, 9])"
      ]
     },
     "execution_count": 41,
     "metadata": {},
     "output_type": "execute_result"
    }
   ],
   "source": [
    "clf_predict(clf, X_test_ot, test_label, \"data/out/ot_preds.csv\")"
   ]
  },
  {
   "cell_type": "code",
   "execution_count": null,
   "id": "818b4e6a",
   "metadata": {},
   "outputs": [],
   "source": []
  }
 ],
 "metadata": {
  "kernelspec": {
   "display_name": "Python 3 (ipykernel)",
   "language": "python",
   "name": "python3"
  },
  "language_info": {
   "codemirror_mode": {
    "name": "ipython",
    "version": 3
   },
   "file_extension": ".py",
   "mimetype": "text/x-python",
   "name": "python",
   "nbconvert_exporter": "python",
   "pygments_lexer": "ipython3",
   "version": "3.8.5"
  }
 },
 "nbformat": 4,
 "nbformat_minor": 5
}
