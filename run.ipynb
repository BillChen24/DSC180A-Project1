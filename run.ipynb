{
 "cells": [
  {
   "cell_type": "code",
   "execution_count": 1,
   "id": "dd647a7c",
   "metadata": {},
   "outputs": [],
   "source": [
    "import json"
   ]
  },
  {
   "cell_type": "code",
   "execution_count": 2,
   "id": "9ea33928",
   "metadata": {},
   "outputs": [],
   "source": [
    "with open('config/data-params.json', 'r') as fh:\n",
    "    data_params = json.load(fh)"
   ]
  },
  {
   "cell_type": "code",
   "execution_count": 3,
   "id": "3fc85094",
   "metadata": {},
   "outputs": [],
   "source": [
    "from src.etl import *"
   ]
  },
  {
   "cell_type": "code",
   "execution_count": 4,
   "id": "a71d5d1f",
   "metadata": {},
   "outputs": [
    {
     "data": {
      "text/plain": [
       "(array([[ 59,  43,  50, ..., 140,  84,  72],\n",
       "        [154, 126, 105, ..., 139, 142, 144],\n",
       "        [255, 253, 253, ...,  83,  83,  84],\n",
       "        ...,\n",
       "        [ 35,  40,  42, ...,  77,  66,  50],\n",
       "        [189, 186, 185, ..., 169, 171, 171],\n",
       "        [229, 236, 234, ..., 173, 162, 161]], dtype=uint8),\n",
       " array([6, 9, 9, ..., 9, 1, 1]),\n",
       " array([[158, 159, 165, ..., 124, 129, 110],\n",
       "        [235, 231, 232, ..., 178, 191, 199],\n",
       "        [158, 158, 139, ...,   8,   3,   7],\n",
       "        ...,\n",
       "        [ 20,  19,  15, ...,  50,  53,  47],\n",
       "        [ 25,  15,  23, ...,  80,  81,  80],\n",
       "        [ 73,  98,  99, ...,  94,  58,  26]], dtype=uint8),\n",
       " array([3, 8, 8, ..., 5, 1, 7]))"
      ]
     },
     "execution_count": 4,
     "metadata": {},
     "output_type": "execute_result"
    }
   ],
   "source": [
    "getData(**data_params)"
   ]
  },
  {
   "cell_type": "code",
   "execution_count": 5,
   "id": "f5191878",
   "metadata": {},
   "outputs": [],
   "source": [
    "train_data, train_label, test_data, test_label = getData(**data_params)"
   ]
  },
  {
   "cell_type": "code",
   "execution_count": 6,
   "id": "8c1b59b9",
   "metadata": {},
   "outputs": [],
   "source": [
    "with open('config/model-params.json', 'r') as fh:\n",
    "    model_params = json.load(fh)"
   ]
  },
  {
   "cell_type": "code",
   "execution_count": 7,
   "id": "2c6ee8cf",
   "metadata": {},
   "outputs": [],
   "source": [
    "from src.classifier import *"
   ]
  },
  {
   "cell_type": "code",
   "execution_count": 8,
   "id": "8c46da33",
   "metadata": {},
   "outputs": [],
   "source": [
    "clf = clf_build(train_data, train_label, \"RandomForestClassifier\")"
   ]
  },
  {
   "cell_type": "code",
   "execution_count": 9,
   "id": "bcc7e551",
   "metadata": {},
   "outputs": [
    {
     "name": "stdout",
     "output_type": "stream",
     "text": [
      "              precision    recall  f1-score   support\n",
      "\n",
      "           0       0.54      0.56      0.55      1000\n",
      "           1       0.52      0.54      0.53      1000\n",
      "           2       0.37      0.33      0.35      1000\n",
      "           3       0.35      0.29      0.32      1000\n",
      "           4       0.39      0.39      0.39      1000\n",
      "           5       0.42      0.39      0.40      1000\n",
      "           6       0.47      0.56      0.51      1000\n",
      "           7       0.51      0.45      0.47      1000\n",
      "           8       0.58      0.61      0.59      1000\n",
      "           9       0.48      0.55      0.51      1000\n",
      "\n",
      "    accuracy                           0.47     10000\n",
      "   macro avg       0.46      0.47      0.46     10000\n",
      "weighted avg       0.46      0.47      0.46     10000\n",
      "\n"
     ]
    },
    {
     "data": {
      "text/plain": [
       "array([3, 8, 8, ..., 5, 5, 7])"
      ]
     },
     "execution_count": 9,
     "metadata": {},
     "output_type": "execute_result"
    }
   ],
   "source": [
    "clf_predict(clf, test_data, test_label, \"data/out/intial_preds.csv\")"
   ]
  },
  {
   "cell_type": "code",
   "execution_count": 10,
   "id": "c8696f68",
   "metadata": {},
   "outputs": [],
   "source": [
    "from src.color_transform import *"
   ]
  },
  {
   "cell_type": "code",
   "execution_count": 11,
   "id": "fb615958",
   "metadata": {},
   "outputs": [],
   "source": [
    "X_train_gray = grayscale(train_data, 'X_train_gray')\n",
    "X_test_gray = grayscale(test_data, 'X_test_gray')"
   ]
  },
  {
   "cell_type": "code",
   "execution_count": 12,
   "id": "0232e901",
   "metadata": {},
   "outputs": [
    {
     "data": {
      "text/plain": [
       "(10000, 3072)"
      ]
     },
     "execution_count": 12,
     "metadata": {},
     "output_type": "execute_result"
    }
   ],
   "source": [
    "X_test_gray.shape"
   ]
  },
  {
   "cell_type": "code",
   "execution_count": 13,
   "id": "710efc92",
   "metadata": {},
   "outputs": [
    {
     "name": "stdout",
     "output_type": "stream",
     "text": [
      "              precision    recall  f1-score   support\n",
      "\n",
      "           0       0.39      0.40      0.39      1000\n",
      "           1       0.39      0.51      0.44      1000\n",
      "           2       0.29      0.34      0.31      1000\n",
      "           3       0.27      0.28      0.27      1000\n",
      "           4       0.33      0.29      0.31      1000\n",
      "           5       0.35      0.39      0.37      1000\n",
      "           6       0.44      0.24      0.31      1000\n",
      "           7       0.52      0.31      0.39      1000\n",
      "           8       0.43      0.49      0.46      1000\n",
      "           9       0.42      0.50      0.46      1000\n",
      "\n",
      "    accuracy                           0.38     10000\n",
      "   macro avg       0.38      0.38      0.37     10000\n",
      "weighted avg       0.38      0.38      0.37     10000\n",
      "\n"
     ]
    },
    {
     "data": {
      "text/plain": [
       "array([2, 8, 8, ..., 3, 5, 7])"
      ]
     },
     "execution_count": 13,
     "metadata": {},
     "output_type": "execute_result"
    }
   ],
   "source": [
    "clf_predict(clf, X_test_gray, test_label, \"data/out/grayscale_preds.csv\")"
   ]
  },
  {
   "cell_type": "code",
   "execution_count": 14,
   "id": "f1f9d57f",
   "metadata": {},
   "outputs": [
    {
     "data": {
      "text/plain": [
       "(10000, 3072)"
      ]
     },
     "execution_count": 14,
     "metadata": {},
     "output_type": "execute_result"
    }
   ],
   "source": [
    "X_test_gray.shape"
   ]
  },
  {
   "cell_type": "code",
   "execution_count": 15,
   "id": "1b338698",
   "metadata": {},
   "outputs": [],
   "source": [
    "sample1 = np.random.randint(50000, size = 5000)\n",
    "sample2 = np.random.randint(50000, size = 5000)"
   ]
  },
  {
   "cell_type": "code",
   "execution_count": 16,
   "id": "feb83d67",
   "metadata": {},
   "outputs": [],
   "source": [
    "Xt = train_data[sample1]\n",
    "Xs = X_train_gray[sample2]"
   ]
  },
  {
   "cell_type": "code",
   "execution_count": 17,
   "id": "0dbd42aa",
   "metadata": {},
   "outputs": [
    {
     "data": {
      "text/plain": [
       "(5000, 3072)"
      ]
     },
     "execution_count": 17,
     "metadata": {},
     "output_type": "execute_result"
    }
   ],
   "source": [
    "Xt.shape"
   ]
  },
  {
   "cell_type": "code",
   "execution_count": 18,
   "id": "4461bf23",
   "metadata": {},
   "outputs": [],
   "source": [
    "import ot"
   ]
  },
  {
   "cell_type": "code",
   "execution_count": 19,
   "id": "d007e387",
   "metadata": {},
   "outputs": [
    {
     "name": "stderr",
     "output_type": "stream",
     "text": [
      "c:\\users\\bill chen\\appdata\\local\\programs\\python\\python38\\lib\\site-packages\\ot\\bregman.py:517: UserWarning: Sinkhorn did not converge. You might want to increase the number of iterations `numItermax` or the regularization parameter `reg`.\n",
      "  warnings.warn(\"Sinkhorn did not converge. You might want to \"\n"
     ]
    },
    {
     "data": {
      "text/plain": [
       "<ot.da.SinkhornTransport at 0x1c243ae3370>"
      ]
     },
     "execution_count": 19,
     "metadata": {},
     "output_type": "execute_result"
    }
   ],
   "source": [
    " # EMDTransport\n",
    "ot_emd = ot.da.EMDTransport()\n",
    "ot_emd.fit(Xs=Xs, Xt=Xt)\n",
    "\n",
    "# SinkhornTransport\n",
    "ot_sinkhorn = ot.da.SinkhornTransport(reg_e=1e-1)\n",
    "ot_sinkhorn.fit(Xs=Xs, Xt=Xt)"
   ]
  },
  {
   "cell_type": "code",
   "execution_count": 20,
   "id": "bf3c514d",
   "metadata": {},
   "outputs": [],
   "source": [
    "X_test_ot = ot_emd.transform(X_test_gray)"
   ]
  },
  {
   "cell_type": "code",
   "execution_count": 21,
   "id": "ba77a8ad",
   "metadata": {},
   "outputs": [
    {
     "data": {
      "text/plain": [
       "array([[118, 118, 123, ...,  66,  74,  58],\n",
       "       [234, 230, 231, ..., 177, 190, 195],\n",
       "       [184, 181, 161, ...,   5,   4,   7],\n",
       "       ...,\n",
       "       [ 16,  15,  13, ...,  26,  27,  24],\n",
       "       [ 32,  25,  32, ..., 109, 109, 107],\n",
       "       [ 76, 102, 104, ..., 112,  65,  26]])"
      ]
     },
     "execution_count": 21,
     "metadata": {},
     "output_type": "execute_result"
    }
   ],
   "source": [
    "X_test_gray"
   ]
  },
  {
   "cell_type": "code",
   "execution_count": 22,
   "id": "3c0d45ab",
   "metadata": {},
   "outputs": [
    {
     "data": {
      "text/plain": [
       "array([[231., 230., 236., ..., 183., 191., 184.],\n",
       "       [ 59.,  53.,  47., ...,  97., 108., 114.],\n",
       "       [137., 133., 111., ..., 149., 166., 170.],\n",
       "       ...,\n",
       "       [ 21.,  21.,  18., ...,   0.,   1.,   2.],\n",
       "       [ 85.,  81., 104., ...,  74.,  75.,  66.],\n",
       "       [ 24.,  59.,  75., ...,  21.,  28., -32.]])"
      ]
     },
     "execution_count": 22,
     "metadata": {},
     "output_type": "execute_result"
    }
   ],
   "source": [
    "X_test_ot"
   ]
  },
  {
   "cell_type": "code",
   "execution_count": 23,
   "id": "06f2bbf1",
   "metadata": {},
   "outputs": [
    {
     "name": "stdout",
     "output_type": "stream",
     "text": [
      "              precision    recall  f1-score   support\n",
      "\n",
      "           0       0.12      0.09      0.11      1000\n",
      "           1       0.16      0.25      0.20      1000\n",
      "           2       0.11      0.07      0.08      1000\n",
      "           3       0.13      0.16      0.15      1000\n",
      "           4       0.13      0.08      0.10      1000\n",
      "           5       0.14      0.19      0.16      1000\n",
      "           6       0.15      0.15      0.15      1000\n",
      "           7       0.14      0.11      0.12      1000\n",
      "           8       0.13      0.09      0.11      1000\n",
      "           9       0.13      0.18      0.16      1000\n",
      "\n",
      "    accuracy                           0.14     10000\n",
      "   macro avg       0.13      0.14      0.13     10000\n",
      "weighted avg       0.13      0.14      0.13     10000\n",
      "\n"
     ]
    },
    {
     "data": {
      "text/plain": [
       "array([8, 5, 1, ..., 5, 4, 6])"
      ]
     },
     "execution_count": 23,
     "metadata": {},
     "output_type": "execute_result"
    }
   ],
   "source": [
    "clf_predict(clf, X_test_ot, test_label, \"data/out/ot_preds.csv\")"
   ]
  },
  {
   "cell_type": "code",
   "execution_count": 24,
   "id": "818b4e6a",
   "metadata": {},
   "outputs": [],
   "source": [
    "X_test_ot = ot_sinkhorn.transform(X_test_gray)"
   ]
  },
  {
   "cell_type": "code",
   "execution_count": 26,
   "id": "da7df208",
   "metadata": {},
   "outputs": [
    {
     "data": {
      "text/plain": [
       "array([[158, 159, 165, ..., 124, 129, 110],\n",
       "       [235, 231, 232, ..., 178, 191, 199],\n",
       "       [158, 158, 139, ...,   8,   3,   7],\n",
       "       ...,\n",
       "       [ 20,  19,  15, ...,  50,  53,  47],\n",
       "       [ 25,  15,  23, ...,  80,  81,  80],\n",
       "       [ 73,  98,  99, ...,  94,  58,  26]], dtype=uint8)"
      ]
     },
     "execution_count": 26,
     "metadata": {},
     "output_type": "execute_result"
    }
   ],
   "source": [
    "test_data"
   ]
  },
  {
   "cell_type": "code",
   "execution_count": 27,
   "id": "6048d8c2",
   "metadata": {},
   "outputs": [
    {
     "data": {
      "text/plain": [
       "array([[ 99.91419482, 102.53791896, 109.34526314, ...,  44.50866223,\n",
       "         52.18478428,  40.13832573],\n",
       "       [177.07102043, 171.57569286, 171.36466427, ..., 198.29325619,\n",
       "        207.55953129, 212.85831302],\n",
       "       [153.22426184, 145.69960053, 121.3872964 , ...,  81.25718806,\n",
       "         88.03215711,  97.08957515],\n",
       "       ...,\n",
       "       [ 83.01601243,  82.64213095,  80.07430433, ...,  70.66539863,\n",
       "         71.37579723,  72.95171452],\n",
       "       [ 83.68845909,  74.4111461 ,  81.98605099, ...,  94.91278141,\n",
       "         92.54358023,  88.506044  ],\n",
       "       [ 91.26685285, 113.87199121, 109.53617096, ...,  82.29664532,\n",
       "         66.99965502,  21.97362248]])"
      ]
     },
     "execution_count": 27,
     "metadata": {},
     "output_type": "execute_result"
    }
   ],
   "source": [
    "X_test_ot"
   ]
  }
 ],
 "metadata": {
  "kernelspec": {
   "display_name": "Python 3 (ipykernel)",
   "language": "python",
   "name": "python3"
  },
  "language_info": {
   "codemirror_mode": {
    "name": "ipython",
    "version": 3
   },
   "file_extension": ".py",
   "mimetype": "text/x-python",
   "name": "python",
   "nbconvert_exporter": "python",
   "pygments_lexer": "ipython3",
   "version": "3.8.5"
  }
 },
 "nbformat": 4,
 "nbformat_minor": 5
}
