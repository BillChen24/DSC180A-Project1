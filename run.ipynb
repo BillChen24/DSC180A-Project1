{
 "cells": [
  {
   "cell_type": "code",
   "execution_count": 1,
   "id": "dd647a7c",
   "metadata": {},
   "outputs": [],
   "source": [
    "import json"
   ]
  },
  {
   "cell_type": "code",
   "execution_count": 2,
   "id": "7fea8bb6",
   "metadata": {},
   "outputs": [
    {
     "data": {
      "text/plain": [
       "'C:\\\\Users\\\\Bill Chen\\\\Desktop\\\\UCSD Course\\\\DSC180A\\\\DSC180A-Project1'"
      ]
     },
     "execution_count": 2,
     "metadata": {},
     "output_type": "execute_result"
    }
   ],
   "source": [
    "%pwd"
   ]
  },
  {
   "cell_type": "code",
   "execution_count": 5,
   "id": "9ea33928",
   "metadata": {},
   "outputs": [],
   "source": [
    "with open('config/data-params.json', 'r') as fh:\n",
    "    params = json.load(fh)"
   ]
  },
  {
   "cell_type": "code",
   "execution_count": 6,
   "id": "84dc7900",
   "metadata": {},
   "outputs": [
    {
     "data": {
      "text/plain": [
       "{'outdir': './data/raw/',\n",
       " 'train_data': ['X_1.npy', 'X_2.npy', 'X_3.npy', 'X_4.npy', 'X_5.npy'],\n",
       " 'train_label': ['y_1.npy', 'y_2.npy', 'y_3.npy', 'y_4.npy', 'y_5.npy'],\n",
       " 'test_data': ['X_test.npy'],\n",
       " 'test_label': ['y_test.npy']}"
      ]
     },
     "execution_count": 6,
     "metadata": {},
     "output_type": "execute_result"
    }
   ],
   "source": [
    "params"
   ]
  },
  {
   "cell_type": "code",
   "execution_count": 7,
   "id": "4b4d3518",
   "metadata": {},
   "outputs": [],
   "source": [
    "import src.etl"
   ]
  },
  {
   "cell_type": "code",
   "execution_count": 8,
   "id": "f5191878",
   "metadata": {},
   "outputs": [],
   "source": [
    "train_data, train_label, test_data, test_label = src.etl.getData(**params)"
   ]
  },
  {
   "cell_type": "code",
   "execution_count": 9,
   "id": "c59b1d46",
   "metadata": {},
   "outputs": [
    {
     "data": {
      "text/plain": [
       "array([[ 59,  43,  50, ..., 140,  84,  72],\n",
       "       [154, 126, 105, ..., 139, 142, 144],\n",
       "       [255, 253, 253, ...,  83,  83,  84],\n",
       "       ...,\n",
       "       [ 35,  40,  42, ...,  77,  66,  50],\n",
       "       [189, 186, 185, ..., 169, 171, 171],\n",
       "       [229, 236, 234, ..., 173, 162, 161]], dtype=uint8)"
      ]
     },
     "execution_count": 9,
     "metadata": {},
     "output_type": "execute_result"
    }
   ],
   "source": [
    "train_data"
   ]
  },
  {
   "cell_type": "code",
   "execution_count": 10,
   "id": "d014f0cf",
   "metadata": {},
   "outputs": [
    {
     "data": {
      "text/plain": [
       "array([6, 9, 9, ..., 9, 1, 1])"
      ]
     },
     "execution_count": 10,
     "metadata": {},
     "output_type": "execute_result"
    }
   ],
   "source": [
    "train_label"
   ]
  },
  {
   "cell_type": "code",
   "execution_count": 11,
   "id": "ac1ecc29",
   "metadata": {},
   "outputs": [
    {
     "data": {
      "text/plain": [
       "array([[158, 159, 165, ..., 124, 129, 110],\n",
       "       [235, 231, 232, ..., 178, 191, 199],\n",
       "       [158, 158, 139, ...,   8,   3,   7],\n",
       "       ...,\n",
       "       [ 20,  19,  15, ...,  50,  53,  47],\n",
       "       [ 25,  15,  23, ...,  80,  81,  80],\n",
       "       [ 73,  98,  99, ...,  94,  58,  26]], dtype=uint8)"
      ]
     },
     "execution_count": 11,
     "metadata": {},
     "output_type": "execute_result"
    }
   ],
   "source": [
    "test_data"
   ]
  },
  {
   "cell_type": "code",
   "execution_count": 12,
   "id": "b7996668",
   "metadata": {},
   "outputs": [
    {
     "data": {
      "text/plain": [
       "array([3, 8, 8, ..., 5, 1, 7])"
      ]
     },
     "execution_count": 12,
     "metadata": {},
     "output_type": "execute_result"
    }
   ],
   "source": [
    "test_label"
   ]
  },
  {
   "cell_type": "code",
   "execution_count": 13,
   "id": "f3e91020",
   "metadata": {},
   "outputs": [
    {
     "data": {
      "text/plain": [
       "array([[0.23137255, 0.16862745, 0.19607843, ..., 0.54901961, 0.32941176,\n",
       "        0.28235294],\n",
       "       [0.60392157, 0.49411765, 0.41176471, ..., 0.54509804, 0.55686275,\n",
       "        0.56470588],\n",
       "       [1.        , 0.99215686, 0.99215686, ..., 0.3254902 , 0.3254902 ,\n",
       "        0.32941176],\n",
       "       ...,\n",
       "       [0.1372549 , 0.15686275, 0.16470588, ..., 0.30196078, 0.25882353,\n",
       "        0.19607843],\n",
       "       [0.74117647, 0.72941176, 0.7254902 , ..., 0.6627451 , 0.67058824,\n",
       "        0.67058824],\n",
       "       [0.89803922, 0.9254902 , 0.91764706, ..., 0.67843137, 0.63529412,\n",
       "        0.63137255]])"
      ]
     },
     "execution_count": 13,
     "metadata": {},
     "output_type": "execute_result"
    }
   ],
   "source": [
    "train_data/255"
   ]
  },
  {
   "cell_type": "code",
   "execution_count": 19,
   "id": "bc749f59",
   "metadata": {},
   "outputs": [
    {
     "data": {
      "text/plain": [
       "array([[ 59,  43,  50, ..., 140,  84,  72],\n",
       "       [154, 126, 105, ..., 139, 142, 144],\n",
       "       [255, 253, 253, ...,  83,  83,  84],\n",
       "       ...,\n",
       "       [ 35,  40,  42, ...,  77,  66,  50],\n",
       "       [189, 186, 185, ..., 169, 171, 171],\n",
       "       [229, 236, 234, ..., 173, 162, 161]], dtype=uint8)"
      ]
     },
     "execution_count": 19,
     "metadata": {},
     "output_type": "execute_result"
    }
   ],
   "source": [
    "train_data"
   ]
  },
  {
   "cell_type": "code",
   "execution_count": 15,
   "id": "1a324ea7",
   "metadata": {},
   "outputs": [],
   "source": [
    "from tensorflow import keras"
   ]
  },
  {
   "cell_type": "code",
   "execution_count": 46,
   "id": "5d646651",
   "metadata": {},
   "outputs": [],
   "source": [
    "from sklearn.ensemble import RandomForestClassifier\n",
    "from sklearn.metrics import accuracy_score,confusion_matrix,classification_report"
   ]
  },
  {
   "cell_type": "code",
   "execution_count": 43,
   "id": "55bc57a2",
   "metadata": {},
   "outputs": [],
   "source": [
    "model=RandomForestClassifier()"
   ]
  },
  {
   "cell_type": "code",
   "execution_count": 44,
   "id": "b0dc04c1",
   "metadata": {},
   "outputs": [
    {
     "data": {
      "text/plain": [
       "RandomForestClassifier()"
      ]
     },
     "execution_count": 44,
     "metadata": {},
     "output_type": "execute_result"
    }
   ],
   "source": [
    "model.fit(train_data, train_label)"
   ]
  },
  {
   "cell_type": "code",
   "execution_count": 45,
   "id": "01128a63",
   "metadata": {},
   "outputs": [],
   "source": [
    "predictions = model.predict(test_data)"
   ]
  },
  {
   "cell_type": "code",
   "execution_count": 49,
   "id": "05063100",
   "metadata": {},
   "outputs": [
    {
     "name": "stdout",
     "output_type": "stream",
     "text": [
      "              precision    recall  f1-score   support\n",
      "\n",
      "           0       0.58      0.55      0.56      1050\n",
      "           1       0.56      0.52      0.54      1059\n",
      "           2       0.33      0.37      0.35       887\n",
      "           3       0.27      0.33      0.30       810\n",
      "           4       0.41      0.40      0.40      1013\n",
      "           5       0.39      0.43      0.41       909\n",
      "           6       0.55      0.47      0.51      1176\n",
      "           7       0.45      0.51      0.48       884\n",
      "           8       0.62      0.59      0.60      1050\n",
      "           9       0.56      0.48      0.52      1162\n",
      "\n",
      "    accuracy                           0.47     10000\n",
      "   macro avg       0.47      0.47      0.47     10000\n",
      "weighted avg       0.48      0.47      0.48     10000\n",
      "\n"
     ]
    }
   ],
   "source": [
    "accuracy_score(predictions,test_label)\n",
    "print(classification_report(predictions,test_label))"
   ]
  },
  {
   "cell_type": "code",
   "execution_count": null,
   "id": "7725e8f5",
   "metadata": {},
   "outputs": [],
   "source": []
  }
 ],
 "metadata": {
  "kernelspec": {
   "display_name": "Python 3 (ipykernel)",
   "language": "python",
   "name": "python3"
  },
  "language_info": {
   "codemirror_mode": {
    "name": "ipython",
    "version": 3
   },
   "file_extension": ".py",
   "mimetype": "text/x-python",
   "name": "python",
   "nbconvert_exporter": "python",
   "pygments_lexer": "ipython3",
   "version": "3.8.5"
  }
 },
 "nbformat": 4,
 "nbformat_minor": 5
}
