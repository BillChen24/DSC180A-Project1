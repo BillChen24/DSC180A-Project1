{
 "cells": [
  {
   "cell_type": "code",
   "execution_count": 1,
   "id": "cfb2bfea",
   "metadata": {},
   "outputs": [],
   "source": [
    "import json\n",
    "import matplotlib.pyplot as plt\n",
    "from src.etl import *\n",
    "from src.color_transform import *\n",
    "from src.visualize import *\n",
    "from src.optimal_transport import *\n",
    "import ot"
   ]
  },
  {
   "cell_type": "code",
   "execution_count": 2,
   "id": "a43fd72b",
   "metadata": {},
   "outputs": [],
   "source": [
    "with open('config/data-params.json', 'r') as fh:\n",
    "    data_params = json.load(fh)"
   ]
  },
  {
   "cell_type": "code",
   "execution_count": 3,
   "id": "916b8120",
   "metadata": {},
   "outputs": [],
   "source": [
    "train_data, train_label, test_data, test_label = getData(**data_params)"
   ]
  },
  {
   "cell_type": "code",
   "execution_count": 6,
   "id": "38e9093c",
   "metadata": {},
   "outputs": [
    {
     "data": {
      "text/plain": [
       "5000"
      ]
     },
     "execution_count": 6,
     "metadata": {},
     "output_type": "execute_result"
    }
   ],
   "source": [
    "len(test_data)"
   ]
  },
  {
   "cell_type": "markdown",
   "id": "4e8292d6",
   "metadata": {},
   "source": [
    "# Visualizing Single Image From CIFAR-10 Dataset"
   ]
  },
  {
   "cell_type": "code",
   "execution_count": null,
   "id": "44e62449",
   "metadata": {},
   "outputs": [],
   "source": [
    "x0 = train_data[0]\n",
    "y0 = train_label[0]"
   ]
  },
  {
   "cell_type": "code",
   "execution_count": null,
   "id": "5666bd8f",
   "metadata": {},
   "outputs": [],
   "source": [
    "x0"
   ]
  },
  {
   "cell_type": "code",
   "execution_count": null,
   "id": "d1d5486b",
   "metadata": {},
   "outputs": [],
   "source": [
    "plot_image(x0, y0)"
   ]
  },
  {
   "cell_type": "code",
   "execution_count": null,
   "id": "5f2ff144",
   "metadata": {},
   "outputs": [],
   "source": [
    "X_train_gray = grayscale(train_data, 'X_train_gray')\n",
    "X_test_gray = grayscale(test_data, 'X_test_gray')"
   ]
  },
  {
   "cell_type": "code",
   "execution_count": null,
   "id": "b22d76cc",
   "metadata": {},
   "outputs": [],
   "source": [
    "xg0 = X_train_gray[0]"
   ]
  },
  {
   "cell_type": "code",
   "execution_count": null,
   "id": "bdf5dd50",
   "metadata": {},
   "outputs": [],
   "source": [
    "xg0"
   ]
  },
  {
   "cell_type": "code",
   "execution_count": null,
   "id": "600814ac",
   "metadata": {},
   "outputs": [],
   "source": [
    "plot_image(xg0)"
   ]
  },
  {
   "cell_type": "code",
   "execution_count": null,
   "id": "3deecbf3",
   "metadata": {},
   "outputs": [],
   "source": []
  },
  {
   "cell_type": "code",
   "execution_count": null,
   "id": "69a7393d",
   "metadata": {},
   "outputs": [],
   "source": [
    "t1, s1 = sample_color_with_class(X_train=train_data, y_train=train_label, X_gray=X_train_gray, n = 1000, class_label=6)"
   ]
  },
  {
   "cell_type": "code",
   "execution_count": null,
   "id": "e9d62695",
   "metadata": {},
   "outputs": [],
   "source": [
    "t1.shape"
   ]
  },
  {
   "cell_type": "code",
   "execution_count": null,
   "id": "c789ebec",
   "metadata": {},
   "outputs": [],
   "source": [
    "color_transform = color_ot_build(X_source=s1, X_target=t1)"
   ]
  },
  {
   "cell_type": "code",
   "execution_count": null,
   "id": "685a3191",
   "metadata": {},
   "outputs": [],
   "source": [
    "color_transform"
   ]
  },
  {
   "cell_type": "code",
   "execution_count": null,
   "id": "7e172d97",
   "metadata": {},
   "outputs": [],
   "source": [
    "xg0_transformed = color_ot_transform(xg0, color_transform)"
   ]
  },
  {
   "cell_type": "code",
   "execution_count": null,
   "id": "d29300b7",
   "metadata": {},
   "outputs": [],
   "source": [
    "xg0_transformed"
   ]
  },
  {
   "cell_type": "code",
   "execution_count": null,
   "id": "dc35d19a",
   "metadata": {},
   "outputs": [],
   "source": [
    "plot_image(xg0_transformed)"
   ]
  }
 ],
 "metadata": {
  "kernelspec": {
   "display_name": "Python 3 (ipykernel)",
   "language": "python",
   "name": "python3"
  },
  "language_info": {
   "codemirror_mode": {
    "name": "ipython",
    "version": 3
   },
   "file_extension": ".py",
   "mimetype": "text/x-python",
   "name": "python",
   "nbconvert_exporter": "python",
   "pygments_lexer": "ipython3",
   "version": "3.8.5"
  }
 },
 "nbformat": 4,
 "nbformat_minor": 5
}
