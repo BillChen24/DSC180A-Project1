{
 "cells": [
  {
   "cell_type": "code",
   "execution_count": 1,
   "id": "e23e27dd-4d33-4424-8279-645407afa72e",
   "metadata": {},
   "outputs": [],
   "source": [
    "%load_ext autoreload\n",
    "%autoreload 2"
   ]
  },
  {
   "cell_type": "code",
   "execution_count": 2,
   "id": "25a61571-84a1-488c-b463-d93a48349f97",
   "metadata": {},
   "outputs": [
    {
     "name": "stderr",
     "output_type": "stream",
     "text": [
      "/Library/Frameworks/Python.framework/Versions/3.10/lib/python3.10/site-packages/tqdm/auto.py:22: TqdmWarning: IProgress not found. Please update jupyter and ipywidgets. See https://ipywidgets.readthedocs.io/en/stable/user_install.html\n",
      "  from .autonotebook import tqdm as notebook_tqdm\n"
     ]
    }
   ],
   "source": [
    "import numpy as np\n",
    "from src import classifier\n",
    "from src.classifier import *\n",
    "import json\n",
    "from src.etl import *\n",
    "import pickle\n",
    "import run\n",
    "from run import *\n",
    "\n",
    "import pandas as pd\n",
    "from sklearn.ensemble import RandomForestClassifier\n",
    "from sklearn.linear_model import LogisticRegression\n",
    "from sklearn.metrics import accuracy_score,confusion_matrix,classification_report\n",
    "from sklearn.model_selection import train_test_split"
   ]
  },
  {
   "cell_type": "markdown",
   "id": "83b3d18d-3dd9-442b-89ac-e3a1386dd2f3",
   "metadata": {},
   "source": [
    "### In Command Line"
   ]
  },
  {
   "cell_type": "code",
   "execution_count": 104,
   "id": "878ba1d2-4e85-4e66-95af-b5ca1c3e7343",
   "metadata": {
    "tags": []
   },
   "outputs": [
    {
     "name": "stdout",
     "output_type": "stream",
     "text": [
      "['all', 'prediction_table']\n",
      "load all data\n",
      "(25000, 3072) (5000, 3072)\n",
      "train_data: 25000 test data: 5000\n",
      "Read Pre Trained Best Model\n",
      "Performance on Training Set\n",
      "              precision    recall  f1-score   support\n",
      "\n",
      "           2       0.97      0.99      0.98      4929\n",
      "           4       0.98      0.99      0.99      4978\n",
      "           5       0.99      0.98      0.98      5019\n",
      "           6       0.99      0.98      0.98      5058\n",
      "           7       0.99      0.98      0.98      5016\n",
      "\n",
      "    accuracy                           0.98     25000\n",
      "   macro avg       0.98      0.98      0.98     25000\n",
      "weighted avg       0.98      0.98      0.98     25000\n",
      "\n",
      "Performance on Test Set\n",
      "              precision    recall  f1-score   support\n",
      "\n",
      "           2       0.47      0.49      0.48       964\n",
      "           4       0.42      0.47      0.44       891\n",
      "           5       0.54      0.57      0.56       942\n",
      "           6       0.66      0.55      0.60      1194\n",
      "           7       0.62      0.61      0.62      1009\n",
      "\n",
      "    accuracy                           0.54      5000\n",
      "   macro avg       0.54      0.54      0.54      5000\n",
      "weighted avg       0.55      0.54      0.54      5000\n",
      "\n",
      "use input model\n",
      "use input model\n",
      "Prediction Table on Test set saved at result/prediction_original.csv\n",
      "use input model\n",
      "prediction table save to result/transformer_without_class_transformed.csv\n",
      "use input model\n",
      "prediction table save to result/transformer_without_class_transformed_1000.csv\n",
      "use input model\n",
      "prediction table save to result/transformer_with_class_transformed_2.csv\n",
      "use input model\n",
      "prediction table save to result/transformer_with_class_transformed_4.csv\n",
      "use input model\n",
      "prediction table save to result/transformer_with_class_transformed_5.csv\n",
      "use input model\n",
      "prediction table save to result/transformer_with_class_transformed_6.csv\n",
      "use input model\n",
      "prediction table save to result/transformer_with_class_transformed_7.csv\n"
     ]
    }
   ],
   "source": [
    "!python3 run.py all prediction_table"
   ]
  },
  {
   "cell_type": "code",
   "execution_count": 125,
   "id": "0745c79a-0d2a-424e-bb40-7c629e7cafd3",
   "metadata": {},
   "outputs": [
    {
     "name": "stdout",
     "output_type": "stream",
     "text": [
      "['test']\n",
      "load test data\n",
      "train_data: 25 test data: 25\n",
      "Read Pre Trained Best Model\n",
      "Performance on Training Set\n",
      "              precision    recall  f1-score   support\n",
      "\n",
      "           2       1.00      1.00      1.00         5\n",
      "           4       1.00      1.00      1.00         5\n",
      "           5       1.00      1.00      1.00         5\n",
      "           6       1.00      1.00      1.00         5\n",
      "           7       1.00      1.00      1.00         5\n",
      "\n",
      "    accuracy                           1.00        25\n",
      "   macro avg       1.00      1.00      1.00        25\n",
      "weighted avg       1.00      1.00      1.00        25\n",
      "\n",
      "Performance on Test Set\n",
      "              precision    recall  f1-score   support\n",
      "\n",
      "           2       1.00      1.00      1.00         5\n",
      "           4       1.00      1.00      1.00         5\n",
      "           5       1.00      1.00      1.00         5\n",
      "           6       1.00      1.00      1.00         5\n",
      "           7       1.00      1.00      1.00         5\n",
      "\n",
      "    accuracy                           1.00        25\n",
      "   macro avg       1.00      1.00      1.00        25\n",
      "weighted avg       1.00      1.00      1.00        25\n",
      "\n",
      "use input model\n",
      "use input model\n",
      "Prediction Table on Test set saved at result/prediction_original.csv\n",
      "Use test trans data\n",
      "Performance on Data  result/transformer_without_class_transformed.\n",
      "              precision    recall  f1-score   support\n",
      "\n",
      "           2       0.20      0.50      0.29         2\n",
      "           4       0.00      0.00      0.00         3\n",
      "           5       0.20      0.12      0.15         8\n",
      "           6       0.80      0.44      0.57         9\n",
      "           7       0.00      0.00      0.00         3\n",
      "\n",
      "    accuracy                           0.24        25\n",
      "   macro avg       0.24      0.21      0.20        25\n",
      "weighted avg       0.37      0.24      0.28        25\n",
      "\n",
      "Performance on Data  result/transformer_with_class_transformed_2.\n",
      "              precision    recall  f1-score   support\n",
      "\n",
      "           2       0.40      0.40      0.40         5\n",
      "           4       0.00      0.00      0.00         5\n",
      "           5       0.20      0.25      0.22         4\n",
      "           6       0.00      0.00      0.00         3\n",
      "           7       0.60      0.38      0.46         8\n",
      "\n",
      "    accuracy                           0.24        25\n",
      "   macro avg       0.24      0.20      0.22        25\n",
      "weighted avg       0.30      0.24      0.26        25\n",
      "\n",
      "Performance on Data  result/transformer_with_class_transformed_4.\n",
      "/Library/Frameworks/Python.framework/Versions/3.10/lib/python3.10/site-packages/sklearn/metrics/_classification.py:1334: UndefinedMetricWarning: Recall and F-score are ill-defined and being set to 0.0 in labels with no true samples. Use `zero_division` parameter to control this behavior.\n",
      "  _warn_prf(average, modifier, msg_start, len(result))\n",
      "/Library/Frameworks/Python.framework/Versions/3.10/lib/python3.10/site-packages/sklearn/metrics/_classification.py:1334: UndefinedMetricWarning: Recall and F-score are ill-defined and being set to 0.0 in labels with no true samples. Use `zero_division` parameter to control this behavior.\n",
      "  _warn_prf(average, modifier, msg_start, len(result))\n",
      "/Library/Frameworks/Python.framework/Versions/3.10/lib/python3.10/site-packages/sklearn/metrics/_classification.py:1334: UndefinedMetricWarning: Recall and F-score are ill-defined and being set to 0.0 in labels with no true samples. Use `zero_division` parameter to control this behavior.\n",
      "  _warn_prf(average, modifier, msg_start, len(result))\n",
      "              precision    recall  f1-score   support\n",
      "\n",
      "         2.0       0.00      0.00      0.00         4\n",
      "         4.0       0.20      0.10      0.13        10\n",
      "         5.0       0.00      0.00      0.00         0\n",
      "         6.0       0.20      0.12      0.15         8\n",
      "         7.0       0.00      0.00      0.00         3\n",
      "\n",
      "    accuracy                           0.08        25\n",
      "   macro avg       0.08      0.04      0.06        25\n",
      "weighted avg       0.14      0.08      0.10        25\n",
      "\n",
      "Performance on Data  result/transformer_with_class_transformed_5.\n",
      "              precision    recall  f1-score   support\n",
      "\n",
      "           2       0.00      0.00      0.00         2\n",
      "           4       0.20      0.25      0.22         4\n",
      "           5       0.40      0.20      0.27        10\n",
      "           6       0.00      0.00      0.00         4\n",
      "           7       0.40      0.40      0.40         5\n",
      "\n",
      "    accuracy                           0.20        25\n",
      "   macro avg       0.20      0.17      0.18        25\n",
      "weighted avg       0.27      0.20      0.22        25\n",
      "\n",
      "Performance on Data  result/transformer_with_class_transformed_6.\n",
      "/Library/Frameworks/Python.framework/Versions/3.10/lib/python3.10/site-packages/sklearn/metrics/_classification.py:1334: UndefinedMetricWarning: Recall and F-score are ill-defined and being set to 0.0 in labels with no true samples. Use `zero_division` parameter to control this behavior.\n",
      "  _warn_prf(average, modifier, msg_start, len(result))\n",
      "/Library/Frameworks/Python.framework/Versions/3.10/lib/python3.10/site-packages/sklearn/metrics/_classification.py:1334: UndefinedMetricWarning: Recall and F-score are ill-defined and being set to 0.0 in labels with no true samples. Use `zero_division` parameter to control this behavior.\n",
      "  _warn_prf(average, modifier, msg_start, len(result))\n",
      "/Library/Frameworks/Python.framework/Versions/3.10/lib/python3.10/site-packages/sklearn/metrics/_classification.py:1334: UndefinedMetricWarning: Recall and F-score are ill-defined and being set to 0.0 in labels with no true samples. Use `zero_division` parameter to control this behavior.\n",
      "  _warn_prf(average, modifier, msg_start, len(result))\n",
      "              precision    recall  f1-score   support\n",
      "\n",
      "         2.0       0.00      0.00      0.00         4\n",
      "         4.0       0.00      0.00      0.00         3\n",
      "         5.0       0.00      0.00      0.00         0\n",
      "         6.0       0.40      0.13      0.20        15\n",
      "         7.0       0.20      0.33      0.25         3\n",
      "\n",
      "    accuracy                           0.12        25\n",
      "   macro avg       0.12      0.09      0.09        25\n",
      "weighted avg       0.26      0.12      0.15        25\n",
      "\n",
      "Performance on Data  result/transformer_with_class_transformed_7.\n",
      "              precision    recall  f1-score   support\n",
      "\n",
      "           2       0.00      0.00      0.00         5\n",
      "           4       0.00      0.00      0.00         5\n",
      "           5       0.20      0.17      0.18         6\n",
      "           6       0.20      0.25      0.22         4\n",
      "           7       0.20      0.20      0.20         5\n",
      "\n",
      "    accuracy                           0.12        25\n",
      "   macro avg       0.12      0.12      0.12        25\n",
      "weighted avg       0.12      0.12      0.12        25\n",
      "\n"
     ]
    }
   ],
   "source": [
    "!python3 run.py test"
   ]
  },
  {
   "cell_type": "code",
   "execution_count": 382,
   "id": "40ef1935-229e-42d1-9197-002c51d94db3",
   "metadata": {
    "collapsed": true,
    "jupyter": {
     "outputs_hidden": true
    },
    "tags": []
   },
   "outputs": [
    {
     "name": "stdout",
     "output_type": "stream",
     "text": [
      "['all', 'prediction_report']\n",
      "load all data\n",
      "Read Pre Trained Best Model\n",
      "Performance on Training Set\n",
      "              precision    recall  f1-score   support\n",
      "\n",
      "           2       0.97      0.99      0.98      4929\n",
      "           4       0.98      0.99      0.99      4978\n",
      "           5       0.99      0.98      0.98      5019\n",
      "           6       0.99      0.98      0.98      5058\n",
      "           7       0.99      0.98      0.98      5016\n",
      "\n",
      "    accuracy                           0.98     25000\n",
      "   macro avg       0.98      0.98      0.98     25000\n",
      "weighted avg       0.98      0.98      0.98     25000\n",
      "\n",
      "Performance on Test Set\n",
      "              precision    recall  f1-score   support\n",
      "\n",
      "           2       0.47      0.49      0.48       964\n",
      "           4       0.42      0.47      0.44       891\n",
      "           5       0.54      0.57      0.56       942\n",
      "           6       0.66      0.55      0.60      1194\n",
      "           7       0.62      0.61      0.62      1009\n",
      "\n",
      "    accuracy                           0.54      5000\n",
      "   macro avg       0.54      0.54      0.54      5000\n",
      "weighted avg       0.55      0.54      0.54      5000\n",
      "\n",
      "use input model\n",
      "use input model\n",
      "Prediction Table on Test set saved at result/prediction_original.csv\n",
      "Performance on Data  result/transformer_without_class_transformed.\n",
      "              precision    recall  f1-score   support\n",
      "\n",
      "           2       0.23      0.31      0.27       751\n",
      "           4       0.16      0.33      0.22       494\n",
      "           5       0.52      0.32      0.39      1644\n",
      "           6       0.32      0.38      0.35       856\n",
      "           7       0.45      0.36      0.40      1255\n",
      "\n",
      "    accuracy                           0.34      5000\n",
      "   macro avg       0.34      0.34      0.32      5000\n",
      "weighted avg       0.39      0.34      0.35      5000\n",
      "\n",
      "Performance on Data  result/transformer_with_class_transformed_2.\n",
      "              precision    recall  f1-score   support\n",
      "\n",
      "           2       0.34      0.28      0.31      1192\n",
      "           4       0.29      0.31      0.30       933\n",
      "           5       0.36      0.41      0.38       901\n",
      "           6       0.35      0.34      0.34      1019\n",
      "           7       0.35      0.37      0.36       955\n",
      "\n",
      "    accuracy                           0.34      5000\n",
      "   macro avg       0.34      0.34      0.34      5000\n",
      "weighted avg       0.34      0.34      0.34      5000\n",
      "\n",
      "Performance on Data  result/transformer_with_class_transformed_4.\n",
      "              precision    recall  f1-score   support\n",
      "\n",
      "           2       0.28      0.31      0.29       915\n",
      "           4       0.35      0.28      0.31      1267\n",
      "           5       0.23      0.46      0.31       497\n",
      "           6       0.51      0.33      0.40      1559\n",
      "           7       0.31      0.40      0.35       762\n",
      "\n",
      "    accuracy                           0.34      5000\n",
      "   macro avg       0.34      0.36      0.33      5000\n",
      "weighted avg       0.37      0.34      0.34      5000\n",
      "\n",
      "Performance on Data  result/transformer_with_class_transformed_5.\n",
      "              precision    recall  f1-score   support\n",
      "\n",
      "           2       0.18      0.32      0.23       566\n",
      "           4       0.08      0.33      0.13       253\n",
      "           5       0.63      0.29      0.40      2185\n",
      "           6       0.22      0.42      0.28       518\n",
      "           7       0.50      0.34      0.40      1478\n",
      "\n",
      "    accuracy                           0.32      5000\n",
      "   macro avg       0.32      0.34      0.29      5000\n",
      "weighted avg       0.47      0.32      0.35      5000\n",
      "\n",
      "Performance on Data  result/transformer_with_class_transformed_6.\n",
      "              precision    recall  f1-score   support\n",
      "\n",
      "           2       0.19      0.31      0.24       602\n",
      "           4       0.28      0.29      0.29       978\n",
      "           5       0.21      0.47      0.29       446\n",
      "           6       0.70      0.29      0.41      2408\n",
      "           7       0.23      0.41      0.30       566\n",
      "\n",
      "    accuracy                           0.32      5000\n",
      "   macro avg       0.32      0.35      0.30      5000\n",
      "weighted avg       0.46      0.32      0.34      5000\n",
      "\n",
      "Performance on Data  result/transformer_with_class_transformed_7.\n",
      "              precision    recall  f1-score   support\n",
      "\n",
      "           2       0.26      0.34      0.29       761\n",
      "           4       0.12      0.31      0.17       370\n",
      "           5       0.56      0.29      0.38      1931\n",
      "           6       0.17      0.37      0.24       466\n",
      "           7       0.46      0.31      0.37      1472\n",
      "\n",
      "    accuracy                           0.31      5000\n",
      "   macro avg       0.31      0.33      0.29      5000\n",
      "weighted avg       0.42      0.31      0.34      5000\n",
      "\n",
      "Performance on Data  result/transformer_within_class_transformed_2.\n",
      "              precision    recall  f1-score   support\n",
      "\n",
      "           2       0.31      0.28      0.30      1126\n",
      "           4       0.16      0.32      0.21       510\n",
      "           5       0.46      0.32      0.38      1442\n",
      "           6       0.26      0.40      0.31       659\n",
      "           7       0.41      0.33      0.37      1263\n",
      "\n",
      "    accuracy                           0.32      5000\n",
      "   macro avg       0.32      0.33      0.31      5000\n",
      "weighted avg       0.36      0.32      0.33      5000\n",
      "\n",
      "Performance on Data  result/transformer_within_class_transformed_4.\n",
      "              precision    recall  f1-score   support\n",
      "\n",
      "           2       0.34      0.30      0.32      1155\n",
      "           4       0.23      0.26      0.25       900\n",
      "           5       0.32      0.36      0.34       903\n",
      "           6       0.41      0.32      0.36      1297\n",
      "           7       0.25      0.34      0.29       745\n",
      "\n",
      "    accuracy                           0.31      5000\n",
      "   macro avg       0.31      0.31      0.31      5000\n",
      "weighted avg       0.32      0.31      0.31      5000\n",
      "\n",
      "Performance on Data  result/transformer_within_class_transformed_5.\n",
      "              precision    recall  f1-score   support\n",
      "\n",
      "           2       0.20      0.30      0.24       674\n",
      "           4       0.09      0.29      0.13       305\n",
      "           5       0.59      0.27      0.38      2164\n",
      "           6       0.16      0.37      0.22       423\n",
      "           7       0.40      0.28      0.33      1434\n",
      "\n",
      "    accuracy                           0.29      5000\n",
      "   macro avg       0.29      0.30      0.26      5000\n",
      "weighted avg       0.42      0.29      0.32      5000\n",
      "\n",
      "Performance on Data  result/transformer_within_class_transformed_6.\n",
      "              precision    recall  f1-score   support\n",
      "\n",
      "           2       0.26      0.36      0.30       714\n",
      "           4       0.34      0.33      0.34      1039\n",
      "           5       0.26      0.47      0.33       542\n",
      "           6       0.67      0.32      0.44      2071\n",
      "           7       0.27      0.43      0.33       634\n",
      "\n",
      "    accuracy                           0.36      5000\n",
      "   macro avg       0.36      0.38      0.35      5000\n",
      "weighted avg       0.45      0.36      0.37      5000\n",
      "\n",
      "Performance on Data  result/transformer_within_class_transformed_7.\n",
      "              precision    recall  f1-score   support\n",
      "\n",
      "           2       0.19      0.29      0.23       668\n",
      "           4       0.08      0.30      0.12       259\n",
      "           5       0.54      0.26      0.35      2033\n",
      "           6       0.12      0.35      0.18       337\n",
      "           7       0.45      0.26      0.33      1703\n",
      "\n",
      "    accuracy                           0.27      5000\n",
      "   macro avg       0.27      0.29      0.24      5000\n",
      "weighted avg       0.41      0.27      0.31      5000\n",
      "\n"
     ]
    }
   ],
   "source": [
    "!python3 run.py all prediction_report"
   ]
  },
  {
   "cell_type": "code",
   "execution_count": 128,
   "id": "55bd4bb1-486a-4901-9447-209703145b1a",
   "metadata": {
    "tags": []
   },
   "outputs": [
    {
     "name": "stdout",
     "output_type": "stream",
     "text": [
      "['all', 'prediction_report']\n",
      "load all data\n",
      "(25000, 3072) (5000, 3072)\n",
      "train_data: 25000 test data: 5000\n",
      "Read Pre Trained Best Model\n",
      "Performance on Training Set\n",
      "              precision    recall  f1-score   support\n",
      "\n",
      "           2       0.97      0.99      0.98      4929\n",
      "           4       0.98      0.99      0.99      4978\n",
      "           5       0.99      0.98      0.98      5019\n",
      "           6       0.99      0.98      0.98      5058\n",
      "           7       0.99      0.98      0.98      5016\n",
      "\n",
      "    accuracy                           0.98     25000\n",
      "   macro avg       0.98      0.98      0.98     25000\n",
      "weighted avg       0.98      0.98      0.98     25000\n",
      "\n",
      "Performance on Test Set\n",
      "              precision    recall  f1-score   support\n",
      "\n",
      "           2       0.47      0.49      0.48       964\n",
      "           4       0.42      0.47      0.44       891\n",
      "           5       0.54      0.57      0.56       942\n",
      "           6       0.66      0.55      0.60      1194\n",
      "           7       0.62      0.61      0.62      1009\n",
      "\n",
      "    accuracy                           0.54      5000\n",
      "   macro avg       0.54      0.54      0.54      5000\n",
      "weighted avg       0.55      0.54      0.54      5000\n",
      "\n",
      "use input model\n",
      "use input model\n",
      "Prediction Table on Test set saved at result/prediction_original.csv\n",
      "Performance on Data  result/transformer_without_class_transformed.\n",
      "              precision    recall  f1-score   support\n",
      "\n",
      "           2       0.23      0.31      0.27       751\n",
      "           4       0.16      0.33      0.22       494\n",
      "           5       0.52      0.32      0.39      1644\n",
      "           6       0.32      0.38      0.35       856\n",
      "           7       0.45      0.36      0.40      1255\n",
      "\n",
      "    accuracy                           0.34      5000\n",
      "   macro avg       0.34      0.34      0.32      5000\n",
      "weighted avg       0.39      0.34      0.35      5000\n",
      "\n",
      "Performance on Data  result/transformer_without_class_transformed_1000.\n",
      "              precision    recall  f1-score   support\n",
      "\n",
      "           2       0.28      0.31      0.29       885\n",
      "           4       0.17      0.27      0.20       619\n",
      "           5       0.46      0.33      0.39      1402\n",
      "           6       0.33      0.39      0.36       854\n",
      "           7       0.43      0.35      0.38      1240\n",
      "\n",
      "    accuracy                           0.33      5000\n",
      "   macro avg       0.33      0.33      0.32      5000\n",
      "weighted avg       0.36      0.33      0.34      5000\n",
      "\n",
      "Performance on Data  result/transformer_without_class_transformed_3000.\n",
      "              precision    recall  f1-score   support\n",
      "\n",
      "           2       0.25      0.33      0.28       768\n",
      "           4       0.19      0.33      0.24       593\n",
      "           5       0.44      0.34      0.38      1318\n",
      "           6       0.44      0.36      0.40      1216\n",
      "           7       0.38      0.35      0.36      1105\n",
      "\n",
      "    accuracy                           0.34      5000\n",
      "   macro avg       0.34      0.34      0.33      5000\n",
      "weighted avg       0.37      0.34      0.35      5000\n",
      "\n",
      "Performance on Data  result/transformer_with_class_transformed_2.\n",
      "              precision    recall  f1-score   support\n",
      "\n",
      "           2       0.34      0.28      0.31      1192\n",
      "           4       0.29      0.31      0.30       933\n",
      "           5       0.36      0.41      0.38       901\n",
      "           6       0.35      0.34      0.34      1019\n",
      "           7       0.35      0.37      0.36       955\n",
      "\n",
      "    accuracy                           0.34      5000\n",
      "   macro avg       0.34      0.34      0.34      5000\n",
      "weighted avg       0.34      0.34      0.34      5000\n",
      "\n",
      "Performance on Data  result/transformer_with_class_transformed_4.\n",
      "              precision    recall  f1-score   support\n",
      "\n",
      "           2       0.28      0.31      0.29       915\n",
      "           4       0.35      0.28      0.31      1267\n",
      "           5       0.23      0.46      0.31       497\n",
      "           6       0.51      0.33      0.40      1559\n",
      "           7       0.31      0.40      0.35       762\n",
      "\n",
      "    accuracy                           0.34      5000\n",
      "   macro avg       0.34      0.36      0.33      5000\n",
      "weighted avg       0.37      0.34      0.34      5000\n",
      "\n",
      "Performance on Data  result/transformer_with_class_transformed_5.\n",
      "              precision    recall  f1-score   support\n",
      "\n",
      "           2       0.18      0.32      0.23       566\n",
      "           4       0.08      0.33      0.13       253\n",
      "           5       0.63      0.29      0.40      2185\n",
      "           6       0.22      0.42      0.28       518\n",
      "           7       0.50      0.34      0.40      1478\n",
      "\n",
      "    accuracy                           0.32      5000\n",
      "   macro avg       0.32      0.34      0.29      5000\n",
      "weighted avg       0.47      0.32      0.35      5000\n",
      "\n",
      "Performance on Data  result/transformer_with_class_transformed_6.\n",
      "              precision    recall  f1-score   support\n",
      "\n",
      "           2       0.19      0.31      0.24       602\n",
      "           4       0.28      0.29      0.29       978\n",
      "           5       0.21      0.47      0.29       446\n",
      "           6       0.70      0.29      0.41      2408\n",
      "           7       0.23      0.41      0.30       566\n",
      "\n",
      "    accuracy                           0.32      5000\n",
      "   macro avg       0.32      0.35      0.30      5000\n",
      "weighted avg       0.46      0.32      0.34      5000\n",
      "\n",
      "Performance on Data  result/transformer_with_class_transformed_7.\n",
      "              precision    recall  f1-score   support\n",
      "\n",
      "           2       0.26      0.34      0.29       761\n",
      "           4       0.12      0.31      0.17       370\n",
      "           5       0.56      0.29      0.38      1931\n",
      "           6       0.17      0.37      0.24       466\n",
      "           7       0.46      0.31      0.37      1472\n",
      "\n",
      "    accuracy                           0.31      5000\n",
      "   macro avg       0.31      0.33      0.29      5000\n",
      "weighted avg       0.42      0.31      0.34      5000\n",
      "\n"
     ]
    }
   ],
   "source": [
    "!python3 run.py all prediction_report"
   ]
  },
  {
   "cell_type": "code",
   "execution_count": 121,
   "id": "26a8a289-9a68-4552-92b5-c8432f83791f",
   "metadata": {},
   "outputs": [
    {
     "name": "stdout",
     "output_type": "stream",
     "text": [
      "(25000, 3072) (25000,)\n",
      "(25,)\n",
      "(25,)\n",
      "(25,)\n",
      "(25,)\n",
      "(25,)\n",
      "(15360,)\n",
      "(5,)\n",
      "(30720,)\n",
      "(10,)\n",
      "(46080,)\n",
      "(15,)\n",
      "(61440,)\n",
      "(20,)\n",
      "(76800,)\n",
      "(25,)\n"
     ]
    }
   ],
   "source": [
    "with open('config/data-params.json', 'r') as fh:\n",
    "    data_params = json.load(fh)\n",
    "train_data, train_label, test_data, test_label = getData(**data_params)\n",
    "print(train_data.shape, train_label.shape)\n",
    "\n",
    "classes = [2,4,5,6,7]\n",
    "for i in range(1,6):\n",
    "    \n",
    "    np.save(f'test/testdata/X_{i}', train_data[train_label == classes[i-1]][20:25])\n",
    "    np.save(f'test/testdata/y_{i}', train_label[train_label == classes[i-1]][20:25])\n",
    "    print(y.shape)\n",
    "    \n",
    "    \n",
    "classes = [2,4,5,6,7]\n",
    "X = np.array([])\n",
    "y = np.array([])\n",
    "for i in range(1,6):\n",
    "    \n",
    "    X=np.append(X,  train_data[train_label == classes[i-1]][94:99])\n",
    "    print(X.shape)\n",
    "    y=np.append(y,  train_label[train_label == classes[i-1]][94:99])\n",
    "    print(y.shape)\n",
    "X=X.reshape(25,3072)\n",
    "np.save(f'test/testdata/X_test', X)\n",
    "np.save(f'test/testdata/y_test', y)"
   ]
  },
  {
   "cell_type": "code",
   "execution_count": 112,
   "id": "d302720e-793b-4710-ae88-d56aeddb1ecd",
   "metadata": {},
   "outputs": [],
   "source": [
    "return_dic1={'filtered':'data/temp/filtered/filtered.npy',\n",
    "                   'trans_without_class': ['data/temp/transformer_without_class/transformed.npy',\n",
    "                                          'data/temp/transformer_without_class/transformed_1000.npy'],\n",
    "                   'trans_with_class': [f'data/temp/transformer_with_class/transformed_{i}.npy' for i in [2,4,5,6,7]],\n",
    "                   'trans_within_class': [f'data/temp/transformer_within_class/transformed_{i}.npy' for i in [2,4,5,6,7]]}\n",
    "return_dic2={'filtered':'test/temp/filtered/filtered.npy',\n",
    "                   'trans_without_class':[ 'test/temp/transformer_without_class/transformed.npy','test/temp/transformer_without_class/transformed_1000.npy'],\n",
    "                   'trans_with_class': [f'test/temp/transformer_with_class/transformed_{i}.npy' for i in [2,4,5,6,7]],\n",
    "                   'trans_within_class': [f'test/temp/transformer_within_class/transformed_{i}.npy' for i in [2,4,5,6,7]]}\n",
    "       "
   ]
  },
  {
   "cell_type": "code",
   "execution_count": 115,
   "id": "7149a26e-3814-422b-9b81-df106e721091",
   "metadata": {},
   "outputs": [
    {
     "name": "stdout",
     "output_type": "stream",
     "text": [
      "(25, 3072)\n",
      "data/temp/transformer_within_class/transformed_2.npy test/temp/transformer_within_class/transformed_2.npy\n",
      "(25, 3072)\n",
      "data/temp/transformer_within_class/transformed_4.npy test/temp/transformer_within_class/transformed_4.npy\n",
      "(25, 3072)\n",
      "data/temp/transformer_within_class/transformed_5.npy test/temp/transformer_within_class/transformed_5.npy\n",
      "(25, 3072)\n",
      "data/temp/transformer_within_class/transformed_6.npy test/temp/transformer_within_class/transformed_6.npy\n",
      "(25, 3072)\n",
      "data/temp/transformer_within_class/transformed_7.npy test/temp/transformer_within_class/transformed_7.npy\n"
     ]
    }
   ],
   "source": [
    "\n",
    "if return_dic1['trans_within_class'] is not None:\n",
    "    for fp_idx in range(len(return_dic1['trans_within_class'])):\n",
    "        fp = return_dic1['trans_within_class'][fp_idx]\n",
    "        fp_save = return_dic2['trans_within_class'][fp_idx]\n",
    "        test_data=np.load(fp)[:25]\n",
    "        np.save(fp_save,test_data )\n",
    "        print(test_data.shape)\n",
    "        print(fp, fp_save)"
   ]
  },
  {
   "cell_type": "code",
   "execution_count": 98,
   "id": "8d3252b3-7fa1-496b-b5a5-a7392720c491",
   "metadata": {},
   "outputs": [
    {
     "name": "stdout",
     "output_type": "stream",
     "text": [
      "(25,)\n",
      "(25,)\n",
      "(25,)\n",
      "(25,)\n",
      "(25,)\n"
     ]
    }
   ],
   "source": []
  },
  {
   "cell_type": "code",
   "execution_count": 99,
   "id": "145cbee6-a3a8-4c08-8f37-53f8fafd603f",
   "metadata": {},
   "outputs": [
    {
     "name": "stdout",
     "output_type": "stream",
     "text": [
      "(15360,)\n",
      "(5,)\n",
      "(30720,)\n",
      "(10,)\n",
      "(46080,)\n",
      "(15,)\n",
      "(61440,)\n",
      "(20,)\n",
      "(76800,)\n",
      "(25,)\n"
     ]
    }
   ],
   "source": []
  },
  {
   "cell_type": "code",
   "execution_count": 65,
   "id": "79b72625-5cd3-442b-b00a-1caaabb19e29",
   "metadata": {},
   "outputs": [
    {
     "data": {
      "text/plain": [
       "array([[179., 178., 179., ..., 158., 148., 139.],\n",
       "       [ 73.,  74.,  77., ...,  42.,  24.,  22.],\n",
       "       [165., 166., 167., ...,  33.,  49.,  42.],\n",
       "       ...,\n",
       "       [102.,  93., 101., ..., 160., 163., 177.],\n",
       "       [ 88.,  93., 121., ..., 194., 198., 192.],\n",
       "       [155., 153., 155., ...,  90.,  78.,  81.]])"
      ]
     },
     "execution_count": 65,
     "metadata": {},
     "output_type": "execute_result"
    }
   ],
   "source": [
    "np.save(f'test/temp/filtered/filtered.npy', (X*0.8).astype(int))"
   ]
  },
  {
   "cell_type": "code",
   "execution_count": 96,
   "id": "93fb8e78-f027-4290-aabd-b06d6cd461df",
   "metadata": {},
   "outputs": [
    {
     "ename": "IndexError",
     "evalue": "boolean index did not match indexed array along dimension 0; dimension is 25 but corresponding boolean dimension is 5",
     "output_type": "error",
     "traceback": [
      "\u001b[0;31m---------------------------------------------------------------------------\u001b[0m",
      "\u001b[0;31mIndexError\u001b[0m                                Traceback (most recent call last)",
      "Cell \u001b[0;32mIn [96], line 3\u001b[0m\n\u001b[1;32m      1\u001b[0m \u001b[38;5;28;01mwith\u001b[39;00m \u001b[38;5;28mopen\u001b[39m(\u001b[38;5;124m'\u001b[39m\u001b[38;5;124mconfig/test-params.json\u001b[39m\u001b[38;5;124m'\u001b[39m, \u001b[38;5;124m'\u001b[39m\u001b[38;5;124mr\u001b[39m\u001b[38;5;124m'\u001b[39m) \u001b[38;5;28;01mas\u001b[39;00m fh:\n\u001b[1;32m      2\u001b[0m     data_params \u001b[38;5;241m=\u001b[39m json\u001b[38;5;241m.\u001b[39mload(fh)\n\u001b[0;32m----> 3\u001b[0m train_data, train_label, test_data, test_label \u001b[38;5;241m=\u001b[39m \u001b[43mgetData\u001b[49m\u001b[43m(\u001b[49m\u001b[38;5;241;43m*\u001b[39;49m\u001b[38;5;241;43m*\u001b[39;49m\u001b[43mdata_params\u001b[49m\u001b[43m)\u001b[49m\n\u001b[1;32m      4\u001b[0m \u001b[38;5;28mprint\u001b[39m(train_data\u001b[38;5;241m.\u001b[39mshape, train_label\u001b[38;5;241m.\u001b[39mshape)\n",
      "File \u001b[0;32m~/Downloads/dsc180A/DSC180A-Project1/src/etl.py:64\u001b[0m, in \u001b[0;36mgetData\u001b[0;34m(outdir, train_data, train_label, test_data, test_label)\u001b[0m\n\u001b[1;32m     62\u001b[0m y_train \u001b[38;5;241m=\u001b[39m y_train[train_query]\n\u001b[1;32m     63\u001b[0m test_query \u001b[38;5;241m=\u001b[39m [l \u001b[38;5;129;01min\u001b[39;00m animal_labels \u001b[38;5;28;01mfor\u001b[39;00m l \u001b[38;5;129;01min\u001b[39;00m y_test]\n\u001b[0;32m---> 64\u001b[0m X_test \u001b[38;5;241m=\u001b[39m \u001b[43mX_test\u001b[49m\u001b[43m[\u001b[49m\u001b[43mtest_query\u001b[49m\u001b[43m]\u001b[49m\n\u001b[1;32m     65\u001b[0m y_test \u001b[38;5;241m=\u001b[39m y_test[test_query]\n\u001b[1;32m     67\u001b[0m \u001b[38;5;28;01mreturn\u001b[39;00m X_train, y_train, X_test, y_test\n",
      "\u001b[0;31mIndexError\u001b[0m: boolean index did not match indexed array along dimension 0; dimension is 25 but corresponding boolean dimension is 5"
     ]
    }
   ],
   "source": [
    "with open('config/test-params.json', 'r') as fh:\n",
    "    data_params = json.load(fh)\n",
    "train_data, train_label, test_data, test_label = getData(**data_params)\n",
    "print(train_data.shape, train_label.shape)"
   ]
  },
  {
   "cell_type": "code",
   "execution_count": 116,
   "id": "eea6f59f-2738-47f5-b3cd-30114fa064bc",
   "metadata": {},
   "outputs": [
    {
     "name": "stdout",
     "output_type": "stream",
     "text": [
      "['test']\n",
      "load test data\n",
      "train_data: 25 test data: 5\n",
      "Read Pre Trained Best Model\n",
      "Performance on Training Set\n",
      "              precision    recall  f1-score   support\n",
      "\n",
      "           2       1.00      1.00      1.00         5\n",
      "           4       1.00      1.00      1.00         5\n",
      "           5       1.00      1.00      1.00         5\n",
      "           6       1.00      1.00      1.00         5\n",
      "           7       1.00      1.00      1.00         5\n",
      "\n",
      "    accuracy                           1.00        25\n",
      "   macro avg       1.00      1.00      1.00        25\n",
      "weighted avg       1.00      1.00      1.00        25\n",
      "\n",
      "Performance on Test Set\n",
      "              precision    recall  f1-score   support\n",
      "\n",
      "           7       1.00      1.00      1.00         5\n",
      "\n",
      "    accuracy                           1.00         5\n",
      "   macro avg       1.00      1.00      1.00         5\n",
      "weighted avg       1.00      1.00      1.00         5\n",
      "\n",
      "use input model\n",
      "use input model\n",
      "Prediction Table on Test set saved at result/prediction_original.csv\n",
      "Performance on Data  result/transformer_without_class_transformed.\n",
      "Traceback (most recent call last):\n",
      "  File \"/Users/xuzhezhi/Downloads/dsc180A/DSC180A-Project1/run.py\", line 275, in <module>\n",
      "    main(targets)\n",
      "  File \"/Users/xuzhezhi/Downloads/dsc180A/DSC180A-Project1/run.py\", line 60, in main\n",
      "    reports = create_pred_acc_report(data_paths, model, y_test)\n",
      "  File \"/Users/xuzhezhi/Downloads/dsc180A/DSC180A-Project1/run.py\", line 234, in create_pred_acc_report\n",
      "    report = accuracy_report(test_label, pred)\n",
      "  File \"/Users/xuzhezhi/Downloads/dsc180A/DSC180A-Project1/src/classifier.py\", line 117, in accuracy_report\n",
      "    report =  classification_report(y_pred, y_test)\n",
      "  File \"/Library/Frameworks/Python.framework/Versions/3.10/lib/python3.10/site-packages/sklearn/metrics/_classification.py\", line 2132, in classification_report\n",
      "    y_type, y_true, y_pred = _check_targets(y_true, y_pred)\n",
      "  File \"/Library/Frameworks/Python.framework/Versions/3.10/lib/python3.10/site-packages/sklearn/metrics/_classification.py\", line 84, in _check_targets\n",
      "    check_consistent_length(y_true, y_pred)\n",
      "  File \"/Library/Frameworks/Python.framework/Versions/3.10/lib/python3.10/site-packages/sklearn/utils/validation.py\", line 387, in check_consistent_length\n",
      "    raise ValueError(\n",
      "ValueError: Found input variables with inconsistent numbers of samples: [25, 5]\n"
     ]
    }
   ],
   "source": [
    "!python3 run.py test"
   ]
  },
  {
   "cell_type": "code",
   "execution_count": null,
   "id": "360736e4-28da-4815-8858-8c448c2557d5",
   "metadata": {},
   "outputs": [],
   "source": []
  },
  {
   "cell_type": "code",
   "execution_count": 82,
   "id": "b03601ae-8e12-4989-9042-5dd1c0709a59",
   "metadata": {},
   "outputs": [
    {
     "data": {
      "text/plain": [
       "array([[149, 148, 148, ..., 140, 139, 140],\n",
       "       [ 36,  35,  40, ..., 128, 136, 144],\n",
       "       [108, 118, 129, ..., 152, 154, 157],\n",
       "       ...,\n",
       "       [175, 173, 176, ...,  99,  98, 100],\n",
       "       [168, 125, 124, ..., 130, 137, 156],\n",
       "       [178, 147, 122, ..., 193, 195, 202]])"
      ]
     },
     "execution_count": 82,
     "metadata": {},
     "output_type": "execute_result"
    }
   ],
   "source": [
    "X_test_gray = grayscale(X, 'X_test_gray')\n",
    "(X_test_gray*0.8).astype(int)"
   ]
  },
  {
   "cell_type": "code",
   "execution_count": 90,
   "id": "1749dc6c-ba85-42a6-9d86-71de5f2caf5e",
   "metadata": {},
   "outputs": [],
   "source": [
    "!mkdir test/temp/transformer_without_class\n",
    "np.save('test/temp/transformer_without_class/transformed.npy', (X*0.8))"
   ]
  },
  {
   "cell_type": "code",
   "execution_count": 309,
   "id": "41c195a3-3797-4f06-8ea2-fa9d783f7e6d",
   "metadata": {},
   "outputs": [
    {
     "data": {
      "text/plain": [
       "True"
      ]
     },
     "execution_count": 309,
     "metadata": {},
     "output_type": "execute_result"
    }
   ],
   "source": [
    "os.path.exists('result/prediction_original.csv')"
   ]
  },
  {
   "cell_type": "code",
   "execution_count": null,
   "id": "465fe11b-4106-4e38-aa49-5806878bb85c",
   "metadata": {},
   "outputs": [],
   "source": []
  },
  {
   "cell_type": "code",
   "execution_count": 20,
   "id": "bce5a96a-158c-4009-802f-e3f1b8a5583e",
   "metadata": {},
   "outputs": [
    {
     "name": "stdout",
     "output_type": "stream",
     "text": [
      "finish training experiment: 0 0.4977142857142857\n",
      "finish training experiment: 1 0.49497142857142856\n",
      "finish training experiment: 2 0.5025142857142857\n",
      "finish training experiment: 3 0.4962285714285714\n",
      "finish training experiment: 4 0.4993142857142857\n",
      "finish training experiment: 5 0.4982285714285714\n",
      "exp_id                     2\n",
      "max_depth                 20\n",
      "max_features            sqrt\n",
      "min_samples_leaf           5\n",
      "n_estimators             100\n",
      "result              0.502514\n",
      "Name: 2, dtype: object\n",
      "{'bootstrap': True, 'ccp_alpha': 0.0, 'class_weight': None, 'criterion': 'gini', 'max_depth': 20, 'max_features': 'sqrt', 'max_leaf_nodes': None, 'max_samples': None, 'min_impurity_decrease': 0.0, 'min_samples_leaf': 5, 'min_samples_split': 2, 'min_weight_fraction_leaf': 0.0, 'n_estimators': 100, 'n_jobs': None, 'oob_score': False, 'random_state': 28, 'verbose': 0, 'warm_start': False}\n"
     ]
    },
    {
     "data": {
      "text/html": [
       "<style>#sk-container-id-3 {color: black;background-color: white;}#sk-container-id-3 pre{padding: 0;}#sk-container-id-3 div.sk-toggleable {background-color: white;}#sk-container-id-3 label.sk-toggleable__label {cursor: pointer;display: block;width: 100%;margin-bottom: 0;padding: 0.3em;box-sizing: border-box;text-align: center;}#sk-container-id-3 label.sk-toggleable__label-arrow:before {content: \"▸\";float: left;margin-right: 0.25em;color: #696969;}#sk-container-id-3 label.sk-toggleable__label-arrow:hover:before {color: black;}#sk-container-id-3 div.sk-estimator:hover label.sk-toggleable__label-arrow:before {color: black;}#sk-container-id-3 div.sk-toggleable__content {max-height: 0;max-width: 0;overflow: hidden;text-align: left;background-color: #f0f8ff;}#sk-container-id-3 div.sk-toggleable__content pre {margin: 0.2em;color: black;border-radius: 0.25em;background-color: #f0f8ff;}#sk-container-id-3 input.sk-toggleable__control:checked~div.sk-toggleable__content {max-height: 200px;max-width: 100%;overflow: auto;}#sk-container-id-3 input.sk-toggleable__control:checked~label.sk-toggleable__label-arrow:before {content: \"▾\";}#sk-container-id-3 div.sk-estimator input.sk-toggleable__control:checked~label.sk-toggleable__label {background-color: #d4ebff;}#sk-container-id-3 div.sk-label input.sk-toggleable__control:checked~label.sk-toggleable__label {background-color: #d4ebff;}#sk-container-id-3 input.sk-hidden--visually {border: 0;clip: rect(1px 1px 1px 1px);clip: rect(1px, 1px, 1px, 1px);height: 1px;margin: -1px;overflow: hidden;padding: 0;position: absolute;width: 1px;}#sk-container-id-3 div.sk-estimator {font-family: monospace;background-color: #f0f8ff;border: 1px dotted black;border-radius: 0.25em;box-sizing: border-box;margin-bottom: 0.5em;}#sk-container-id-3 div.sk-estimator:hover {background-color: #d4ebff;}#sk-container-id-3 div.sk-parallel-item::after {content: \"\";width: 100%;border-bottom: 1px solid gray;flex-grow: 1;}#sk-container-id-3 div.sk-label:hover label.sk-toggleable__label {background-color: #d4ebff;}#sk-container-id-3 div.sk-serial::before {content: \"\";position: absolute;border-left: 1px solid gray;box-sizing: border-box;top: 0;bottom: 0;left: 50%;z-index: 0;}#sk-container-id-3 div.sk-serial {display: flex;flex-direction: column;align-items: center;background-color: white;padding-right: 0.2em;padding-left: 0.2em;position: relative;}#sk-container-id-3 div.sk-item {position: relative;z-index: 1;}#sk-container-id-3 div.sk-parallel {display: flex;align-items: stretch;justify-content: center;background-color: white;position: relative;}#sk-container-id-3 div.sk-item::before, #sk-container-id-3 div.sk-parallel-item::before {content: \"\";position: absolute;border-left: 1px solid gray;box-sizing: border-box;top: 0;bottom: 0;left: 50%;z-index: -1;}#sk-container-id-3 div.sk-parallel-item {display: flex;flex-direction: column;z-index: 1;position: relative;background-color: white;}#sk-container-id-3 div.sk-parallel-item:first-child::after {align-self: flex-end;width: 50%;}#sk-container-id-3 div.sk-parallel-item:last-child::after {align-self: flex-start;width: 50%;}#sk-container-id-3 div.sk-parallel-item:only-child::after {width: 0;}#sk-container-id-3 div.sk-dashed-wrapped {border: 1px dashed gray;margin: 0 0.4em 0.5em 0.4em;box-sizing: border-box;padding-bottom: 0.4em;background-color: white;}#sk-container-id-3 div.sk-label label {font-family: monospace;font-weight: bold;display: inline-block;line-height: 1.2em;}#sk-container-id-3 div.sk-label-container {text-align: center;}#sk-container-id-3 div.sk-container {/* jupyter's `normalize.less` sets `[hidden] { display: none; }` but bootstrap.min.css set `[hidden] { display: none !important; }` so we also need the `!important` here to be able to override the default hidden behavior on the sphinx rendered scikit-learn.org. See: https://github.com/scikit-learn/scikit-learn/issues/21755 */display: inline-block !important;position: relative;}#sk-container-id-3 div.sk-text-repr-fallback {display: none;}</style><div id=\"sk-container-id-3\" class=\"sk-top-container\"><div class=\"sk-text-repr-fallback\"><pre>RandomForestClassifier(max_depth=20, min_samples_leaf=5, random_state=28)</pre><b>In a Jupyter environment, please rerun this cell to show the HTML representation or trust the notebook. <br />On GitHub, the HTML representation is unable to render, please try loading this page with nbviewer.org.</b></div><div class=\"sk-container\" hidden><div class=\"sk-item\"><div class=\"sk-estimator sk-toggleable\"><input class=\"sk-toggleable__control sk-hidden--visually\" id=\"sk-estimator-id-3\" type=\"checkbox\" checked><label for=\"sk-estimator-id-3\" class=\"sk-toggleable__label sk-toggleable__label-arrow\">RandomForestClassifier</label><div class=\"sk-toggleable__content\"><pre>RandomForestClassifier(max_depth=20, min_samples_leaf=5, random_state=28)</pre></div></div></div></div></div>"
      ],
      "text/plain": [
       "RandomForestClassifier(max_depth=20, min_samples_leaf=5, random_state=28)"
      ]
     },
     "execution_count": 20,
     "metadata": {},
     "output_type": "execute_result"
    }
   ],
   "source": [
    "# Test Function From the Folder\n",
    "\n",
    "classifier.model_selelection_RandomForestClassifier(train_data, train_label, \n",
    "                                             depths=[15, 20, 25,], \n",
    "                                             estimators=[100],\n",
    "                                             min_samples_leaf = [5,10]\n",
    "                                            )"
   ]
  },
  {
   "cell_type": "code",
   "execution_count": 14,
   "id": "9534310a-2028-46f8-afbd-5ddcadb1da3f",
   "metadata": {},
   "outputs": [
    {
     "name": "stdout",
     "output_type": "stream",
     "text": [
      "Non pre trained model, Train by pre determined best hyperparameters\n",
      "              precision    recall  f1-score   support\n",
      "\n",
      "           2       0.97      0.99      0.98      4929\n",
      "           4       0.98      0.99      0.99      4978\n",
      "           5       0.99      0.98      0.98      5019\n",
      "           6       0.99      0.98      0.98      5058\n",
      "           7       0.99      0.98      0.98      5016\n",
      "\n",
      "    accuracy                           0.98     25000\n",
      "   macro avg       0.98      0.98      0.98     25000\n",
      "weighted avg       0.98      0.98      0.98     25000\n",
      "\n",
      "              precision    recall  f1-score   support\n",
      "\n",
      "           2       0.53      0.39      0.45      1371\n",
      "           4       0.33      0.42      0.37       778\n",
      "           5       0.58      0.43      0.49      1343\n",
      "           6       0.37      0.60      0.46       615\n",
      "           7       0.53      0.59      0.56       893\n",
      "\n",
      "    accuracy                           0.47      5000\n",
      "   macro avg       0.47      0.49      0.47      5000\n",
      "weighted avg       0.49      0.47      0.47      5000\n",
      "\n",
      "              precision    recall  f1-score   support\n",
      "\n",
      "           2       0.47      0.49      0.48       964\n",
      "           4       0.42      0.47      0.44       891\n",
      "           5       0.54      0.57      0.56       942\n",
      "           6       0.66      0.55      0.60      1194\n",
      "           7       0.62      0.61      0.62      1009\n",
      "\n",
      "    accuracy                           0.54      5000\n",
      "   macro avg       0.54      0.54      0.54      5000\n",
      "weighted avg       0.55      0.54      0.54      5000\n",
      "\n"
     ]
    },
    {
     "data": {
      "text/plain": [
       "array([4, 6, 6, ..., 5, 5, 7], dtype=int32)"
      ]
     },
     "execution_count": 14,
     "metadata": {},
     "output_type": "execute_result"
    }
   ],
   "source": [
    "# Read Model\n",
    "model=clf_build(train_data, train_label, 'RandomForestClassifier')\n",
    "# Produce report by class\n",
    "clf_predict(model,train_data, train_label, 'result/prediction1.csv')\n",
    "clf_predict(model,X_test_gray, test_label, 'result/prediction1.csv')\n",
    "clf_predict(model,test_data, test_label, 'result/prediction1.csv')\n",
    "# prediction on filtered data"
   ]
  },
  {
   "cell_type": "code",
   "execution_count": 215,
   "id": "7ad6b775-a11a-4c39-a206-ca58b55e5b64",
   "metadata": {},
   "outputs": [
    {
     "name": "stdout",
     "output_type": "stream",
     "text": [
      "Read Pre Trained Best Model\n"
     ]
    }
   ],
   "source": [
    "# vote count:\n",
    "vote_count=report_votes(train_data, model = 'result/best_rfc_model.sav')\n",
    "#get count of the max vote\n",
    "max_counts=vote_count.max(axis=1)\n",
    "#get predicted label\n",
    "predictions=np.array([2,4,5,6,7])[vote_count.argmax(axis=1)]\n",
    "\n"
   ]
  },
  {
   "cell_type": "code",
   "execution_count": 223,
   "id": "95b41631-278a-4007-bc02-de0c005a15d7",
   "metadata": {},
   "outputs": [],
   "source": []
  },
  {
   "cell_type": "code",
   "execution_count": 273,
   "id": "ee79d878-d726-4445-b914-832d3519da12",
   "metadata": {},
   "outputs": [
    {
     "name": "stdout",
     "output_type": "stream",
     "text": [
      "Read Pre Trained Best Model\n"
     ]
    },
    {
     "data": {
      "text/html": [
       "<div>\n",
       "<style scoped>\n",
       "    .dataframe tbody tr th:only-of-type {\n",
       "        vertical-align: middle;\n",
       "    }\n",
       "\n",
       "    .dataframe tbody tr th {\n",
       "        vertical-align: top;\n",
       "    }\n",
       "\n",
       "    .dataframe thead th {\n",
       "        text-align: right;\n",
       "    }\n",
       "</style>\n",
       "<table border=\"1\" class=\"dataframe\">\n",
       "  <thead>\n",
       "    <tr style=\"text-align: right;\">\n",
       "      <th></th>\n",
       "      <th>true_label</th>\n",
       "      <th>predicted_label</th>\n",
       "      <th>predict_vote</th>\n",
       "      <th>max_count</th>\n",
       "    </tr>\n",
       "  </thead>\n",
       "  <tbody>\n",
       "    <tr>\n",
       "      <th>0</th>\n",
       "      <td>6</td>\n",
       "      <td>6</td>\n",
       "      <td>[7.0, 6.0, 8.0, 74.0, 5.0]</td>\n",
       "      <td>74</td>\n",
       "    </tr>\n",
       "    <tr>\n",
       "      <th>1</th>\n",
       "      <td>4</td>\n",
       "      <td>4</td>\n",
       "      <td>[5.0, 55.0, 2.0, 36.0, 2.0]</td>\n",
       "      <td>55</td>\n",
       "    </tr>\n",
       "    <tr>\n",
       "      <th>2</th>\n",
       "      <td>2</td>\n",
       "      <td>2</td>\n",
       "      <td>[65.0, 14.0, 5.0, 12.0, 4.0]</td>\n",
       "      <td>65</td>\n",
       "    </tr>\n",
       "    <tr>\n",
       "      <th>3</th>\n",
       "      <td>7</td>\n",
       "      <td>7</td>\n",
       "      <td>[4.0, 11.0, 4.0, 6.0, 75.0]</td>\n",
       "      <td>75</td>\n",
       "    </tr>\n",
       "    <tr>\n",
       "      <th>4</th>\n",
       "      <td>4</td>\n",
       "      <td>4</td>\n",
       "      <td>[13.0, 79.0, 0.0, 7.0, 1.0]</td>\n",
       "      <td>79</td>\n",
       "    </tr>\n",
       "    <tr>\n",
       "      <th>...</th>\n",
       "      <td>...</td>\n",
       "      <td>...</td>\n",
       "      <td>...</td>\n",
       "      <td>...</td>\n",
       "    </tr>\n",
       "    <tr>\n",
       "      <th>24995</th>\n",
       "      <td>5</td>\n",
       "      <td>5</td>\n",
       "      <td>[14.0, 5.0, 61.0, 16.0, 4.0]</td>\n",
       "      <td>61</td>\n",
       "    </tr>\n",
       "    <tr>\n",
       "      <th>24996</th>\n",
       "      <td>4</td>\n",
       "      <td>4</td>\n",
       "      <td>[31.0, 39.0, 11.0, 12.0, 7.0]</td>\n",
       "      <td>39</td>\n",
       "    </tr>\n",
       "    <tr>\n",
       "      <th>24997</th>\n",
       "      <td>2</td>\n",
       "      <td>2</td>\n",
       "      <td>[59.0, 9.0, 15.0, 7.0, 10.0]</td>\n",
       "      <td>59</td>\n",
       "    </tr>\n",
       "    <tr>\n",
       "      <th>24998</th>\n",
       "      <td>2</td>\n",
       "      <td>2</td>\n",
       "      <td>[64.0, 18.0, 8.0, 3.0, 7.0]</td>\n",
       "      <td>64</td>\n",
       "    </tr>\n",
       "    <tr>\n",
       "      <th>24999</th>\n",
       "      <td>6</td>\n",
       "      <td>6</td>\n",
       "      <td>[17.0, 14.0, 10.0, 48.0, 11.0]</td>\n",
       "      <td>48</td>\n",
       "    </tr>\n",
       "  </tbody>\n",
       "</table>\n",
       "<p>25000 rows × 4 columns</p>\n",
       "</div>"
      ],
      "text/plain": [
       "       true_label  predicted_label                    predict_vote  max_count\n",
       "0               6                6      [7.0, 6.0, 8.0, 74.0, 5.0]         74\n",
       "1               4                4     [5.0, 55.0, 2.0, 36.0, 2.0]         55\n",
       "2               2                2    [65.0, 14.0, 5.0, 12.0, 4.0]         65\n",
       "3               7                7     [4.0, 11.0, 4.0, 6.0, 75.0]         75\n",
       "4               4                4     [13.0, 79.0, 0.0, 7.0, 1.0]         79\n",
       "...           ...              ...                             ...        ...\n",
       "24995           5                5    [14.0, 5.0, 61.0, 16.0, 4.0]         61\n",
       "24996           4                4   [31.0, 39.0, 11.0, 12.0, 7.0]         39\n",
       "24997           2                2    [59.0, 9.0, 15.0, 7.0, 10.0]         59\n",
       "24998           2                2     [64.0, 18.0, 8.0, 3.0, 7.0]         64\n",
       "24999           6                6  [17.0, 14.0, 10.0, 48.0, 11.0]         48\n",
       "\n",
       "[25000 rows x 4 columns]"
      ]
     },
     "execution_count": 273,
     "metadata": {},
     "output_type": "execute_result"
    }
   ],
   "source": [
    "#Make Prediction on given data, write result in table, save to given path\n",
    "classifier.prediction_df(train_data, train_label, \n",
    "                         model = 'result/best_rfc_model.sav',\n",
    "                        outdf_path = 'result/prediction_original.csv')"
   ]
  },
  {
   "cell_type": "code",
   "execution_count": 5,
   "id": "b1dd40ef-1cdd-4f42-8dd8-7e79a9be8a77",
   "metadata": {},
   "outputs": [
    {
     "data": {
      "text/plain": [
       "0        [16.0,  44.0,  15.0,  23.0,  2.]\n",
       "1        [13.0,  18.0,  10.0,  57.0,  2.]\n",
       "2         [20.0,  21.0,  6.0,  48.0,  5.]\n",
       "3       [17.0,  18.0,  31.0,  24.0,  10.]\n",
       "4         [11.0,  3.0,  22.0,  9.0,  55.]\n",
       "                      ...                \n",
       "4995    [21.0,  34.0,  19.0,  11.0,  15.]\n",
       "4996     [23.0,  14.0,  37.0,  5.0,  21.]\n",
       "4997     [19.0,  13.0,  49.0,  4.0,  15.]\n",
       "4998    [15.0,  18.0,  39.0,  10.0,  18.]\n",
       "4999     [19.0,  17.0,  8.0,  10.0,  46.]\n",
       "Name: predict_vote, Length: 5000, dtype: object"
      ]
     },
     "execution_count": 5,
     "metadata": {},
     "output_type": "execute_result"
    }
   ],
   "source": [
    "#to read the saved prediction table\n",
    "df=pd.read_csv('result/prediction_original.csv',index_col=0)\n",
    "df\n",
    "#to access predict_vote\n",
    "df['predict_vote'].str[1:-2].str.split(',')"
   ]
  },
  {
   "cell_type": "code",
   "execution_count": 308,
   "id": "9ad70fa9-c730-4001-aed3-4ac2b8e6b440",
   "metadata": {},
   "outputs": [
    {
     "name": "stdout",
     "output_type": "stream",
     "text": [
      "Read Pre Trained Best Model\n",
      "Read Pre Trained Best Model\n",
      "Read Pre Trained Best Model\n",
      "Read Pre Trained Best Model\n",
      "Read Pre Trained Best Model\n"
     ]
    }
   ],
   "source": [
    "path_to_transformed_data='data/temp/transformer_with_class/'\n",
    "#make prediction table on all kinds of input\n",
    "for i in [2,4,5,6,7]:\n",
    "    #read in data from transformed\n",
    "    trans_data=np.load(path_to_transformed_data+f'transformed_{i}.npy')\n",
    "    classifier.prediction_df(trans_data, test_label, \n",
    "                         model = 'result/best_rfc_model.sav',\n",
    "                        outdf_path = f'result/prediction_transformer{i}.csv')\n",
    "\n",
    "\n"
   ]
  },
  {
   "cell_type": "code",
   "execution_count": 294,
   "id": "863e2455-326e-4baa-ba5a-8fe79c14721d",
   "metadata": {},
   "outputs": [
    {
     "name": "stdout",
     "output_type": "stream",
     "text": [
      "Read Pre Trained Best Model\n"
     ]
    }
   ],
   "source": [
    "trans_data=np.load('data/temp/transformer_1/transformed_2.npy')\n",
    "df=classifier.prediction_df(trans_data, test_label, \n",
    "                         model = 'result/best_rfc_model.sav',\n",
    "                        outdf_path = 'result/prediction_transformer2.csv')"
   ]
  },
  {
   "cell_type": "code",
   "execution_count": null,
   "id": "98ed6dbc-b3cc-4f8a-aff8-5f3c04945ab0",
   "metadata": {},
   "outputs": [],
   "source": [
    "create_pred_table"
   ]
  },
  {
   "cell_type": "code",
   "execution_count": 301,
   "id": "cd6a294b-168d-4d78-a0af-b5a8f525c029",
   "metadata": {},
   "outputs": [
    {
     "data": {
      "text/html": [
       "<div>\n",
       "<style scoped>\n",
       "    .dataframe tbody tr th:only-of-type {\n",
       "        vertical-align: middle;\n",
       "    }\n",
       "\n",
       "    .dataframe tbody tr th {\n",
       "        vertical-align: top;\n",
       "    }\n",
       "\n",
       "    .dataframe thead th {\n",
       "        text-align: right;\n",
       "    }\n",
       "</style>\n",
       "<table border=\"1\" class=\"dataframe\">\n",
       "  <thead>\n",
       "    <tr style=\"text-align: right;\">\n",
       "      <th></th>\n",
       "      <th>true_label</th>\n",
       "      <th>predicted_label</th>\n",
       "      <th>predict_vote</th>\n",
       "      <th>max_count</th>\n",
       "    </tr>\n",
       "  </thead>\n",
       "  <tbody>\n",
       "    <tr>\n",
       "      <th>0</th>\n",
       "      <td>6</td>\n",
       "      <td>5</td>\n",
       "      <td>[17.0, 21.0, 25.0, 19.0, 18.0]</td>\n",
       "      <td>25</td>\n",
       "    </tr>\n",
       "    <tr>\n",
       "      <th>1</th>\n",
       "      <td>6</td>\n",
       "      <td>6</td>\n",
       "      <td>[22.0, 13.0, 20.0, 23.0, 22.0]</td>\n",
       "      <td>23</td>\n",
       "    </tr>\n",
       "    <tr>\n",
       "      <th>2</th>\n",
       "      <td>6</td>\n",
       "      <td>2</td>\n",
       "      <td>[24.0, 20.0, 23.0, 14.0, 19.0]</td>\n",
       "      <td>24</td>\n",
       "    </tr>\n",
       "    <tr>\n",
       "      <th>3</th>\n",
       "      <td>5</td>\n",
       "      <td>6</td>\n",
       "      <td>[12.0, 14.0, 24.0, 26.0, 24.0]</td>\n",
       "      <td>26</td>\n",
       "    </tr>\n",
       "    <tr>\n",
       "      <th>4</th>\n",
       "      <td>7</td>\n",
       "      <td>6</td>\n",
       "      <td>[18.0, 16.0, 24.0, 28.0, 14.0]</td>\n",
       "      <td>28</td>\n",
       "    </tr>\n",
       "    <tr>\n",
       "      <th>...</th>\n",
       "      <td>...</td>\n",
       "      <td>...</td>\n",
       "      <td>...</td>\n",
       "      <td>...</td>\n",
       "    </tr>\n",
       "    <tr>\n",
       "      <th>4995</th>\n",
       "      <td>2</td>\n",
       "      <td>5</td>\n",
       "      <td>[22.0, 16.0, 25.0, 13.0, 24.0]</td>\n",
       "      <td>25</td>\n",
       "    </tr>\n",
       "    <tr>\n",
       "      <th>4996</th>\n",
       "      <td>7</td>\n",
       "      <td>7</td>\n",
       "      <td>[20.0, 17.0, 25.0, 9.0, 29.0]</td>\n",
       "      <td>29</td>\n",
       "    </tr>\n",
       "    <tr>\n",
       "      <th>4997</th>\n",
       "      <td>5</td>\n",
       "      <td>5</td>\n",
       "      <td>[19.0, 25.0, 28.0, 12.0, 16.0]</td>\n",
       "      <td>28</td>\n",
       "    </tr>\n",
       "    <tr>\n",
       "      <th>4998</th>\n",
       "      <td>5</td>\n",
       "      <td>5</td>\n",
       "      <td>[15.0, 20.0, 36.0, 19.0, 10.0]</td>\n",
       "      <td>36</td>\n",
       "    </tr>\n",
       "    <tr>\n",
       "      <th>4999</th>\n",
       "      <td>7</td>\n",
       "      <td>2</td>\n",
       "      <td>[23.0, 19.0, 20.0, 17.0, 21.0]</td>\n",
       "      <td>23</td>\n",
       "    </tr>\n",
       "  </tbody>\n",
       "</table>\n",
       "<p>5000 rows × 4 columns</p>\n",
       "</div>"
      ],
      "text/plain": [
       "      true_label  predicted_label                    predict_vote  max_count\n",
       "0              6                5  [17.0, 21.0, 25.0, 19.0, 18.0]         25\n",
       "1              6                6  [22.0, 13.0, 20.0, 23.0, 22.0]         23\n",
       "2              6                2  [24.0, 20.0, 23.0, 14.0, 19.0]         24\n",
       "3              5                6  [12.0, 14.0, 24.0, 26.0, 24.0]         26\n",
       "4              7                6  [18.0, 16.0, 24.0, 28.0, 14.0]         28\n",
       "...          ...              ...                             ...        ...\n",
       "4995           2                5  [22.0, 16.0, 25.0, 13.0, 24.0]         25\n",
       "4996           7                7   [20.0, 17.0, 25.0, 9.0, 29.0]         29\n",
       "4997           5                5  [19.0, 25.0, 28.0, 12.0, 16.0]         28\n",
       "4998           5                5  [15.0, 20.0, 36.0, 19.0, 10.0]         36\n",
       "4999           7                2  [23.0, 19.0, 20.0, 17.0, 21.0]         23\n",
       "\n",
       "[5000 rows x 4 columns]"
      ]
     },
     "execution_count": 301,
     "metadata": {},
     "output_type": "execute_result"
    }
   ],
   "source": [
    "df"
   ]
  },
  {
   "cell_type": "code",
   "execution_count": 307,
   "id": "ac51ab5f-88b5-4a40-a2a4-c23a9ae390bb",
   "metadata": {},
   "outputs": [
    {
     "data": {
      "text/html": [
       "<div>\n",
       "<style scoped>\n",
       "    .dataframe tbody tr th:only-of-type {\n",
       "        vertical-align: middle;\n",
       "    }\n",
       "\n",
       "    .dataframe tbody tr th {\n",
       "        vertical-align: top;\n",
       "    }\n",
       "\n",
       "    .dataframe thead th {\n",
       "        text-align: right;\n",
       "    }\n",
       "</style>\n",
       "<table border=\"1\" class=\"dataframe\">\n",
       "  <thead>\n",
       "    <tr style=\"text-align: right;\">\n",
       "      <th></th>\n",
       "      <th>correct</th>\n",
       "    </tr>\n",
       "    <tr>\n",
       "      <th>true_label</th>\n",
       "      <th></th>\n",
       "    </tr>\n",
       "  </thead>\n",
       "  <tbody>\n",
       "    <tr>\n",
       "      <th>2</th>\n",
       "      <td>0.409</td>\n",
       "    </tr>\n",
       "    <tr>\n",
       "      <th>4</th>\n",
       "      <td>0.178</td>\n",
       "    </tr>\n",
       "    <tr>\n",
       "      <th>5</th>\n",
       "      <td>0.485</td>\n",
       "    </tr>\n",
       "    <tr>\n",
       "      <th>6</th>\n",
       "      <td>0.146</td>\n",
       "    </tr>\n",
       "    <tr>\n",
       "      <th>7</th>\n",
       "      <td>0.250</td>\n",
       "    </tr>\n",
       "  </tbody>\n",
       "</table>\n",
       "</div>"
      ],
      "text/plain": [
       "            correct\n",
       "true_label         \n",
       "2             0.409\n",
       "4             0.178\n",
       "5             0.485\n",
       "6             0.146\n",
       "7             0.250"
      ]
     },
     "execution_count": 307,
     "metadata": {},
     "output_type": "execute_result"
    }
   ],
   "source": [
    "#goes in Mean, for Plotting\n",
    "\n",
    "df['correct'] =(df['true_label'] == df['predicted_label'])\n",
    "df.groupby('true_label').mean(numeric_only=True)[['correct']]"
   ]
  },
  {
   "cell_type": "code",
   "execution_count": null,
   "id": "2f87201c-c0af-4271-9919-8c6ae1f29632",
   "metadata": {},
   "outputs": [],
   "source": [
    "def ()"
   ]
  },
  {
   "cell_type": "code",
   "execution_count": null,
   "id": "711e95b4-72eb-4ef6-9620-f9d7c527e6c5",
   "metadata": {},
   "outputs": [],
   "source": [
    "# read in data from greyscale \n",
    "\n",
    "# predict, save result"
   ]
  },
  {
   "cell_type": "code",
   "execution_count": 320,
   "id": "c11d7eb6-dc2d-4375-8d09-83af51f6e006",
   "metadata": {},
   "outputs": [
    {
     "data": {
      "text/plain": [
       "(5000, 3072)"
      ]
     },
     "execution_count": 320,
     "metadata": {},
     "output_type": "execute_result"
    }
   ],
   "source": [
    "d = np.load('data/temp/transformer_with_class/transformed_2.npy')\n",
    "d.shape"
   ]
  },
  {
   "cell_type": "code",
   "execution_count": 328,
   "id": "4d0fae45-5756-401b-bd4c-c4a0d84c4e12",
   "metadata": {},
   "outputs": [
    {
     "data": {
      "text/plain": [
       "'transformer_with_class/transformed_2.csv'"
      ]
     },
     "execution_count": 328,
     "metadata": {},
     "output_type": "execute_result"
    }
   ],
   "source": [
    "fp='data/temp/transformer_with_class/transformed_2.npy'\n",
    "fp.split('/')[-2]+'/'+fp.split('/')[-1].replace('npy', 'csv')"
   ]
  },
  {
   "cell_type": "code",
   "execution_count": 130,
   "id": "95803e86-f4e3-4f44-a09d-e686484747d7",
   "metadata": {
    "tags": []
   },
   "outputs": [
    {
     "name": "stdout",
     "output_type": "stream",
     "text": [
      "use input model\n",
      "prediction table save to result/transformer_without_class_transformed.csv\n",
      "use input model\n",
      "prediction table save to result/transformer_without_class_transformed_1000.csv\n",
      "use input model\n",
      "prediction table save to result/transformer_without_class_transformed_3000.csv\n",
      "use input model\n",
      "prediction table save to result/transformer_with_class_transformed_2.csv\n",
      "use input model\n",
      "prediction table save to result/transformer_with_class_transformed_4.csv\n",
      "use input model\n",
      "prediction table save to result/transformer_with_class_transformed_5.csv\n",
      "use input model\n",
      "prediction table save to result/transformer_with_class_transformed_6.csv\n",
      "use input model\n",
      "prediction table save to result/transformer_with_class_transformed_7.csv\n"
     ]
    }
   ],
   "source": [
    "data_fp_dict=run.filte_transport_data(None, None)\n",
    "table_dict=create_pred_table(data_fp_dict, model, test_label, result_fp = 'result/')"
   ]
  },
  {
   "cell_type": "code",
   "execution_count": 132,
   "id": "4057fc79-c087-4a47-b4ab-bec325df0d0c",
   "metadata": {},
   "outputs": [
    {
     "data": {
      "text/plain": [
       "{'filtered': 'data/temp/filtered/filtered.npy',\n",
       " 'trans_without_class': ['result/transformer_without_class_transformed.csv',\n",
       "  'result/transformer_without_class_transformed_1000.csv',\n",
       "  'result/transformer_without_class_transformed_3000.csv'],\n",
       " 'trans_with_class': ['result/transformer_with_class_transformed_2.csv',\n",
       "  'result/transformer_with_class_transformed_4.csv',\n",
       "  'result/transformer_with_class_transformed_5.csv',\n",
       "  'result/transformer_with_class_transformed_6.csv',\n",
       "  'result/transformer_with_class_transformed_7.csv'],\n",
       " 'trans_within_class': ['data/temp/transformer_within_class/transformed_2.npy',\n",
       "  'data/temp/transformer_within_class/transformed_4.npy',\n",
       "  'data/temp/transformer_within_class/transformed_5.npy',\n",
       "  'data/temp/transformer_within_class/transformed_6.npy',\n",
       "  'data/temp/transformer_within_class/transformed_7.npy']}"
      ]
     },
     "execution_count": 132,
     "metadata": {},
     "output_type": "execute_result"
    }
   ],
   "source": [
    "table_dict"
   ]
  },
  {
   "cell_type": "code",
   "execution_count": 160,
   "id": "8555515f-29e5-4d39-b053-6abacfa84ae1",
   "metadata": {},
   "outputs": [
    {
     "name": "stdout",
     "output_type": "stream",
     "text": [
      "result/transformer_with_class_transformed_2.csv\n",
      "result/transformer_with_class_transformed_4.csv\n",
      "result/transformer_with_class_transformed_5.csv\n",
      "result/transformer_with_class_transformed_6.csv\n",
      "result/transformer_with_class_transformed_7.csv\n",
      "result/transformer_with_class_transformed_2.csv\n",
      "result/transformer_with_class_transformed_4.csv\n",
      "result/transformer_with_class_transformed_5.csv\n",
      "result/transformer_with_class_transformed_6.csv\n",
      "result/transformer_with_class_transformed_7.csv\n"
     ]
    },
    {
     "data": {
      "image/png": "[encoded data removed]",
      "text/plain": [
       "<Figure size 500x800 with 4 Axes>"
      ]
     },
     "metadata": {},
     "output_type": "display_data"
    }
   ],
   "source": [
    "path = table_dict['trans_without_class'][0]\n",
    "df=pd.read_csv(path, index_col=0)\n",
    "df['trans_withoutclass'] = df['true_label']==df['predicted_label']\n",
    "acc_df=df.groupby('true_label')[['trans_withoutclass']].mean()\n",
    "\n",
    "for path_idx in range(5):\n",
    "    path = table_dict['trans_with_class'][path_idx]\n",
    "    print(path)\n",
    "    df=pd.read_csv(path, index_col=0)\n",
    "    df[f'trans_{path_idx}'] = df['true_label']==df['predicted_label']\n",
    "    df=df.groupby('true_label')[[f'trans_{path_idx}']].mean()\n",
    "    acc_df = pd.concat([acc_df, df], axis=1)\n",
    "acc_df.index = ['bird', 'deer','dog', 'frog', 'horse']\n",
    "\n",
    "fig, axes=plt.subplots(2,1, figsize=(5,8))\n",
    "ax=axes[0]\n",
    "sns.heatmap(acc_df.iloc[:,1:]**2, linewidth=0.5,ax=ax)\n",
    "ax.set_title('Recall for different class with transformer')\n",
    "\n",
    "\n",
    "df=pd.read_csv(path, index_col=0)\n",
    "df['trans_withoutclass'] = df['true_label']==df['predicted_label']\n",
    "acc_df=df.groupby('true_label')[['trans_withoutclass']].mean()\n",
    "\n",
    "for path_idx in range(5):\n",
    "    path = table_dict['trans_with_class'][path_idx]\n",
    "    print(path)\n",
    "    df=pd.read_csv(path, index_col=0)\n",
    "    df[f'trans_{path_idx}'] = df['true_label']==df['predicted_label']\n",
    "    df=df.groupby('predicted_label')[[f'trans_{path_idx}']].mean()\n",
    "    acc_df = pd.concat([acc_df, df], axis=1)\n",
    "acc_df.index = ['bird', 'deer','dog', 'frog', 'horse']   \n",
    "\n",
    "\n",
    "ax=axes[1]\n",
    "sns.heatmap(acc_df.iloc[:,1:]**2, linewidth=0.5,ax=ax)\n",
    "ax.set_title('Precision for different class with transformer')\n",
    "\n",
    "\n",
    "plt.tight_layout()\n",
    "plt.show()\n"
   ]
  },
  {
   "cell_type": "code",
   "execution_count": 158,
   "id": "10debcac-414e-4576-b9f1-1668a5708ce2",
   "metadata": {},
   "outputs": [
    {
     "name": "stdout",
     "output_type": "stream",
     "text": [
      "result/transformer_with_class_transformed_2.csv\n",
      "   true_label  predicted_label                    predict_vote  max_count\n",
      "0           6                2   [26.0, 20.0, 23.0, 22.0, 9.0]         26\n",
      "1           6                4  [22.0, 30.0, 20.0, 16.0, 12.0]         30\n",
      "2           6                2  [26.0, 20.0, 19.0, 21.0, 14.0]         26\n",
      "3           5                7  [22.0, 22.0, 11.0, 21.0, 24.0]         24\n",
      "4           7                6   [16.0, 7.0, 28.0, 30.0, 19.0]         30\n",
      "result/transformer_with_class_transformed_4.csv\n",
      "   true_label  predicted_label                    predict_vote  max_count\n",
      "0           6                4  [19.0, 25.0, 18.0, 20.0, 18.0]         25\n",
      "1           6                6   [14.0, 23.0, 14.0, 40.0, 9.0]         40\n",
      "2           6                6  [12.0, 20.0, 19.0, 28.0, 21.0]         28\n",
      "3           5                6   [25.0, 17.0, 17.0, 32.0, 9.0]         32\n",
      "4           7                6  [16.0, 17.0, 21.0, 30.0, 16.0]         30\n",
      "result/transformer_with_class_transformed_5.csv\n",
      "   true_label  predicted_label                    predict_vote  max_count\n",
      "0           6                5  [14.0, 20.0, 34.0, 19.0, 13.0]         34\n",
      "1           6                2  [24.0, 20.0, 15.0, 22.0, 19.0]         24\n",
      "2           6                6  [13.0, 19.0, 19.0, 29.0, 20.0]         29\n",
      "3           5                5   [16.0, 6.0, 33.0, 23.0, 22.0]         33\n",
      "4           7                6  [25.0, 14.0, 15.0, 27.0, 19.0]         27\n",
      "result/transformer_with_class_transformed_6.csv\n",
      "   true_label  predicted_label                    predict_vote  max_count\n",
      "0           6                6  [21.0, 21.0, 19.0, 24.0, 15.0]         24\n",
      "1           6                4  [17.0, 25.0, 22.0, 25.0, 11.0]         25\n",
      "2           6                2  [24.0, 19.0, 17.0, 23.0, 17.0]         24\n",
      "3           5                4  [23.0, 29.0, 12.0, 25.0, 11.0]         29\n",
      "4           7                6  [22.0, 10.0, 12.0, 43.0, 13.0]         43\n",
      "result/transformer_with_class_transformed_7.csv\n",
      "   true_label  predicted_label                    predict_vote  max_count\n",
      "0           6                5   [21.0, 23.0, 26.0, 21.0, 9.0]         26\n",
      "1           6                4  [20.0, 25.0, 19.0, 25.0, 11.0]         25\n",
      "2           6                4  [21.0, 26.0, 17.0, 21.0, 15.0]         26\n",
      "3           5                5  [19.0, 14.0, 27.0, 16.0, 24.0]         27\n",
      "4           7                6  [21.0, 10.0, 17.0, 34.0, 18.0]         34\n"
     ]
    }
   ],
   "source": [
    "\n",
    "for path_idx in range(5):\n",
    "    path = table_dict['trans_with_class'][path_idx]\n",
    "    print(path)\n",
    "    df=pd.read_csv(path, index_col=0)\n",
    "    print(df.head())\n",
    "    \n",
    "    #acc_df = pd.concat([acc_df, df], axis=1)\n"
   ]
  },
  {
   "cell_type": "code",
   "execution_count": 142,
   "id": "433dfa2a-73f9-4354-97b4-d0fbbae4fdfc",
   "metadata": {},
   "outputs": [
    {
     "data": {
      "text/html": [
       "<div>\n",
       "<style scoped>\n",
       "    .dataframe tbody tr th:only-of-type {\n",
       "        vertical-align: middle;\n",
       "    }\n",
       "\n",
       "    .dataframe tbody tr th {\n",
       "        vertical-align: top;\n",
       "    }\n",
       "\n",
       "    .dataframe thead th {\n",
       "        text-align: right;\n",
       "    }\n",
       "</style>\n",
       "<table border=\"1\" class=\"dataframe\">\n",
       "  <thead>\n",
       "    <tr style=\"text-align: right;\">\n",
       "      <th></th>\n",
       "      <th>trans_0</th>\n",
       "      <th>trans_1</th>\n",
       "      <th>trans_2</th>\n",
       "      <th>trans_3</th>\n",
       "      <th>trans_4</th>\n",
       "    </tr>\n",
       "    <tr>\n",
       "      <th>true_label</th>\n",
       "      <th></th>\n",
       "      <th></th>\n",
       "      <th></th>\n",
       "      <th></th>\n",
       "      <th></th>\n",
       "    </tr>\n",
       "  </thead>\n",
       "  <tbody>\n",
       "    <tr>\n",
       "      <th>2</th>\n",
       "      <td>0.222784</td>\n",
       "      <td>0.154449</td>\n",
       "      <td>0.096100</td>\n",
       "      <td>0.083521</td>\n",
       "      <td>0.157609</td>\n",
       "    </tr>\n",
       "    <tr>\n",
       "      <th>4</th>\n",
       "      <td>0.099856</td>\n",
       "      <td>0.139129</td>\n",
       "      <td>0.017689</td>\n",
       "      <td>0.112896</td>\n",
       "      <td>0.023409</td>\n",
       "    </tr>\n",
       "    <tr>\n",
       "      <th>5</th>\n",
       "      <td>0.101124</td>\n",
       "      <td>0.038809</td>\n",
       "      <td>0.352836</td>\n",
       "      <td>0.036481</td>\n",
       "      <td>0.285156</td>\n",
       "    </tr>\n",
       "    <tr>\n",
       "      <th>6</th>\n",
       "      <td>0.055225</td>\n",
       "      <td>0.142129</td>\n",
       "      <td>0.029929</td>\n",
       "      <td>0.346921</td>\n",
       "      <td>0.016129</td>\n",
       "    </tr>\n",
       "    <tr>\n",
       "      <th>7</th>\n",
       "      <td>0.049729</td>\n",
       "      <td>0.036481</td>\n",
       "      <td>0.121801</td>\n",
       "      <td>0.025281</td>\n",
       "      <td>0.101761</td>\n",
       "    </tr>\n",
       "  </tbody>\n",
       "</table>\n",
       "</div>"
      ],
      "text/plain": [
       "             trans_0   trans_1   trans_2   trans_3   trans_4\n",
       "true_label                                                  \n",
       "2           0.222784  0.154449  0.096100  0.083521  0.157609\n",
       "4           0.099856  0.139129  0.017689  0.112896  0.023409\n",
       "5           0.101124  0.038809  0.352836  0.036481  0.285156\n",
       "6           0.055225  0.142129  0.029929  0.346921  0.016129\n",
       "7           0.049729  0.036481  0.121801  0.025281  0.101761"
      ]
     },
     "execution_count": 142,
     "metadata": {},
     "output_type": "execute_result"
    }
   ],
   "source": [
    "acc_df.iloc[:,1:]**2"
   ]
  },
  {
   "cell_type": "code",
   "execution_count": 138,
   "id": "69980aae-b96d-47f2-93c3-c78052bfafff",
   "metadata": {},
   "outputs": [
    {
     "data": {
      "image/png": "[encoded data removed]",
      "text/plain": [
       "<Figure size 640x480 with 2 Axes>"
      ]
     },
     "metadata": {},
     "output_type": "display_data"
    }
   ],
   "source": [
    "import numpy as np\n",
    "import seaborn as sns\n",
    "import matplotlib.pylab as plt\n",
    "\n",
    "uniform_data = np.random.rand(5,5)\n",
    "ax = sns.heatmap(uniform_data, linewidth=0.5,yticklabels=[f'transfomer{i}' for i in range(1,6)])\n",
    "plt.show()"
   ]
  },
  {
   "cell_type": "code",
   "execution_count": 355,
   "id": "9bea8ded-fb34-45ca-b8db-3dcbf99ba04d",
   "metadata": {},
   "outputs": [
    {
     "data": {
      "text/plain": [
       "array([[0.20703386, 0.98095634, 0.84528431, 0.49117089, 0.2310997 ,\n",
       "        0.96221338, 0.7092127 , 0.62082297, 0.52449807, 0.4493343 ,\n",
       "        0.26743956, 0.27264274],\n",
       "       [0.45515508, 0.26436077, 0.00992106, 0.12794698, 0.34502391,\n",
       "        0.00929407, 0.85504196, 0.69002142, 0.44237285, 0.31214049,\n",
       "        0.1467326 , 0.26043045],\n",
       "       [0.93623923, 0.99238819, 0.87376545, 0.43141018, 0.18336744,\n",
       "        0.35137287, 0.90192376, 0.26105408, 0.4199913 , 0.97055221,\n",
       "        0.13415126, 0.49844073],\n",
       "       [0.29897684, 0.82148718, 0.99270462, 0.93398512, 0.77282747,\n",
       "        0.20904251, 0.70573066, 0.65495002, 0.10928361, 0.4159163 ,\n",
       "        0.64076517, 0.82462015],\n",
       "       [0.49335032, 0.85928026, 0.37697241, 0.70139909, 0.48836579,\n",
       "        0.64082135, 0.151143  , 0.78873355, 0.28758185, 0.55129065,\n",
       "        0.97993064, 0.95214137],\n",
       "       [0.12627034, 0.88881444, 0.60723414, 0.86244533, 0.51284159,\n",
       "        0.45314555, 0.43046567, 0.87899811, 0.09152262, 0.63625436,\n",
       "        0.90358729, 0.17205639],\n",
       "       [0.6649145 , 0.36670718, 0.67819013, 0.257371  , 0.58644341,\n",
       "        0.57506606, 0.53601968, 0.18688934, 0.48506224, 0.79953014,\n",
       "        0.06110849, 0.44139576],\n",
       "       [0.94775526, 0.01467121, 0.6403741 , 0.85865275, 0.7794169 ,\n",
       "        0.65333273, 0.55065016, 0.89305194, 0.29778655, 0.84567106,\n",
       "        0.75559959, 0.2470482 ],\n",
       "       [0.28018915, 0.1411566 , 0.184919  , 0.86897976, 0.16084848,\n",
       "        0.56170426, 0.4734389 , 0.32292559, 0.6465703 , 0.30328086,\n",
       "        0.97839423, 0.46137069],\n",
       "       [0.01415426, 0.89790844, 0.63273801, 0.7853828 , 0.50122322,\n",
       "        0.259826  , 0.90977549, 0.67599686, 0.96426075, 0.53743132,\n",
       "        0.64901067, 0.51829318]])"
      ]
     },
     "execution_count": 355,
     "metadata": {},
     "output_type": "execute_result"
    }
   ],
   "source": [
    "uniform_data"
   ]
  },
  {
   "cell_type": "markdown",
   "id": "3e171dd6-3e0d-49b4-adf4-414f6f524ef3",
   "metadata": {
    "jp-MarkdownHeadingCollapsed": true,
    "tags": []
   },
   "source": [
    "### Sketch"
   ]
  },
  {
   "cell_type": "code",
   "execution_count": null,
   "id": "05cdf276-e0c0-42eb-aef0-c53f7dbe4cbe",
   "metadata": {},
   "outputs": [],
   "source": []
  },
  {
   "cell_type": "code",
   "execution_count": 272,
   "id": "45c41500-cc78-404f-93df-44a40440c5d9",
   "metadata": {},
   "outputs": [
    {
     "data": {
      "text/plain": [
       "[1, 2, 3]"
      ]
     },
     "execution_count": 272,
     "metadata": {},
     "output_type": "execute_result"
    }
   ],
   "source": [
    "np.array([1,2,3]).tolist()"
   ]
  },
  {
   "cell_type": "code",
   "execution_count": 241,
   "id": "dbfba53f-8ffc-45b5-b5fe-f46337a389b5",
   "metadata": {},
   "outputs": [
    {
     "data": {
      "text/plain": [
       "array([['7.0', '6.0', '8.0', '74.0', '5.0'],\n",
       "       ['5.0', '55.0', '2.0', '36.0', '2.0'],\n",
       "       ['65.0', '14.0', '5.0', '12.0', '4.0'],\n",
       "       ...,\n",
       "       ['59.0', '9.0', '15.0', '7.0', '10.0'],\n",
       "       ['64.0', '18.0', '8.0', '3.0', '7.0'],\n",
       "       ['17.0', '14.0', '10.0', '48.0', '11.0']], dtype='<U32')"
      ]
     },
     "execution_count": 241,
     "metadata": {},
     "output_type": "execute_result"
    }
   ],
   "source": [
    "vote_count.astype(str)"
   ]
  },
  {
   "cell_type": "code",
   "execution_count": 238,
   "id": "ac196874-616f-47f9-9309-cbf163ce38b5",
   "metadata": {},
   "outputs": [
    {
     "name": "stderr",
     "output_type": "stream",
     "text": [
      "/var/folders/y9/kq138hps5jdgv8y5zls1m38h0000gn/T/ipykernel_1614/2031691219.py:1: FutureWarning: The default dtype for empty Series will be 'object' instead of 'float64' in a future version. Specify a dtype explicitly to silence this warning.\n",
      "  pd.Series()\n"
     ]
    },
    {
     "data": {
      "text/plain": [
       "Series([], dtype: float64)"
      ]
     },
     "execution_count": 238,
     "metadata": {},
     "output_type": "execute_result"
    }
   ],
   "source": [
    "pd.Series()"
   ]
  },
  {
   "cell_type": "code",
   "execution_count": 239,
   "id": "eb318017-cd6b-4b11-8242-79900a03029a",
   "metadata": {},
   "outputs": [
    {
     "data": {
      "text/html": [
       "<div>\n",
       "<style scoped>\n",
       "    .dataframe tbody tr th:only-of-type {\n",
       "        vertical-align: middle;\n",
       "    }\n",
       "\n",
       "    .dataframe tbody tr th {\n",
       "        vertical-align: top;\n",
       "    }\n",
       "\n",
       "    .dataframe thead th {\n",
       "        text-align: right;\n",
       "    }\n",
       "</style>\n",
       "<table border=\"1\" class=\"dataframe\">\n",
       "  <thead>\n",
       "    <tr style=\"text-align: right;\">\n",
       "      <th></th>\n",
       "      <th>true_label</th>\n",
       "      <th>predicted_label</th>\n",
       "      <th>predict_vote</th>\n",
       "    </tr>\n",
       "  </thead>\n",
       "  <tbody>\n",
       "    <tr>\n",
       "      <th>0</th>\n",
       "      <td>6</td>\n",
       "      <td>6</td>\n",
       "      <td>7.0</td>\n",
       "    </tr>\n",
       "    <tr>\n",
       "      <th>1</th>\n",
       "      <td>4</td>\n",
       "      <td>4</td>\n",
       "      <td>5.0</td>\n",
       "    </tr>\n",
       "    <tr>\n",
       "      <th>2</th>\n",
       "      <td>2</td>\n",
       "      <td>2</td>\n",
       "      <td>65.0</td>\n",
       "    </tr>\n",
       "    <tr>\n",
       "      <th>3</th>\n",
       "      <td>7</td>\n",
       "      <td>7</td>\n",
       "      <td>4.0</td>\n",
       "    </tr>\n",
       "    <tr>\n",
       "      <th>4</th>\n",
       "      <td>4</td>\n",
       "      <td>4</td>\n",
       "      <td>13.0</td>\n",
       "    </tr>\n",
       "    <tr>\n",
       "      <th>...</th>\n",
       "      <td>...</td>\n",
       "      <td>...</td>\n",
       "      <td>...</td>\n",
       "    </tr>\n",
       "    <tr>\n",
       "      <th>24995</th>\n",
       "      <td>5</td>\n",
       "      <td>5</td>\n",
       "      <td>14.0</td>\n",
       "    </tr>\n",
       "    <tr>\n",
       "      <th>24996</th>\n",
       "      <td>4</td>\n",
       "      <td>4</td>\n",
       "      <td>31.0</td>\n",
       "    </tr>\n",
       "    <tr>\n",
       "      <th>24997</th>\n",
       "      <td>2</td>\n",
       "      <td>2</td>\n",
       "      <td>59.0</td>\n",
       "    </tr>\n",
       "    <tr>\n",
       "      <th>24998</th>\n",
       "      <td>2</td>\n",
       "      <td>2</td>\n",
       "      <td>64.0</td>\n",
       "    </tr>\n",
       "    <tr>\n",
       "      <th>24999</th>\n",
       "      <td>6</td>\n",
       "      <td>6</td>\n",
       "      <td>17.0</td>\n",
       "    </tr>\n",
       "  </tbody>\n",
       "</table>\n",
       "<p>25000 rows × 3 columns</p>\n",
       "</div>"
      ],
      "text/plain": [
       "       true_label  predicted_label  predict_vote\n",
       "0               6                6           7.0\n",
       "1               4                4           5.0\n",
       "2               2                2          65.0\n",
       "3               7                7           4.0\n",
       "4               4                4          13.0\n",
       "...           ...              ...           ...\n",
       "24995           5                5          14.0\n",
       "24996           4                4          31.0\n",
       "24997           2                2          59.0\n",
       "24998           2                2          64.0\n",
       "24999           6                6          17.0\n",
       "\n",
       "[25000 rows x 3 columns]"
      ]
     },
     "execution_count": 239,
     "metadata": {},
     "output_type": "execute_result"
    }
   ],
   "source": [
    "df"
   ]
  },
  {
   "cell_type": "code",
   "execution_count": 222,
   "id": "27420d6d-2461-4714-bb59-85c112c43a2c",
   "metadata": {},
   "outputs": [
    {
     "data": {
      "text/plain": [
       "array([6, 4, 2, ..., 2, 2, 6])"
      ]
     },
     "execution_count": 222,
     "metadata": {},
     "output_type": "execute_result"
    }
   ],
   "source": [
    "np.array([2,4,5,6,7])[vote_count.argmax(axis=1)]"
   ]
  },
  {
   "cell_type": "code",
   "execution_count": 221,
   "id": "a4f9ef9c-e93a-4b01-9c80-5c916c10b917",
   "metadata": {},
   "outputs": [
    {
     "data": {
      "text/plain": [
       "array([6, 4, 2, ..., 2, 2, 6], dtype=int32)"
      ]
     },
     "execution_count": 221,
     "metadata": {},
     "output_type": "execute_result"
    }
   ],
   "source": [
    "train_label"
   ]
  },
  {
   "cell_type": "code",
   "execution_count": 210,
   "id": "f1b0da4b-99b2-4185-986d-ef9c6f84328e",
   "metadata": {},
   "outputs": [],
   "source": [
    "model=model\n",
    "X_in = train_data\n",
    "n_size = X_in.shape[0]\n",
    "\n",
    "result_arr=np.zeros((n_size, 5))\n",
    "for tree in model.estimators_:\n",
    "    result = tree.predict(X_in)\n",
    "    for idx in range(n_size):\n",
    "        result_arr[idx][int(result[idx])]+=1\n",
    "   "
   ]
  },
  {
   "cell_type": "code",
   "execution_count": 189,
   "id": "2b51eebc-5e7a-41b4-bd4c-6c457af542f4",
   "metadata": {},
   "outputs": [
    {
     "data": {
      "text/plain": [
       "(25000, 5)"
      ]
     },
     "execution_count": 189,
     "metadata": {},
     "output_type": "execute_result"
    }
   ],
   "source": [
    "result_arr.shape"
   ]
  },
  {
   "cell_type": "code",
   "execution_count": 202,
   "id": "79f0588d-0b3e-4253-830d-3a350d88cab4",
   "metadata": {},
   "outputs": [
    {
     "name": "stdout",
     "output_type": "stream",
     "text": [
      "use input model\n"
     ]
    }
   ],
   "source": [
    "results =classifier.report_votes(train_data, model = model)"
   ]
  },
  {
   "cell_type": "code",
   "execution_count": 166,
   "id": "9545c34a-d2bb-4181-89c8-d104f846a396",
   "metadata": {},
   "outputs": [
    {
     "data": {
      "text/plain": [
       "(25000,)"
      ]
     },
     "execution_count": 166,
     "metadata": {},
     "output_type": "execute_result"
    }
   ],
   "source": [
    "result.shape"
   ]
  },
  {
   "cell_type": "code",
   "execution_count": 161,
   "id": "5770e65f-9f34-4d4f-b204-008cf7c3c69f",
   "metadata": {},
   "outputs": [
    {
     "data": {
      "text/plain": [
       "array([6], dtype=int32)"
      ]
     },
     "execution_count": 161,
     "metadata": {},
     "output_type": "execute_result"
    }
   ],
   "source": [
    "train_label[0:1]"
   ]
  },
  {
   "cell_type": "code",
   "execution_count": 162,
   "id": "a801611c-1152-43a8-992d-238c1a852221",
   "metadata": {},
   "outputs": [
    {
     "data": {
      "text/plain": [
       "array([ 8., 12.,  7., 66.,  7.])"
      ]
     },
     "execution_count": 162,
     "metadata": {},
     "output_type": "execute_result"
    }
   ],
   "source": [
    "result_dic"
   ]
  },
  {
   "cell_type": "code",
   "execution_count": 111,
   "id": "21354d3a-3379-410e-96fc-6616ff5ca7ed",
   "metadata": {},
   "outputs": [
    {
     "data": {
      "image/png": "[encoded data removed]",
      "text/plain": [
       "<Figure size 640x480 with 1 Axes>"
      ]
     },
     "metadata": {},
     "output_type": "display_data"
    }
   ],
   "source": [
    "import matplotlib.pyplot as plt\n",
    "\n",
    "\n",
    "image_todisplay = np.zeros\n",
    "\n",
    "plt.imshow([(255, 0, 0)])\n",
    "plt.show()"
   ]
  },
  {
   "cell_type": "code",
   "execution_count": 126,
   "id": "57885980-01fb-4c09-b8a3-eadaf4c2e23c",
   "metadata": {},
   "outputs": [
    {
     "data": {
      "image/png": "[encoded data removed]",
      "text/plain": [
       "<Figure size 640x480 with 1 Axes>"
      ]
     },
     "metadata": {},
     "output_type": "display_data"
    }
   ],
   "source": [
    "image=train_data[40].reshape((3,32,32))\n",
    "image_todisplay = np.zeros((32,32,3))\n",
    "for w in range(image_todisplay.shape[0]):\n",
    "    for h in range(image_todisplay.shape[1]):\n",
    "        for c in range(image_todisplay.shape[2]):\n",
    "            image_todisplay[w][h][c]=image[c][w][h]\n",
    "plt.imshow(image_todisplay.astype(int))\n",
    "plt.show()"
   ]
  },
  {
   "cell_type": "code",
   "execution_count": 130,
   "id": "7e24dbd5-e2f1-4c14-b5d1-dc21eba1c778",
   "metadata": {},
   "outputs": [
    {
     "data": {
      "image/png": "[encoded data removed]",
      "text/plain": [
       "<Figure size 640x480 with 1 Axes>"
      ]
     },
     "metadata": {},
     "output_type": "display_data"
    }
   ],
   "source": [
    "image=train_data[40].reshape((3, 1024))\n",
    "image_todisplay = np.zeros((32,32,3))\n",
    "for c in range(3):\n",
    "    image_c=image[c].reshape(32,32)\n",
    "    for w in range(image_todisplay.shape[0]):\n",
    "        for h in range(image_todisplay.shape[1]):\n",
    "            image_todisplay[w][h][c]=image_c[w][h]\n",
    "plt.imshow(image_todisplay.astype(int))\n",
    "plt.show()"
   ]
  },
  {
   "cell_type": "code",
   "execution_count": 135,
   "id": "eba596d9-7664-450b-ab22-be3b7e60ec59",
   "metadata": {},
   "outputs": [],
   "source": [
    "def display_image(train_image):\n",
    "    '''\n",
    "    takes in array of a single image:\n",
    "    1. image shape 3072 [array of r, array of g, array of b]\n",
    "    2. image shape 3*32*32 or 3 * 1024 [[array of r], [array of g], [array of b]]\n",
    "    '''\n",
    "    image_todisplay = np.zeros((32,32,3))\n",
    "    if train_image.shape[0] == 32*32*3:\n",
    "        #reshape input array\n",
    "        image=train_image.reshape((3,32,32))\n",
    "        for w in range(image_todisplay.shape[0]):\n",
    "            for h in range(image_todisplay.shape[1]):\n",
    "                for c in range(image_todisplay.shape[2]):\n",
    "                    image_todisplay[w][h][c]=image[c][w][h]\n",
    "        plt.imshow(image_todisplay.astype(int))\n",
    "        plt.show()\n",
    "        \n",
    "    elif train_image.shape[0] == 3:\n",
    "        #loop through channel of input image\n",
    "        for c in range(3):\n",
    "            image_c=train_image[c].reshape(32,32)\n",
    "            for w in range(image_todisplay.shape[0]):\n",
    "                for h in range(image_todisplay.shape[1]):\n",
    "                    image_todisplay[w][h][c]=image_c[w][h]\n",
    "        plt.imshow(image_todisplay.astype(int))\n",
    "        plt.show()\n",
    "    else: \n",
    "        print('check in put shape, input shape is ', train_image.shape)\n",
    "    return image_todisplay"
   ]
  },
  {
   "cell_type": "code",
   "execution_count": 139,
   "id": "96b83485-0d9d-4bd8-aed1-4decf3de5ec2",
   "metadata": {},
   "outputs": [
    {
     "data": {
      "image/png": "[encoded data removed]",
      "text/plain": [
       "<Figure size 640x480 with 1 Axes>"
      ]
     },
     "metadata": {},
     "output_type": "display_data"
    },
    {
     "data": {
      "text/plain": [
       "array([[[165.90361446, 218.13253012, 247.8313253 ],\n",
       "        [163.85542169, 215.06024096, 243.73493976],\n",
       "        [163.85542169, 215.06024096, 243.73493976],\n",
       "        ...,\n",
       "        [158.73493976, 213.01204819, 240.6626506 ],\n",
       "        [154.63855422, 210.96385542, 238.61445783],\n",
       "        [154.63855422, 205.84337349, 237.59036145]],\n",
       "\n",
       "       [[170.        , 221.20481928, 248.85542169],\n",
       "        [167.95180723, 218.13253012, 245.78313253],\n",
       "        [167.95180723, 218.13253012, 245.78313253],\n",
       "        ...,\n",
       "        [165.90361446, 215.06024096, 241.68674699],\n",
       "        [161.80722892, 211.98795181, 239.63855422],\n",
       "        [159.75903614, 207.89156627, 238.61445783]],\n",
       "\n",
       "       [[174.09638554, 223.25301205, 249.87951807],\n",
       "        [172.04819277, 220.18072289, 246.80722892],\n",
       "        [173.07228916, 221.20481928, 247.8313253 ],\n",
       "        ...,\n",
       "        [170.        , 215.06024096, 241.68674699],\n",
       "        [166.92771084, 210.96385542, 238.61445783],\n",
       "        [164.87951807, 209.93975904, 239.63855422]],\n",
       "\n",
       "       ...,\n",
       "\n",
       "       [[123.91566265, 161.80722892, 105.48192771],\n",
       "        [117.77108434, 155.6626506 , 102.40963855],\n",
       "        [112.65060241, 150.54216867,  99.3373494 ],\n",
       "        ...,\n",
       "        [117.77108434, 137.22891566, 100.36144578],\n",
       "        [ 95.24096386, 115.72289157,  78.85542169],\n",
       "        [120.84337349, 150.54216867, 100.36144578]],\n",
       "\n",
       "       [[120.84337349, 157.71084337, 100.36144578],\n",
       "        [116.74698795, 152.59036145,  99.3373494 ],\n",
       "        [112.65060241, 148.4939759 ,  96.26506024],\n",
       "        ...,\n",
       "        [126.98795181, 150.54216867, 110.60240964],\n",
       "        [120.84337349, 145.42168675, 103.43373494],\n",
       "        [120.84337349, 153.61445783, 101.38554217]],\n",
       "\n",
       "       [[121.86746988, 155.6626506 ,  96.26506024],\n",
       "        [120.84337349, 153.61445783,  99.3373494 ],\n",
       "        [116.74698795, 149.51807229,  97.28915663],\n",
       "        ...,\n",
       "        [124.93975904, 153.61445783, 108.55421687],\n",
       "        [124.93975904, 155.6626506 , 107.53012048],\n",
       "        [120.84337349, 155.6626506 , 100.36144578]]])"
      ]
     },
     "execution_count": 139,
     "metadata": {},
     "output_type": "execute_result"
    }
   ],
   "source": [
    "image_12= (train_data[12])\n",
    "image_12_norm = (image_12-image_12.min())/(image_12.max()-image_12.min())\n",
    "display_image(image_12_norm*255)"
   ]
  },
  {
   "cell_type": "code",
   "execution_count": 136,
   "id": "9af189b8-407f-4605-a04f-3548af5b4111",
   "metadata": {},
   "outputs": [
    {
     "data": {
      "image/png": "[encoded data removed]",
      "text/plain": [
       "<Figure size 640x480 with 1 Axes>"
      ]
     },
     "metadata": {},
     "output_type": "display_data"
    },
    {
     "data": {
      "text/plain": [
       "array([[[164., 215., 244.],\n",
       "        [162., 212., 240.],\n",
       "        [162., 212., 240.],\n",
       "        ...,\n",
       "        [157., 210., 237.],\n",
       "        [153., 208., 235.],\n",
       "        [153., 203., 234.]],\n",
       "\n",
       "       [[168., 218., 245.],\n",
       "        [166., 215., 242.],\n",
       "        [166., 215., 242.],\n",
       "        ...,\n",
       "        [164., 212., 238.],\n",
       "        [160., 209., 236.],\n",
       "        [158., 205., 235.]],\n",
       "\n",
       "       [[172., 220., 246.],\n",
       "        [170., 217., 243.],\n",
       "        [171., 218., 244.],\n",
       "        ...,\n",
       "        [168., 212., 238.],\n",
       "        [165., 208., 235.],\n",
       "        [163., 207., 236.]],\n",
       "\n",
       "       ...,\n",
       "\n",
       "       [[123., 160., 105.],\n",
       "        [117., 154., 102.],\n",
       "        [112., 149.,  99.],\n",
       "        ...,\n",
       "        [117., 136., 100.],\n",
       "        [ 95., 115.,  79.],\n",
       "        [120., 149., 100.]],\n",
       "\n",
       "       [[120., 156., 100.],\n",
       "        [116., 151.,  99.],\n",
       "        [112., 147.,  96.],\n",
       "        ...,\n",
       "        [126., 149., 110.],\n",
       "        [120., 144., 103.],\n",
       "        [120., 152., 101.]],\n",
       "\n",
       "       [[121., 154.,  96.],\n",
       "        [120., 152.,  99.],\n",
       "        [116., 148.,  97.],\n",
       "        ...,\n",
       "        [124., 152., 108.],\n",
       "        [124., 154., 107.],\n",
       "        [120., 154., 100.]]])"
      ]
     },
     "execution_count": 136,
     "metadata": {},
     "output_type": "execute_result"
    }
   ],
   "source": [
    "display_image(train_data[12].reshape((3,32,32)))"
   ]
  },
  {
   "cell_type": "code",
   "execution_count": null,
   "id": "80cfcdc9-cab2-42f1-a0a9-9d1b67cf7afe",
   "metadata": {},
   "outputs": [],
   "source": []
  },
  {
   "cell_type": "code",
   "execution_count": 35,
   "id": "8cb73f8e-2cd4-4440-a783-dce4ebd722e1",
   "metadata": {},
   "outputs": [
    {
     "data": {
      "text/plain": [
       "((50000, 3072), (50000,))"
      ]
     },
     "execution_count": 35,
     "metadata": {},
     "output_type": "execute_result"
    }
   ],
   "source": []
  },
  {
   "cell_type": "code",
   "execution_count": 27,
   "id": "31766f3b-7202-4600-9785-37f5331c771c",
   "metadata": {},
   "outputs": [],
   "source": [
    "#get model\n",
    "rfc=classifier.models()[\"RandomForestClassifier\"]"
   ]
  },
  {
   "cell_type": "code",
   "execution_count": 58,
   "id": "d7a0d9f0-ab45-4049-b722-2d1e9cc7caea",
   "metadata": {},
   "outputs": [
    {
     "data": {
      "text/plain": [
       "{'bootstrap': True,\n",
       " 'ccp_alpha': 0.0,\n",
       " 'class_weight': None,\n",
       " 'criterion': 'gini',\n",
       " 'max_depth': None,\n",
       " 'max_features': 'sqrt',\n",
       " 'max_leaf_nodes': None,\n",
       " 'max_samples': None,\n",
       " 'min_impurity_decrease': 0.0,\n",
       " 'min_samples_leaf': 1,\n",
       " 'min_samples_split': 2,\n",
       " 'min_weight_fraction_leaf': 0.0,\n",
       " 'n_estimators': 100,\n",
       " 'n_jobs': None,\n",
       " 'oob_score': False,\n",
       " 'random_state': 28,\n",
       " 'verbose': 0,\n",
       " 'warm_start': False}"
      ]
     },
     "execution_count": 58,
     "metadata": {},
     "output_type": "execute_result"
    }
   ],
   "source": [
    "rfc.get_params()"
   ]
  },
  {
   "cell_type": "code",
   "execution_count": 29,
   "id": "8deede7d-40a5-433c-80b1-add2edb23607",
   "metadata": {},
   "outputs": [
    {
     "data": {
      "text/html": [
       "<div>\n",
       "<style scoped>\n",
       "    .dataframe tbody tr th:only-of-type {\n",
       "        vertical-align: middle;\n",
       "    }\n",
       "\n",
       "    .dataframe tbody tr th {\n",
       "        vertical-align: top;\n",
       "    }\n",
       "\n",
       "    .dataframe thead th {\n",
       "        text-align: right;\n",
       "    }\n",
       "</style>\n",
       "<table border=\"1\" class=\"dataframe\">\n",
       "  <thead>\n",
       "    <tr style=\"text-align: right;\">\n",
       "      <th></th>\n",
       "      <th>exp_id</th>\n",
       "      <th>max_depth</th>\n",
       "      <th>max_features</th>\n",
       "      <th>min_samples_leaf</th>\n",
       "      <th>n_estimators</th>\n",
       "      <th>result</th>\n",
       "    </tr>\n",
       "  </thead>\n",
       "  <tbody>\n",
       "  </tbody>\n",
       "</table>\n",
       "</div>"
      ],
      "text/plain": [
       "Empty DataFrame\n",
       "Columns: [exp_id, max_depth, max_features, min_samples_leaf, n_estimators, result]\n",
       "Index: []"
      ]
     },
     "execution_count": 29,
     "metadata": {},
     "output_type": "execute_result"
    }
   ],
   "source": [
    "#initiate result table\n",
    "col_names = ['exp_id','max_depth','max_features','min_samples_leaf','n_estimators','result']\n",
    "results = pd.DataFrame(columns =col_names )\n",
    "results"
   ]
  },
  {
   "cell_type": "code",
   "execution_count": 38,
   "id": "00fa6465-462a-45fe-a730-ad774eea296a",
   "metadata": {
    "tags": []
   },
   "outputs": [
    {
     "data": {
      "text/html": [
       "<style>#sk-container-id-2 {color: black;background-color: white;}#sk-container-id-2 pre{padding: 0;}#sk-container-id-2 div.sk-toggleable {background-color: white;}#sk-container-id-2 label.sk-toggleable__label {cursor: pointer;display: block;width: 100%;margin-bottom: 0;padding: 0.3em;box-sizing: border-box;text-align: center;}#sk-container-id-2 label.sk-toggleable__label-arrow:before {content: \"▸\";float: left;margin-right: 0.25em;color: #696969;}#sk-container-id-2 label.sk-toggleable__label-arrow:hover:before {color: black;}#sk-container-id-2 div.sk-estimator:hover label.sk-toggleable__label-arrow:before {color: black;}#sk-container-id-2 div.sk-toggleable__content {max-height: 0;max-width: 0;overflow: hidden;text-align: left;background-color: #f0f8ff;}#sk-container-id-2 div.sk-toggleable__content pre {margin: 0.2em;color: black;border-radius: 0.25em;background-color: #f0f8ff;}#sk-container-id-2 input.sk-toggleable__control:checked~div.sk-toggleable__content {max-height: 200px;max-width: 100%;overflow: auto;}#sk-container-id-2 input.sk-toggleable__control:checked~label.sk-toggleable__label-arrow:before {content: \"▾\";}#sk-container-id-2 div.sk-estimator input.sk-toggleable__control:checked~label.sk-toggleable__label {background-color: #d4ebff;}#sk-container-id-2 div.sk-label input.sk-toggleable__control:checked~label.sk-toggleable__label {background-color: #d4ebff;}#sk-container-id-2 input.sk-hidden--visually {border: 0;clip: rect(1px 1px 1px 1px);clip: rect(1px, 1px, 1px, 1px);height: 1px;margin: -1px;overflow: hidden;padding: 0;position: absolute;width: 1px;}#sk-container-id-2 div.sk-estimator {font-family: monospace;background-color: #f0f8ff;border: 1px dotted black;border-radius: 0.25em;box-sizing: border-box;margin-bottom: 0.5em;}#sk-container-id-2 div.sk-estimator:hover {background-color: #d4ebff;}#sk-container-id-2 div.sk-parallel-item::after {content: \"\";width: 100%;border-bottom: 1px solid gray;flex-grow: 1;}#sk-container-id-2 div.sk-label:hover label.sk-toggleable__label {background-color: #d4ebff;}#sk-container-id-2 div.sk-serial::before {content: \"\";position: absolute;border-left: 1px solid gray;box-sizing: border-box;top: 0;bottom: 0;left: 50%;z-index: 0;}#sk-container-id-2 div.sk-serial {display: flex;flex-direction: column;align-items: center;background-color: white;padding-right: 0.2em;padding-left: 0.2em;position: relative;}#sk-container-id-2 div.sk-item {position: relative;z-index: 1;}#sk-container-id-2 div.sk-parallel {display: flex;align-items: stretch;justify-content: center;background-color: white;position: relative;}#sk-container-id-2 div.sk-item::before, #sk-container-id-2 div.sk-parallel-item::before {content: \"\";position: absolute;border-left: 1px solid gray;box-sizing: border-box;top: 0;bottom: 0;left: 50%;z-index: -1;}#sk-container-id-2 div.sk-parallel-item {display: flex;flex-direction: column;z-index: 1;position: relative;background-color: white;}#sk-container-id-2 div.sk-parallel-item:first-child::after {align-self: flex-end;width: 50%;}#sk-container-id-2 div.sk-parallel-item:last-child::after {align-self: flex-start;width: 50%;}#sk-container-id-2 div.sk-parallel-item:only-child::after {width: 0;}#sk-container-id-2 div.sk-dashed-wrapped {border: 1px dashed gray;margin: 0 0.4em 0.5em 0.4em;box-sizing: border-box;padding-bottom: 0.4em;background-color: white;}#sk-container-id-2 div.sk-label label {font-family: monospace;font-weight: bold;display: inline-block;line-height: 1.2em;}#sk-container-id-2 div.sk-label-container {text-align: center;}#sk-container-id-2 div.sk-container {/* jupyter's `normalize.less` sets `[hidden] { display: none; }` but bootstrap.min.css set `[hidden] { display: none !important; }` so we also need the `!important` here to be able to override the default hidden behavior on the sphinx rendered scikit-learn.org. See: https://github.com/scikit-learn/scikit-learn/issues/21755 */display: inline-block !important;position: relative;}#sk-container-id-2 div.sk-text-repr-fallback {display: none;}</style><div id=\"sk-container-id-2\" class=\"sk-top-container\"><div class=\"sk-text-repr-fallback\"><pre>RandomForestClassifier(random_state=28)</pre><b>In a Jupyter environment, please rerun this cell to show the HTML representation or trust the notebook. <br />On GitHub, the HTML representation is unable to render, please try loading this page with nbviewer.org.</b></div><div class=\"sk-container\" hidden><div class=\"sk-item\"><div class=\"sk-estimator sk-toggleable\"><input class=\"sk-toggleable__control sk-hidden--visually\" id=\"sk-estimator-id-2\" type=\"checkbox\" checked><label for=\"sk-estimator-id-2\" class=\"sk-toggleable__label sk-toggleable__label-arrow\">RandomForestClassifier</label><div class=\"sk-toggleable__content\"><pre>RandomForestClassifier(random_state=28)</pre></div></div></div></div></div>"
      ],
      "text/plain": [
       "RandomForestClassifier(random_state=28)"
      ]
     },
     "execution_count": 38,
     "metadata": {},
     "output_type": "execute_result"
    }
   ],
   "source": [
    "rfc.fit(train_data,train_label)"
   ]
  },
  {
   "cell_type": "code",
   "execution_count": 99,
   "id": "048e08c0-f19b-4a14-870a-341dc0deb610",
   "metadata": {},
   "outputs": [
    {
     "name": "stdout",
     "output_type": "stream",
     "text": [
      "finish training experiment: 0 {'max_depth': 10, 'max_features': 'sqrt', 'min_samples_leaf': 1, 'n_estimators': 100, 'exp_id': 0, 'result': 0.4112}\n",
      "finish training experiment: 1 {'max_depth': 10, 'max_features': 'sqrt', 'min_samples_leaf': 100, 'n_estimators': 100, 'exp_id': 1, 'result': 0.38104}\n",
      "finish training experiment: 2 {'max_depth': 30, 'max_features': 'sqrt', 'min_samples_leaf': 1, 'n_estimators': 100, 'exp_id': 2, 'result': 0.44132}\n",
      "finish training experiment: 3 {'max_depth': 30, 'max_features': 'sqrt', 'min_samples_leaf': 100, 'n_estimators': 100, 'exp_id': 3, 'result': 0.38052}\n",
      "exp_id                    2\n",
      "max_depth                30\n",
      "max_features           sqrt\n",
      "min_samples_leaf          1\n",
      "n_estimators            100\n",
      "result              0.44132\n",
      "Name: 2, dtype: object\n",
      "{'bootstrap': True, 'ccp_alpha': 0.0, 'class_weight': None, 'criterion': 'gini', 'max_depth': 30, 'max_features': 'sqrt', 'max_leaf_nodes': None, 'max_samples': None, 'min_impurity_decrease': 0.0, 'min_samples_leaf': 1, 'min_samples_split': 2, 'min_weight_fraction_leaf': 0.0, 'n_estimators': 100, 'n_jobs': None, 'oob_score': False, 'random_state': 28, 'verbose': 0, 'warm_start': False}\n"
     ]
    },
    {
     "data": {
      "text/html": [
       "<style>#sk-container-id-4 {color: black;background-color: white;}#sk-container-id-4 pre{padding: 0;}#sk-container-id-4 div.sk-toggleable {background-color: white;}#sk-container-id-4 label.sk-toggleable__label {cursor: pointer;display: block;width: 100%;margin-bottom: 0;padding: 0.3em;box-sizing: border-box;text-align: center;}#sk-container-id-4 label.sk-toggleable__label-arrow:before {content: \"▸\";float: left;margin-right: 0.25em;color: #696969;}#sk-container-id-4 label.sk-toggleable__label-arrow:hover:before {color: black;}#sk-container-id-4 div.sk-estimator:hover label.sk-toggleable__label-arrow:before {color: black;}#sk-container-id-4 div.sk-toggleable__content {max-height: 0;max-width: 0;overflow: hidden;text-align: left;background-color: #f0f8ff;}#sk-container-id-4 div.sk-toggleable__content pre {margin: 0.2em;color: black;border-radius: 0.25em;background-color: #f0f8ff;}#sk-container-id-4 input.sk-toggleable__control:checked~div.sk-toggleable__content {max-height: 200px;max-width: 100%;overflow: auto;}#sk-container-id-4 input.sk-toggleable__control:checked~label.sk-toggleable__label-arrow:before {content: \"▾\";}#sk-container-id-4 div.sk-estimator input.sk-toggleable__control:checked~label.sk-toggleable__label {background-color: #d4ebff;}#sk-container-id-4 div.sk-label input.sk-toggleable__control:checked~label.sk-toggleable__label {background-color: #d4ebff;}#sk-container-id-4 input.sk-hidden--visually {border: 0;clip: rect(1px 1px 1px 1px);clip: rect(1px, 1px, 1px, 1px);height: 1px;margin: -1px;overflow: hidden;padding: 0;position: absolute;width: 1px;}#sk-container-id-4 div.sk-estimator {font-family: monospace;background-color: #f0f8ff;border: 1px dotted black;border-radius: 0.25em;box-sizing: border-box;margin-bottom: 0.5em;}#sk-container-id-4 div.sk-estimator:hover {background-color: #d4ebff;}#sk-container-id-4 div.sk-parallel-item::after {content: \"\";width: 100%;border-bottom: 1px solid gray;flex-grow: 1;}#sk-container-id-4 div.sk-label:hover label.sk-toggleable__label {background-color: #d4ebff;}#sk-container-id-4 div.sk-serial::before {content: \"\";position: absolute;border-left: 1px solid gray;box-sizing: border-box;top: 0;bottom: 0;left: 50%;z-index: 0;}#sk-container-id-4 div.sk-serial {display: flex;flex-direction: column;align-items: center;background-color: white;padding-right: 0.2em;padding-left: 0.2em;position: relative;}#sk-container-id-4 div.sk-item {position: relative;z-index: 1;}#sk-container-id-4 div.sk-parallel {display: flex;align-items: stretch;justify-content: center;background-color: white;position: relative;}#sk-container-id-4 div.sk-item::before, #sk-container-id-4 div.sk-parallel-item::before {content: \"\";position: absolute;border-left: 1px solid gray;box-sizing: border-box;top: 0;bottom: 0;left: 50%;z-index: -1;}#sk-container-id-4 div.sk-parallel-item {display: flex;flex-direction: column;z-index: 1;position: relative;background-color: white;}#sk-container-id-4 div.sk-parallel-item:first-child::after {align-self: flex-end;width: 50%;}#sk-container-id-4 div.sk-parallel-item:last-child::after {align-self: flex-start;width: 50%;}#sk-container-id-4 div.sk-parallel-item:only-child::after {width: 0;}#sk-container-id-4 div.sk-dashed-wrapped {border: 1px dashed gray;margin: 0 0.4em 0.5em 0.4em;box-sizing: border-box;padding-bottom: 0.4em;background-color: white;}#sk-container-id-4 div.sk-label label {font-family: monospace;font-weight: bold;display: inline-block;line-height: 1.2em;}#sk-container-id-4 div.sk-label-container {text-align: center;}#sk-container-id-4 div.sk-container {/* jupyter's `normalize.less` sets `[hidden] { display: none; }` but bootstrap.min.css set `[hidden] { display: none !important; }` so we also need the `!important` here to be able to override the default hidden behavior on the sphinx rendered scikit-learn.org. See: https://github.com/scikit-learn/scikit-learn/issues/21755 */display: inline-block !important;position: relative;}#sk-container-id-4 div.sk-text-repr-fallback {display: none;}</style><div id=\"sk-container-id-4\" class=\"sk-top-container\"><div class=\"sk-text-repr-fallback\"><pre>RandomForestClassifier(max_depth=30, random_state=28)</pre><b>In a Jupyter environment, please rerun this cell to show the HTML representation or trust the notebook. <br />On GitHub, the HTML representation is unable to render, please try loading this page with nbviewer.org.</b></div><div class=\"sk-container\" hidden><div class=\"sk-item\"><div class=\"sk-estimator sk-toggleable\"><input class=\"sk-toggleable__control sk-hidden--visually\" id=\"sk-estimator-id-4\" type=\"checkbox\" checked><label for=\"sk-estimator-id-4\" class=\"sk-toggleable__label sk-toggleable__label-arrow\">RandomForestClassifier</label><div class=\"sk-toggleable__content\"><pre>RandomForestClassifier(max_depth=30, random_state=28)</pre></div></div></div></div></div>"
      ],
      "text/plain": [
       "RandomForestClassifier(max_depth=30, random_state=28)"
      ]
     },
     "execution_count": 99,
     "metadata": {},
     "output_type": "execute_result"
    }
   ],
   "source": [
    "# Test Function From the Folder\n",
    "\n",
    "classifier.model_selelection_RandomForestClassifier(train_data, train_label, \n",
    "                                             depths=[10,30], \n",
    "                                             estimators=[100],\n",
    "                                             min_samples_leaf = [1, 100]\n",
    "                                            )"
   ]
  },
  {
   "cell_type": "code",
   "execution_count": 47,
   "id": "dad7486f-c656-40b9-87df-b67ba8833e10",
   "metadata": {},
   "outputs": [
    {
     "name": "stdout",
     "output_type": "stream",
     "text": [
      "{'bootstrap': True, 'ccp_alpha': 0.0, 'class_weight': None, 'criterion': 'gini', 'max_depth': None, 'max_features': 'sqrt', 'max_leaf_nodes': None, 'max_samples': None, 'min_impurity_decrease': 0.0, 'min_samples_leaf': 1, 'min_samples_split': 2, 'min_weight_fraction_leaf': 0.0, 'n_estimators': 100, 'n_jobs': None, 'oob_score': False, 'random_state': 28, 'verbose': 0, 'warm_start': False}\n"
     ]
    }
   ],
   "source": [
    "# To Save Model\n",
    "filename = 'finalized_model.sav'\n",
    "pickle.dump(rfc, open(filename, 'wb'))\n",
    "loaded_model = pickle.load(open(filename, 'rb'))\n",
    "#result = loaded_model.score(X_test, Y_test)\n",
    "print(loaded_model.get_params())"
   ]
  },
  {
   "cell_type": "code",
   "execution_count": 68,
   "id": "73f78897-10a5-441b-83c5-e45a62737267",
   "metadata": {},
   "outputs": [],
   "source": [
    "train_X, val_X, train_Y, val_Y = train_test_split(train_data,train_label, test_size=0.5, train_size=0.5, random_state=28)"
   ]
  },
  {
   "cell_type": "code",
   "execution_count": 84,
   "id": "e18da735-0853-41ba-bd36-81acb43c87f5",
   "metadata": {},
   "outputs": [
    {
     "name": "stdout",
     "output_type": "stream",
     "text": [
      "1\n",
      "2\n",
      "3\n",
      "4\n",
      "5\n",
      "6\n",
      "7\n",
      "8\n",
      "9\n",
      "10\n",
      "11\n",
      "12\n"
     ]
    }
   ],
   "source": [
    "# train, val split\n",
    "train_X, val_X, train_Y, val_Y = train_test_split(\n",
    "    train_data,train_label, test_size=0.5, train_size=0.5, random_state=28\n",
    "    )\n",
    "\n",
    "\n",
    "exp_id=0\n",
    "depths=[10,20,50]\n",
    "estimators=[100]\n",
    "\n",
    "for max_depth in depths:\n",
    "    for est in estimators:\n",
    "        rfc=classifier.models()[\"RandomForestClassifier\"]\n",
    "        \n",
    "        hyperparam={'max_depth':max_depth,\n",
    "               'max_features':'sqrt','min_samples_leaf':1,\n",
    "               'n_estimators':est}\n",
    "        #print(hyperparam)\n",
    "        rfc=rfc.set_params(**hyperparam)\n",
    "        rfc.fit(train_X,train_Y)\n",
    "        \n",
    "        hyperparam['exp_id'] = exp_id\n",
    "        hyperparam['result'] = rfc.score(val_X,val_Y)\n",
    "        \n",
    "        results.loc[exp_id]=hyperparam\n",
    "        print(exp_id)\n",
    "        exp_id+=1\n",
    "        "
   ]
  },
  {
   "cell_type": "code",
   "execution_count": 85,
   "id": "7dedd9cb-ba45-4347-bd31-064ad53d4ccd",
   "metadata": {},
   "outputs": [
    {
     "data": {
      "text/plain": [
       "0.45588"
      ]
     },
     "execution_count": 85,
     "metadata": {},
     "output_type": "execute_result"
    }
   ],
   "source": [
    "rfc.score(val_X,val_Y)"
   ]
  },
  {
   "cell_type": "code",
   "execution_count": 92,
   "id": "d3e044f9-cfe1-473b-b936-4a0355245bfd",
   "metadata": {},
   "outputs": [
    {
     "data": {
      "text/plain": [
       "{'max_depth': 50,\n",
       " 'max_features': 'sqrt',\n",
       " 'min_samples_leaf': 1,\n",
       " 'n_estimators': 200}"
      ]
     },
     "execution_count": 92,
     "metadata": {},
     "output_type": "execute_result"
    }
   ],
   "source": [
    "results.sort_values(by='result').iloc[-1][['max_depth','max_features','min_samples_leaf','n_estimators']].to_dict()"
   ]
  },
  {
   "cell_type": "code",
   "execution_count": 109,
   "id": "6d67a12e-e41e-4a25-a4cc-0968cff2f15c",
   "metadata": {},
   "outputs": [
    {
     "name": "stdout",
     "output_type": "stream",
     "text": [
      "Read Pre Trained Best Model\n",
      "              precision    recall  f1-score   support\n",
      "\n",
      "           0       0.55      0.56      0.56      1000\n",
      "           1       0.52      0.55      0.53      1000\n",
      "           2       0.39      0.34      0.36      1000\n",
      "           3       0.33      0.27      0.30      1000\n",
      "           4       0.39      0.41      0.40      1000\n",
      "           5       0.44      0.40      0.42      1000\n",
      "           6       0.47      0.57      0.51      1000\n",
      "           7       0.53      0.46      0.49      1000\n",
      "           8       0.59      0.61      0.60      1000\n",
      "           9       0.49      0.56      0.52      1000\n",
      "\n",
      "    accuracy                           0.47     10000\n",
      "   macro avg       0.47      0.47      0.47     10000\n",
      "weighted avg       0.47      0.47      0.47     10000\n",
      "\n"
     ]
    },
    {
     "data": {
      "text/plain": [
       "array([5, 8, 8, ..., 5, 5, 7], dtype=int32)"
      ]
     },
     "execution_count": 109,
     "metadata": {},
     "output_type": "execute_result"
    }
   ],
   "source": [
    "model=clf_build(None, None, 'RandomForestClassifier')\n",
    "clf_predict(model,test_data, test_label, 'result/prediction1.csv')"
   ]
  },
  {
   "cell_type": "code",
   "execution_count": 249,
   "id": "373a909d-4ec7-461b-97c7-6ff49f87cc40",
   "metadata": {},
   "outputs": [],
   "source": [
    "df = pd.DataFrame(columns = [ 'true_label','predicted_label','predict_vote'])\n",
    "df['true_label'] = train_label\n",
    "df['predicted_label'] = predictions\n",
    "df['predict_vote'] = np.arange(25000)\n",
    "\n",
    "def put_in_count(idx):\n",
    "    return vote_count[idx]\n",
    "df['predict_vote'] = df['predict_vote'].apply(put_in_count)"
   ]
  },
  {
   "cell_type": "code",
   "execution_count": null,
   "id": "8dd3c9b7-a9e8-49b2-a1a3-7b17972296a1",
   "metadata": {},
   "outputs": [],
   "source": []
  }
 ],
 "metadata": {
  "kernelspec": {
   "display_name": "Python 3 (ipykernel)",
   "language": "python",
   "name": "python3"
  },
  "language_info": {
   "codemirror_mode": {
    "name": "ipython",
    "version": 3
   },
   "file_extension": ".py",
   "mimetype": "text/x-python",
   "name": "python",
   "nbconvert_exporter": "python",
   "pygments_lexer": "ipython3",
   "version": "3.10.7"
  }
 },
 "nbformat": 4,
 "nbformat_minor": 5
}
