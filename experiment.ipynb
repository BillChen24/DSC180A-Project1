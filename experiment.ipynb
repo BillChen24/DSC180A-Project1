{
 "cells": [
  {
   "cell_type": "code",
   "execution_count": 195,
   "id": "e23e27dd-4d33-4424-8279-645407afa72e",
   "metadata": {},
   "outputs": [
    {
     "name": "stdout",
     "output_type": "stream",
     "text": [
      "The autoreload extension is already loaded. To reload it, use:\n",
      "  %reload_ext autoreload\n"
     ]
    }
   ],
   "source": [
    "%load_ext autoreload\n",
    "%autoreload 2"
   ]
  },
  {
   "cell_type": "code",
   "execution_count": 317,
   "id": "25a61571-84a1-488c-b463-d93a48349f97",
   "metadata": {},
   "outputs": [
    {
     "name": "stderr",
     "output_type": "stream",
     "text": [
      "/Library/Frameworks/Python.framework/Versions/3.10/lib/python3.10/site-packages/tqdm/auto.py:22: TqdmWarning: IProgress not found. Please update jupyter and ipywidgets. See https://ipywidgets.readthedocs.io/en/stable/user_install.html\n",
      "  from .autonotebook import tqdm as notebook_tqdm\n"
     ]
    }
   ],
   "source": [
    "import numpy as np\n",
    "from src import classifier\n",
    "from src.classifier import *\n",
    "import json\n",
    "from src.etl import *\n",
    "import pickle\n",
    "import run\n",
    "from run import *\n",
    "\n",
    "import pandas as pd\n",
    "from sklearn.ensemble import RandomForestClassifier\n",
    "from sklearn.linear_model import LogisticRegression\n",
    "from sklearn.metrics import accuracy_score,confusion_matrix,classification_report\n",
    "from sklearn.model_selection import train_test_split"
   ]
  },
  {
   "cell_type": "code",
   "execution_count": 344,
   "id": "40ef1935-229e-42d1-9197-002c51d94db3",
   "metadata": {},
   "outputs": [
    {
     "name": "stdout",
     "output_type": "stream",
     "text": [
      "['all']\n",
      "load all data\n",
      "Read Pre Trained Best Model\n",
      "Performance on Training Set\n",
      "              precision    recall  f1-score   support\n",
      "\n",
      "           2       0.97      0.99      0.98      4929\n",
      "           4       0.98      0.99      0.99      4978\n",
      "           5       0.99      0.98      0.98      5019\n",
      "           6       0.99      0.98      0.98      5058\n",
      "           7       0.99      0.98      0.98      5016\n",
      "\n",
      "    accuracy                           0.98     25000\n",
      "   macro avg       0.98      0.98      0.98     25000\n",
      "weighted avg       0.98      0.98      0.98     25000\n",
      "\n",
      "use input model\n",
      "Prediction Table saved at result/prediction_original.csv\n",
      "use input model\n",
      "prediction table save to result/transformer_without_class_transformed.csv\n",
      "use input model\n",
      "prediction table save to result/transformer_with_class_transformed_2.csv\n",
      "use input model\n",
      "prediction table save to result/transformer_with_class_transformed_4.csv\n",
      "use input model\n",
      "prediction table save to result/transformer_with_class_transformed_5.csv\n",
      "use input model\n",
      "prediction table save to result/transformer_with_class_transformed_6.csv\n",
      "use input model\n",
      "prediction table save to result/transformer_with_class_transformed_7.csv\n",
      "use input model\n",
      "prediction table save to result/transformer_within_class_transformed_2.csv\n",
      "use input model\n",
      "prediction table save to result/transformer_within_class_transformed_4.csv\n",
      "use input model\n",
      "prediction table save to result/transformer_within_class_transformed_5.csv\n",
      "use input model\n",
      "prediction table save to result/transformer_within_class_transformed_6.csv\n",
      "use input model\n",
      "prediction table save to result/transformer_within_class_transformed_7.csv\n"
     ]
    }
   ],
   "source": [
    "!python3 run.py all"
   ]
  },
  {
   "cell_type": "code",
   "execution_count": 197,
   "id": "26a8a289-9a68-4552-92b5-c8432f83791f",
   "metadata": {},
   "outputs": [
    {
     "name": "stdout",
     "output_type": "stream",
     "text": [
      "(25000, 3072) (25000,)\n"
     ]
    }
   ],
   "source": [
    "with open('config/data-params.json', 'r') as fh:\n",
    "    data_params = json.load(fh)\n",
    "train_data, train_label, test_data, test_label = getData(**data_params)\n",
    "print(train_data.shape, train_label.shape)"
   ]
  },
  {
   "cell_type": "code",
   "execution_count": 309,
   "id": "41c195a3-3797-4f06-8ea2-fa9d783f7e6d",
   "metadata": {},
   "outputs": [
    {
     "data": {
      "text/plain": [
       "True"
      ]
     },
     "execution_count": 309,
     "metadata": {},
     "output_type": "execute_result"
    }
   ],
   "source": [
    "os.path.exists('result/prediction_original.csv')"
   ]
  },
  {
   "cell_type": "code",
   "execution_count": 211,
   "id": "bce5a96a-158c-4009-802f-e3f1b8a5583e",
   "metadata": {},
   "outputs": [
    {
     "name": "stdout",
     "output_type": "stream",
     "text": [
      "finish training experiment: 0\n",
      "finish training experiment: 1\n",
      "finish training experiment: 2\n",
      "finish training experiment: 3\n",
      "finish training experiment: 4\n",
      "finish training experiment: 5\n",
      "finish training experiment: 6\n",
      "finish training experiment: 7\n",
      "finish training experiment: 8\n",
      "finish training experiment: 9\n",
      "finish training experiment: 10\n",
      "finish training experiment: 11\n",
      "finish training experiment: 12\n",
      "finish training experiment: 13\n",
      "finish training experiment: 14\n",
      "exp_id                     5\n",
      "max_depth                 20\n",
      "max_features            sqrt\n",
      "min_samples_leaf           5\n",
      "n_estimators             100\n",
      "result              0.502514\n",
      "Name: 5, dtype: object\n",
      "{'bootstrap': True, 'ccp_alpha': 0.0, 'class_weight': None, 'criterion': 'gini', 'max_depth': 20, 'max_features': 'sqrt', 'max_leaf_nodes': None, 'max_samples': None, 'min_impurity_decrease': 0.0, 'min_samples_leaf': 5, 'min_samples_split': 2, 'min_weight_fraction_leaf': 0.0, 'n_estimators': 100, 'n_jobs': None, 'oob_score': False, 'random_state': 28, 'verbose': 0, 'warm_start': False}\n"
     ]
    },
    {
     "data": {
      "text/html": [
       "<style>#sk-container-id-10 {color: black;background-color: white;}#sk-container-id-10 pre{padding: 0;}#sk-container-id-10 div.sk-toggleable {background-color: white;}#sk-container-id-10 label.sk-toggleable__label {cursor: pointer;display: block;width: 100%;margin-bottom: 0;padding: 0.3em;box-sizing: border-box;text-align: center;}#sk-container-id-10 label.sk-toggleable__label-arrow:before {content: \"▸\";float: left;margin-right: 0.25em;color: #696969;}#sk-container-id-10 label.sk-toggleable__label-arrow:hover:before {color: black;}#sk-container-id-10 div.sk-estimator:hover label.sk-toggleable__label-arrow:before {color: black;}#sk-container-id-10 div.sk-toggleable__content {max-height: 0;max-width: 0;overflow: hidden;text-align: left;background-color: #f0f8ff;}#sk-container-id-10 div.sk-toggleable__content pre {margin: 0.2em;color: black;border-radius: 0.25em;background-color: #f0f8ff;}#sk-container-id-10 input.sk-toggleable__control:checked~div.sk-toggleable__content {max-height: 200px;max-width: 100%;overflow: auto;}#sk-container-id-10 input.sk-toggleable__control:checked~label.sk-toggleable__label-arrow:before {content: \"▾\";}#sk-container-id-10 div.sk-estimator input.sk-toggleable__control:checked~label.sk-toggleable__label {background-color: #d4ebff;}#sk-container-id-10 div.sk-label input.sk-toggleable__control:checked~label.sk-toggleable__label {background-color: #d4ebff;}#sk-container-id-10 input.sk-hidden--visually {border: 0;clip: rect(1px 1px 1px 1px);clip: rect(1px, 1px, 1px, 1px);height: 1px;margin: -1px;overflow: hidden;padding: 0;position: absolute;width: 1px;}#sk-container-id-10 div.sk-estimator {font-family: monospace;background-color: #f0f8ff;border: 1px dotted black;border-radius: 0.25em;box-sizing: border-box;margin-bottom: 0.5em;}#sk-container-id-10 div.sk-estimator:hover {background-color: #d4ebff;}#sk-container-id-10 div.sk-parallel-item::after {content: \"\";width: 100%;border-bottom: 1px solid gray;flex-grow: 1;}#sk-container-id-10 div.sk-label:hover label.sk-toggleable__label {background-color: #d4ebff;}#sk-container-id-10 div.sk-serial::before {content: \"\";position: absolute;border-left: 1px solid gray;box-sizing: border-box;top: 0;bottom: 0;left: 50%;z-index: 0;}#sk-container-id-10 div.sk-serial {display: flex;flex-direction: column;align-items: center;background-color: white;padding-right: 0.2em;padding-left: 0.2em;position: relative;}#sk-container-id-10 div.sk-item {position: relative;z-index: 1;}#sk-container-id-10 div.sk-parallel {display: flex;align-items: stretch;justify-content: center;background-color: white;position: relative;}#sk-container-id-10 div.sk-item::before, #sk-container-id-10 div.sk-parallel-item::before {content: \"\";position: absolute;border-left: 1px solid gray;box-sizing: border-box;top: 0;bottom: 0;left: 50%;z-index: -1;}#sk-container-id-10 div.sk-parallel-item {display: flex;flex-direction: column;z-index: 1;position: relative;background-color: white;}#sk-container-id-10 div.sk-parallel-item:first-child::after {align-self: flex-end;width: 50%;}#sk-container-id-10 div.sk-parallel-item:last-child::after {align-self: flex-start;width: 50%;}#sk-container-id-10 div.sk-parallel-item:only-child::after {width: 0;}#sk-container-id-10 div.sk-dashed-wrapped {border: 1px dashed gray;margin: 0 0.4em 0.5em 0.4em;box-sizing: border-box;padding-bottom: 0.4em;background-color: white;}#sk-container-id-10 div.sk-label label {font-family: monospace;font-weight: bold;display: inline-block;line-height: 1.2em;}#sk-container-id-10 div.sk-label-container {text-align: center;}#sk-container-id-10 div.sk-container {/* jupyter's `normalize.less` sets `[hidden] { display: none; }` but bootstrap.min.css set `[hidden] { display: none !important; }` so we also need the `!important` here to be able to override the default hidden behavior on the sphinx rendered scikit-learn.org. See: https://github.com/scikit-learn/scikit-learn/issues/21755 */display: inline-block !important;position: relative;}#sk-container-id-10 div.sk-text-repr-fallback {display: none;}</style><div id=\"sk-container-id-10\" class=\"sk-top-container\"><div class=\"sk-text-repr-fallback\"><pre>RandomForestClassifier(max_depth=20, min_samples_leaf=5, random_state=28)</pre><b>In a Jupyter environment, please rerun this cell to show the HTML representation or trust the notebook. <br />On GitHub, the HTML representation is unable to render, please try loading this page with nbviewer.org.</b></div><div class=\"sk-container\" hidden><div class=\"sk-item\"><div class=\"sk-estimator sk-toggleable\"><input class=\"sk-toggleable__control sk-hidden--visually\" id=\"sk-estimator-id-10\" type=\"checkbox\" checked><label for=\"sk-estimator-id-10\" class=\"sk-toggleable__label sk-toggleable__label-arrow\">RandomForestClassifier</label><div class=\"sk-toggleable__content\"><pre>RandomForestClassifier(max_depth=20, min_samples_leaf=5, random_state=28)</pre></div></div></div></div></div>"
      ],
      "text/plain": [
       "RandomForestClassifier(max_depth=20, min_samples_leaf=5, random_state=28)"
      ]
     },
     "execution_count": 211,
     "metadata": {},
     "output_type": "execute_result"
    }
   ],
   "source": [
    "# Test Function From the Folder\n",
    "\n",
    "classifier.model_selelection_RandomForestClassifier(train_data, train_label, \n",
    "                                             depths=[10, 20, 30], \n",
    "                                             estimators=[100],\n",
    "                                             min_samples_leaf = [5,10,20,40, 50]\n",
    "                                            )"
   ]
  },
  {
   "cell_type": "code",
   "execution_count": 212,
   "id": "9534310a-2028-46f8-afbd-5ddcadb1da3f",
   "metadata": {},
   "outputs": [
    {
     "name": "stdout",
     "output_type": "stream",
     "text": [
      "Read Pre Trained Best Model\n",
      "              precision    recall  f1-score   support\n",
      "\n",
      "           2       0.97      0.99      0.98      4929\n",
      "           4       0.98      0.99      0.99      4978\n",
      "           5       0.99      0.98      0.98      5019\n",
      "           6       0.99      0.98      0.98      5058\n",
      "           7       0.99      0.98      0.98      5016\n",
      "\n",
      "    accuracy                           0.98     25000\n",
      "   macro avg       0.98      0.98      0.98     25000\n",
      "weighted avg       0.98      0.98      0.98     25000\n",
      "\n",
      "              precision    recall  f1-score   support\n",
      "\n",
      "           2       0.47      0.49      0.48       964\n",
      "           4       0.42      0.47      0.44       891\n",
      "           5       0.54      0.57      0.56       942\n",
      "           6       0.66      0.55      0.60      1194\n",
      "           7       0.62      0.61      0.62      1009\n",
      "\n",
      "    accuracy                           0.54      5000\n",
      "   macro avg       0.54      0.54      0.54      5000\n",
      "weighted avg       0.55      0.54      0.54      5000\n",
      "\n"
     ]
    },
    {
     "data": {
      "text/plain": [
       "array([4, 6, 6, ..., 5, 5, 7], dtype=int32)"
      ]
     },
     "execution_count": 212,
     "metadata": {},
     "output_type": "execute_result"
    }
   ],
   "source": [
    "# Read Model\n",
    "model=clf_build(train_data, train_label, 'RandomForestClassifier')\n",
    "# Produce report by class\n",
    "clf_predict(model,train_data, train_label, 'result/prediction1.csv')\n",
    "clf_predict(model,test_data, test_label, 'result/prediction1.csv')\n",
    "# prediction on filtered data"
   ]
  },
  {
   "cell_type": "code",
   "execution_count": 215,
   "id": "7ad6b775-a11a-4c39-a206-ca58b55e5b64",
   "metadata": {},
   "outputs": [
    {
     "name": "stdout",
     "output_type": "stream",
     "text": [
      "Read Pre Trained Best Model\n"
     ]
    }
   ],
   "source": [
    "# vote count:\n",
    "vote_count=report_votes(train_data, model = 'result/best_rfc_model.sav')\n",
    "#get count of the max vote\n",
    "max_counts=vote_count.max(axis=1)\n",
    "#get predicted label\n",
    "predictions=np.array([2,4,5,6,7])[vote_count.argmax(axis=1)]\n",
    "\n"
   ]
  },
  {
   "cell_type": "code",
   "execution_count": 223,
   "id": "95b41631-278a-4007-bc02-de0c005a15d7",
   "metadata": {},
   "outputs": [],
   "source": []
  },
  {
   "cell_type": "code",
   "execution_count": 273,
   "id": "ee79d878-d726-4445-b914-832d3519da12",
   "metadata": {},
   "outputs": [
    {
     "name": "stdout",
     "output_type": "stream",
     "text": [
      "Read Pre Trained Best Model\n"
     ]
    },
    {
     "data": {
      "text/html": [
       "<div>\n",
       "<style scoped>\n",
       "    .dataframe tbody tr th:only-of-type {\n",
       "        vertical-align: middle;\n",
       "    }\n",
       "\n",
       "    .dataframe tbody tr th {\n",
       "        vertical-align: top;\n",
       "    }\n",
       "\n",
       "    .dataframe thead th {\n",
       "        text-align: right;\n",
       "    }\n",
       "</style>\n",
       "<table border=\"1\" class=\"dataframe\">\n",
       "  <thead>\n",
       "    <tr style=\"text-align: right;\">\n",
       "      <th></th>\n",
       "      <th>true_label</th>\n",
       "      <th>predicted_label</th>\n",
       "      <th>predict_vote</th>\n",
       "      <th>max_count</th>\n",
       "    </tr>\n",
       "  </thead>\n",
       "  <tbody>\n",
       "    <tr>\n",
       "      <th>0</th>\n",
       "      <td>6</td>\n",
       "      <td>6</td>\n",
       "      <td>[7.0, 6.0, 8.0, 74.0, 5.0]</td>\n",
       "      <td>74</td>\n",
       "    </tr>\n",
       "    <tr>\n",
       "      <th>1</th>\n",
       "      <td>4</td>\n",
       "      <td>4</td>\n",
       "      <td>[5.0, 55.0, 2.0, 36.0, 2.0]</td>\n",
       "      <td>55</td>\n",
       "    </tr>\n",
       "    <tr>\n",
       "      <th>2</th>\n",
       "      <td>2</td>\n",
       "      <td>2</td>\n",
       "      <td>[65.0, 14.0, 5.0, 12.0, 4.0]</td>\n",
       "      <td>65</td>\n",
       "    </tr>\n",
       "    <tr>\n",
       "      <th>3</th>\n",
       "      <td>7</td>\n",
       "      <td>7</td>\n",
       "      <td>[4.0, 11.0, 4.0, 6.0, 75.0]</td>\n",
       "      <td>75</td>\n",
       "    </tr>\n",
       "    <tr>\n",
       "      <th>4</th>\n",
       "      <td>4</td>\n",
       "      <td>4</td>\n",
       "      <td>[13.0, 79.0, 0.0, 7.0, 1.0]</td>\n",
       "      <td>79</td>\n",
       "    </tr>\n",
       "    <tr>\n",
       "      <th>...</th>\n",
       "      <td>...</td>\n",
       "      <td>...</td>\n",
       "      <td>...</td>\n",
       "      <td>...</td>\n",
       "    </tr>\n",
       "    <tr>\n",
       "      <th>24995</th>\n",
       "      <td>5</td>\n",
       "      <td>5</td>\n",
       "      <td>[14.0, 5.0, 61.0, 16.0, 4.0]</td>\n",
       "      <td>61</td>\n",
       "    </tr>\n",
       "    <tr>\n",
       "      <th>24996</th>\n",
       "      <td>4</td>\n",
       "      <td>4</td>\n",
       "      <td>[31.0, 39.0, 11.0, 12.0, 7.0]</td>\n",
       "      <td>39</td>\n",
       "    </tr>\n",
       "    <tr>\n",
       "      <th>24997</th>\n",
       "      <td>2</td>\n",
       "      <td>2</td>\n",
       "      <td>[59.0, 9.0, 15.0, 7.0, 10.0]</td>\n",
       "      <td>59</td>\n",
       "    </tr>\n",
       "    <tr>\n",
       "      <th>24998</th>\n",
       "      <td>2</td>\n",
       "      <td>2</td>\n",
       "      <td>[64.0, 18.0, 8.0, 3.0, 7.0]</td>\n",
       "      <td>64</td>\n",
       "    </tr>\n",
       "    <tr>\n",
       "      <th>24999</th>\n",
       "      <td>6</td>\n",
       "      <td>6</td>\n",
       "      <td>[17.0, 14.0, 10.0, 48.0, 11.0]</td>\n",
       "      <td>48</td>\n",
       "    </tr>\n",
       "  </tbody>\n",
       "</table>\n",
       "<p>25000 rows × 4 columns</p>\n",
       "</div>"
      ],
      "text/plain": [
       "       true_label  predicted_label                    predict_vote  max_count\n",
       "0               6                6      [7.0, 6.0, 8.0, 74.0, 5.0]         74\n",
       "1               4                4     [5.0, 55.0, 2.0, 36.0, 2.0]         55\n",
       "2               2                2    [65.0, 14.0, 5.0, 12.0, 4.0]         65\n",
       "3               7                7     [4.0, 11.0, 4.0, 6.0, 75.0]         75\n",
       "4               4                4     [13.0, 79.0, 0.0, 7.0, 1.0]         79\n",
       "...           ...              ...                             ...        ...\n",
       "24995           5                5    [14.0, 5.0, 61.0, 16.0, 4.0]         61\n",
       "24996           4                4   [31.0, 39.0, 11.0, 12.0, 7.0]         39\n",
       "24997           2                2    [59.0, 9.0, 15.0, 7.0, 10.0]         59\n",
       "24998           2                2     [64.0, 18.0, 8.0, 3.0, 7.0]         64\n",
       "24999           6                6  [17.0, 14.0, 10.0, 48.0, 11.0]         48\n",
       "\n",
       "[25000 rows x 4 columns]"
      ]
     },
     "execution_count": 273,
     "metadata": {},
     "output_type": "execute_result"
    }
   ],
   "source": [
    "#Make Prediction on given data, write result in table, save to given path\n",
    "classifier.prediction_df(train_data, train_label, \n",
    "                         model = 'result/best_rfc_model.sav',\n",
    "                        outdf_path = 'result/prediction_original.csv')"
   ]
  },
  {
   "cell_type": "code",
   "execution_count": 285,
   "id": "b1dd40ef-1cdd-4f42-8dd8-7e79a9be8a77",
   "metadata": {},
   "outputs": [
    {
     "data": {
      "text/plain": [
       "0            [7.0,  6.0,  8.0,  74.0,  5.]\n",
       "1           [5.0,  55.0,  2.0,  36.0,  2.]\n",
       "2          [65.0,  14.0,  5.0,  12.0,  4.]\n",
       "3           [4.0,  11.0,  4.0,  6.0,  75.]\n",
       "4           [13.0,  79.0,  0.0,  7.0,  1.]\n",
       "                       ...                \n",
       "24995      [14.0,  5.0,  61.0,  16.0,  4.]\n",
       "24996     [31.0,  39.0,  11.0,  12.0,  7.]\n",
       "24997      [59.0,  9.0,  15.0,  7.0,  10.]\n",
       "24998       [64.0,  18.0,  8.0,  3.0,  7.]\n",
       "24999    [17.0,  14.0,  10.0,  48.0,  11.]\n",
       "Name: predict_vote, Length: 25000, dtype: object"
      ]
     },
     "execution_count": 285,
     "metadata": {},
     "output_type": "execute_result"
    }
   ],
   "source": [
    "#to read the saved prediction table\n",
    "df=pd.read_csv('result/prediction_original.csv',index_col=0)\n",
    "df\n",
    "#to access predict_vote\n",
    "df['predict_vote'].str[1:-2].str.split(',')"
   ]
  },
  {
   "cell_type": "code",
   "execution_count": 308,
   "id": "9ad70fa9-c730-4001-aed3-4ac2b8e6b440",
   "metadata": {},
   "outputs": [
    {
     "name": "stdout",
     "output_type": "stream",
     "text": [
      "Read Pre Trained Best Model\n",
      "Read Pre Trained Best Model\n",
      "Read Pre Trained Best Model\n",
      "Read Pre Trained Best Model\n",
      "Read Pre Trained Best Model\n"
     ]
    }
   ],
   "source": [
    "path_to_transformed_data='data/temp/transformer_with_class/'\n",
    "#make prediction table on all kinds of input\n",
    "for i in [2,4,5,6,7]:\n",
    "    #read in data from transformed\n",
    "    trans_data=np.load(path_to_transformed_data+f'transformed_{i}.npy')\n",
    "    classifier.prediction_df(trans_data, test_label, \n",
    "                         model = 'result/best_rfc_model.sav',\n",
    "                        outdf_path = f'result/prediction_transformer{i}.csv')\n",
    "\n",
    "\n"
   ]
  },
  {
   "cell_type": "code",
   "execution_count": 294,
   "id": "863e2455-326e-4baa-ba5a-8fe79c14721d",
   "metadata": {},
   "outputs": [
    {
     "name": "stdout",
     "output_type": "stream",
     "text": [
      "Read Pre Trained Best Model\n"
     ]
    }
   ],
   "source": [
    "trans_data=np.load('data/temp/transformer_1/transformed_2.npy')\n",
    "df=classifier.prediction_df(trans_data, test_label, \n",
    "                         model = 'result/best_rfc_model.sav',\n",
    "                        outdf_path = 'result/prediction_transformer2.csv')"
   ]
  },
  {
   "cell_type": "code",
   "execution_count": null,
   "id": "98ed6dbc-b3cc-4f8a-aff8-5f3c04945ab0",
   "metadata": {},
   "outputs": [],
   "source": [
    "create_pred_table"
   ]
  },
  {
   "cell_type": "code",
   "execution_count": 301,
   "id": "cd6a294b-168d-4d78-a0af-b5a8f525c029",
   "metadata": {},
   "outputs": [
    {
     "data": {
      "text/html": [
       "<div>\n",
       "<style scoped>\n",
       "    .dataframe tbody tr th:only-of-type {\n",
       "        vertical-align: middle;\n",
       "    }\n",
       "\n",
       "    .dataframe tbody tr th {\n",
       "        vertical-align: top;\n",
       "    }\n",
       "\n",
       "    .dataframe thead th {\n",
       "        text-align: right;\n",
       "    }\n",
       "</style>\n",
       "<table border=\"1\" class=\"dataframe\">\n",
       "  <thead>\n",
       "    <tr style=\"text-align: right;\">\n",
       "      <th></th>\n",
       "      <th>true_label</th>\n",
       "      <th>predicted_label</th>\n",
       "      <th>predict_vote</th>\n",
       "      <th>max_count</th>\n",
       "    </tr>\n",
       "  </thead>\n",
       "  <tbody>\n",
       "    <tr>\n",
       "      <th>0</th>\n",
       "      <td>6</td>\n",
       "      <td>5</td>\n",
       "      <td>[17.0, 21.0, 25.0, 19.0, 18.0]</td>\n",
       "      <td>25</td>\n",
       "    </tr>\n",
       "    <tr>\n",
       "      <th>1</th>\n",
       "      <td>6</td>\n",
       "      <td>6</td>\n",
       "      <td>[22.0, 13.0, 20.0, 23.0, 22.0]</td>\n",
       "      <td>23</td>\n",
       "    </tr>\n",
       "    <tr>\n",
       "      <th>2</th>\n",
       "      <td>6</td>\n",
       "      <td>2</td>\n",
       "      <td>[24.0, 20.0, 23.0, 14.0, 19.0]</td>\n",
       "      <td>24</td>\n",
       "    </tr>\n",
       "    <tr>\n",
       "      <th>3</th>\n",
       "      <td>5</td>\n",
       "      <td>6</td>\n",
       "      <td>[12.0, 14.0, 24.0, 26.0, 24.0]</td>\n",
       "      <td>26</td>\n",
       "    </tr>\n",
       "    <tr>\n",
       "      <th>4</th>\n",
       "      <td>7</td>\n",
       "      <td>6</td>\n",
       "      <td>[18.0, 16.0, 24.0, 28.0, 14.0]</td>\n",
       "      <td>28</td>\n",
       "    </tr>\n",
       "    <tr>\n",
       "      <th>...</th>\n",
       "      <td>...</td>\n",
       "      <td>...</td>\n",
       "      <td>...</td>\n",
       "      <td>...</td>\n",
       "    </tr>\n",
       "    <tr>\n",
       "      <th>4995</th>\n",
       "      <td>2</td>\n",
       "      <td>5</td>\n",
       "      <td>[22.0, 16.0, 25.0, 13.0, 24.0]</td>\n",
       "      <td>25</td>\n",
       "    </tr>\n",
       "    <tr>\n",
       "      <th>4996</th>\n",
       "      <td>7</td>\n",
       "      <td>7</td>\n",
       "      <td>[20.0, 17.0, 25.0, 9.0, 29.0]</td>\n",
       "      <td>29</td>\n",
       "    </tr>\n",
       "    <tr>\n",
       "      <th>4997</th>\n",
       "      <td>5</td>\n",
       "      <td>5</td>\n",
       "      <td>[19.0, 25.0, 28.0, 12.0, 16.0]</td>\n",
       "      <td>28</td>\n",
       "    </tr>\n",
       "    <tr>\n",
       "      <th>4998</th>\n",
       "      <td>5</td>\n",
       "      <td>5</td>\n",
       "      <td>[15.0, 20.0, 36.0, 19.0, 10.0]</td>\n",
       "      <td>36</td>\n",
       "    </tr>\n",
       "    <tr>\n",
       "      <th>4999</th>\n",
       "      <td>7</td>\n",
       "      <td>2</td>\n",
       "      <td>[23.0, 19.0, 20.0, 17.0, 21.0]</td>\n",
       "      <td>23</td>\n",
       "    </tr>\n",
       "  </tbody>\n",
       "</table>\n",
       "<p>5000 rows × 4 columns</p>\n",
       "</div>"
      ],
      "text/plain": [
       "      true_label  predicted_label                    predict_vote  max_count\n",
       "0              6                5  [17.0, 21.0, 25.0, 19.0, 18.0]         25\n",
       "1              6                6  [22.0, 13.0, 20.0, 23.0, 22.0]         23\n",
       "2              6                2  [24.0, 20.0, 23.0, 14.0, 19.0]         24\n",
       "3              5                6  [12.0, 14.0, 24.0, 26.0, 24.0]         26\n",
       "4              7                6  [18.0, 16.0, 24.0, 28.0, 14.0]         28\n",
       "...          ...              ...                             ...        ...\n",
       "4995           2                5  [22.0, 16.0, 25.0, 13.0, 24.0]         25\n",
       "4996           7                7   [20.0, 17.0, 25.0, 9.0, 29.0]         29\n",
       "4997           5                5  [19.0, 25.0, 28.0, 12.0, 16.0]         28\n",
       "4998           5                5  [15.0, 20.0, 36.0, 19.0, 10.0]         36\n",
       "4999           7                2  [23.0, 19.0, 20.0, 17.0, 21.0]         23\n",
       "\n",
       "[5000 rows x 4 columns]"
      ]
     },
     "execution_count": 301,
     "metadata": {},
     "output_type": "execute_result"
    }
   ],
   "source": [
    "df"
   ]
  },
  {
   "cell_type": "code",
   "execution_count": 307,
   "id": "ac51ab5f-88b5-4a40-a2a4-c23a9ae390bb",
   "metadata": {},
   "outputs": [
    {
     "data": {
      "text/html": [
       "<div>\n",
       "<style scoped>\n",
       "    .dataframe tbody tr th:only-of-type {\n",
       "        vertical-align: middle;\n",
       "    }\n",
       "\n",
       "    .dataframe tbody tr th {\n",
       "        vertical-align: top;\n",
       "    }\n",
       "\n",
       "    .dataframe thead th {\n",
       "        text-align: right;\n",
       "    }\n",
       "</style>\n",
       "<table border=\"1\" class=\"dataframe\">\n",
       "  <thead>\n",
       "    <tr style=\"text-align: right;\">\n",
       "      <th></th>\n",
       "      <th>correct</th>\n",
       "    </tr>\n",
       "    <tr>\n",
       "      <th>true_label</th>\n",
       "      <th></th>\n",
       "    </tr>\n",
       "  </thead>\n",
       "  <tbody>\n",
       "    <tr>\n",
       "      <th>2</th>\n",
       "      <td>0.409</td>\n",
       "    </tr>\n",
       "    <tr>\n",
       "      <th>4</th>\n",
       "      <td>0.178</td>\n",
       "    </tr>\n",
       "    <tr>\n",
       "      <th>5</th>\n",
       "      <td>0.485</td>\n",
       "    </tr>\n",
       "    <tr>\n",
       "      <th>6</th>\n",
       "      <td>0.146</td>\n",
       "    </tr>\n",
       "    <tr>\n",
       "      <th>7</th>\n",
       "      <td>0.250</td>\n",
       "    </tr>\n",
       "  </tbody>\n",
       "</table>\n",
       "</div>"
      ],
      "text/plain": [
       "            correct\n",
       "true_label         \n",
       "2             0.409\n",
       "4             0.178\n",
       "5             0.485\n",
       "6             0.146\n",
       "7             0.250"
      ]
     },
     "execution_count": 307,
     "metadata": {},
     "output_type": "execute_result"
    }
   ],
   "source": [
    "#goes in Mean, for Plotting\n",
    "\n",
    "df['correct'] =(df['true_label'] == df['predicted_label'])\n",
    "df.groupby('true_label').mean(numeric_only=True)[['correct']]"
   ]
  },
  {
   "cell_type": "code",
   "execution_count": null,
   "id": "2f87201c-c0af-4271-9919-8c6ae1f29632",
   "metadata": {},
   "outputs": [],
   "source": [
    "def ()"
   ]
  },
  {
   "cell_type": "code",
   "execution_count": null,
   "id": "711e95b4-72eb-4ef6-9620-f9d7c527e6c5",
   "metadata": {},
   "outputs": [],
   "source": [
    "# read in data from greyscale \n",
    "\n",
    "# predict, save result"
   ]
  },
  {
   "cell_type": "code",
   "execution_count": 320,
   "id": "c11d7eb6-dc2d-4375-8d09-83af51f6e006",
   "metadata": {},
   "outputs": [
    {
     "data": {
      "text/plain": [
       "(5000, 3072)"
      ]
     },
     "execution_count": 320,
     "metadata": {},
     "output_type": "execute_result"
    }
   ],
   "source": [
    "d = np.load('data/temp/transformer_with_class/transformed_2.npy')\n",
    "d.shape"
   ]
  },
  {
   "cell_type": "code",
   "execution_count": 328,
   "id": "4d0fae45-5756-401b-bd4c-c4a0d84c4e12",
   "metadata": {},
   "outputs": [
    {
     "data": {
      "text/plain": [
       "'transformer_with_class/transformed_2.csv'"
      ]
     },
     "execution_count": 328,
     "metadata": {},
     "output_type": "execute_result"
    }
   ],
   "source": [
    "fp='data/temp/transformer_with_class/transformed_2.npy'\n",
    "fp.split('/')[-2]+'/'+fp.split('/')[-1].replace('npy', 'csv')"
   ]
  },
  {
   "cell_type": "code",
   "execution_count": 342,
   "id": "95803e86-f4e3-4f44-a09d-e686484747d7",
   "metadata": {},
   "outputs": [
    {
     "name": "stdout",
     "output_type": "stream",
     "text": [
      "use input model\n",
      "prediction table save to result/transformer_without_class_transformed.csv\n",
      "use input model\n",
      "prediction table save to result/transformer_with_class_transformed_2.csv\n",
      "use input model\n",
      "prediction table save to result/transformer_with_class_transformed_4.csv\n",
      "use input model\n",
      "prediction table save to result/transformer_with_class_transformed_5.csv\n",
      "use input model\n",
      "prediction table save to result/transformer_with_class_transformed_6.csv\n",
      "use input model\n",
      "prediction table save to result/transformer_with_class_transformed_7.csv\n",
      "use input model\n",
      "prediction table save to result/transformer_within_class_transformed_2.csv\n",
      "use input model\n",
      "prediction table save to result/transformer_within_class_transformed_4.csv\n",
      "use input model\n",
      "prediction table save to result/transformer_within_class_transformed_5.csv\n",
      "use input model\n",
      "prediction table save to result/transformer_within_class_transformed_6.csv\n",
      "use input model\n",
      "prediction table save to result/transformer_within_class_transformed_7.csv\n"
     ]
    },
    {
     "data": {
      "text/plain": [
       "{'filtered': 'data/temp/filtered/filtered.npy',\n",
       " 'trans_without_class': 'result/transformer_without_class_transformed.csv',\n",
       " 'trans_with_class': ['result/transformer_with_class_transformed_2.csv',\n",
       "  'result/transformer_with_class_transformed_4.csv',\n",
       "  'result/transformer_with_class_transformed_5.csv',\n",
       "  'result/transformer_with_class_transformed_6.csv',\n",
       "  'result/transformer_with_class_transformed_7.csv'],\n",
       " 'trans_within_class': ['result/transformer_within_class_transformed_2.csv',\n",
       "  'result/transformer_within_class_transformed_4.csv',\n",
       "  'result/transformer_within_class_transformed_5.csv',\n",
       "  'result/transformer_within_class_transformed_6.csv',\n",
       "  'result/transformer_within_class_transformed_7.csv']}"
      ]
     },
     "execution_count": 342,
     "metadata": {},
     "output_type": "execute_result"
    }
   ],
   "source": [
    "data_fp_dict=run.filte_transport_data(None, None)\n",
    "create_pred_table(data_fp_dict, model, test_label, result_fp = 'result/')"
   ]
  },
  {
   "cell_type": "markdown",
   "id": "3e171dd6-3e0d-49b4-adf4-414f6f524ef3",
   "metadata": {
    "jp-MarkdownHeadingCollapsed": true,
    "tags": []
   },
   "source": [
    "### Sketch"
   ]
  },
  {
   "cell_type": "code",
   "execution_count": null,
   "id": "05cdf276-e0c0-42eb-aef0-c53f7dbe4cbe",
   "metadata": {},
   "outputs": [],
   "source": []
  },
  {
   "cell_type": "code",
   "execution_count": 272,
   "id": "45c41500-cc78-404f-93df-44a40440c5d9",
   "metadata": {},
   "outputs": [
    {
     "data": {
      "text/plain": [
       "[1, 2, 3]"
      ]
     },
     "execution_count": 272,
     "metadata": {},
     "output_type": "execute_result"
    }
   ],
   "source": [
    "np.array([1,2,3]).tolist()"
   ]
  },
  {
   "cell_type": "code",
   "execution_count": 241,
   "id": "dbfba53f-8ffc-45b5-b5fe-f46337a389b5",
   "metadata": {},
   "outputs": [
    {
     "data": {
      "text/plain": [
       "array([['7.0', '6.0', '8.0', '74.0', '5.0'],\n",
       "       ['5.0', '55.0', '2.0', '36.0', '2.0'],\n",
       "       ['65.0', '14.0', '5.0', '12.0', '4.0'],\n",
       "       ...,\n",
       "       ['59.0', '9.0', '15.0', '7.0', '10.0'],\n",
       "       ['64.0', '18.0', '8.0', '3.0', '7.0'],\n",
       "       ['17.0', '14.0', '10.0', '48.0', '11.0']], dtype='<U32')"
      ]
     },
     "execution_count": 241,
     "metadata": {},
     "output_type": "execute_result"
    }
   ],
   "source": [
    "vote_count.astype(str)"
   ]
  },
  {
   "cell_type": "code",
   "execution_count": 238,
   "id": "ac196874-616f-47f9-9309-cbf163ce38b5",
   "metadata": {},
   "outputs": [
    {
     "name": "stderr",
     "output_type": "stream",
     "text": [
      "/var/folders/y9/kq138hps5jdgv8y5zls1m38h0000gn/T/ipykernel_1614/2031691219.py:1: FutureWarning: The default dtype for empty Series will be 'object' instead of 'float64' in a future version. Specify a dtype explicitly to silence this warning.\n",
      "  pd.Series()\n"
     ]
    },
    {
     "data": {
      "text/plain": [
       "Series([], dtype: float64)"
      ]
     },
     "execution_count": 238,
     "metadata": {},
     "output_type": "execute_result"
    }
   ],
   "source": [
    "pd.Series()"
   ]
  },
  {
   "cell_type": "code",
   "execution_count": 239,
   "id": "eb318017-cd6b-4b11-8242-79900a03029a",
   "metadata": {},
   "outputs": [
    {
     "data": {
      "text/html": [
       "<div>\n",
       "<style scoped>\n",
       "    .dataframe tbody tr th:only-of-type {\n",
       "        vertical-align: middle;\n",
       "    }\n",
       "\n",
       "    .dataframe tbody tr th {\n",
       "        vertical-align: top;\n",
       "    }\n",
       "\n",
       "    .dataframe thead th {\n",
       "        text-align: right;\n",
       "    }\n",
       "</style>\n",
       "<table border=\"1\" class=\"dataframe\">\n",
       "  <thead>\n",
       "    <tr style=\"text-align: right;\">\n",
       "      <th></th>\n",
       "      <th>true_label</th>\n",
       "      <th>predicted_label</th>\n",
       "      <th>predict_vote</th>\n",
       "    </tr>\n",
       "  </thead>\n",
       "  <tbody>\n",
       "    <tr>\n",
       "      <th>0</th>\n",
       "      <td>6</td>\n",
       "      <td>6</td>\n",
       "      <td>7.0</td>\n",
       "    </tr>\n",
       "    <tr>\n",
       "      <th>1</th>\n",
       "      <td>4</td>\n",
       "      <td>4</td>\n",
       "      <td>5.0</td>\n",
       "    </tr>\n",
       "    <tr>\n",
       "      <th>2</th>\n",
       "      <td>2</td>\n",
       "      <td>2</td>\n",
       "      <td>65.0</td>\n",
       "    </tr>\n",
       "    <tr>\n",
       "      <th>3</th>\n",
       "      <td>7</td>\n",
       "      <td>7</td>\n",
       "      <td>4.0</td>\n",
       "    </tr>\n",
       "    <tr>\n",
       "      <th>4</th>\n",
       "      <td>4</td>\n",
       "      <td>4</td>\n",
       "      <td>13.0</td>\n",
       "    </tr>\n",
       "    <tr>\n",
       "      <th>...</th>\n",
       "      <td>...</td>\n",
       "      <td>...</td>\n",
       "      <td>...</td>\n",
       "    </tr>\n",
       "    <tr>\n",
       "      <th>24995</th>\n",
       "      <td>5</td>\n",
       "      <td>5</td>\n",
       "      <td>14.0</td>\n",
       "    </tr>\n",
       "    <tr>\n",
       "      <th>24996</th>\n",
       "      <td>4</td>\n",
       "      <td>4</td>\n",
       "      <td>31.0</td>\n",
       "    </tr>\n",
       "    <tr>\n",
       "      <th>24997</th>\n",
       "      <td>2</td>\n",
       "      <td>2</td>\n",
       "      <td>59.0</td>\n",
       "    </tr>\n",
       "    <tr>\n",
       "      <th>24998</th>\n",
       "      <td>2</td>\n",
       "      <td>2</td>\n",
       "      <td>64.0</td>\n",
       "    </tr>\n",
       "    <tr>\n",
       "      <th>24999</th>\n",
       "      <td>6</td>\n",
       "      <td>6</td>\n",
       "      <td>17.0</td>\n",
       "    </tr>\n",
       "  </tbody>\n",
       "</table>\n",
       "<p>25000 rows × 3 columns</p>\n",
       "</div>"
      ],
      "text/plain": [
       "       true_label  predicted_label  predict_vote\n",
       "0               6                6           7.0\n",
       "1               4                4           5.0\n",
       "2               2                2          65.0\n",
       "3               7                7           4.0\n",
       "4               4                4          13.0\n",
       "...           ...              ...           ...\n",
       "24995           5                5          14.0\n",
       "24996           4                4          31.0\n",
       "24997           2                2          59.0\n",
       "24998           2                2          64.0\n",
       "24999           6                6          17.0\n",
       "\n",
       "[25000 rows x 3 columns]"
      ]
     },
     "execution_count": 239,
     "metadata": {},
     "output_type": "execute_result"
    }
   ],
   "source": [
    "df"
   ]
  },
  {
   "cell_type": "code",
   "execution_count": 222,
   "id": "27420d6d-2461-4714-bb59-85c112c43a2c",
   "metadata": {},
   "outputs": [
    {
     "data": {
      "text/plain": [
       "array([6, 4, 2, ..., 2, 2, 6])"
      ]
     },
     "execution_count": 222,
     "metadata": {},
     "output_type": "execute_result"
    }
   ],
   "source": [
    "np.array([2,4,5,6,7])[vote_count.argmax(axis=1)]"
   ]
  },
  {
   "cell_type": "code",
   "execution_count": 221,
   "id": "a4f9ef9c-e93a-4b01-9c80-5c916c10b917",
   "metadata": {},
   "outputs": [
    {
     "data": {
      "text/plain": [
       "array([6, 4, 2, ..., 2, 2, 6], dtype=int32)"
      ]
     },
     "execution_count": 221,
     "metadata": {},
     "output_type": "execute_result"
    }
   ],
   "source": [
    "train_label"
   ]
  },
  {
   "cell_type": "code",
   "execution_count": 210,
   "id": "f1b0da4b-99b2-4185-986d-ef9c6f84328e",
   "metadata": {},
   "outputs": [],
   "source": [
    "model=model\n",
    "X_in = train_data\n",
    "n_size = X_in.shape[0]\n",
    "\n",
    "result_arr=np.zeros((n_size, 5))\n",
    "for tree in model.estimators_:\n",
    "    result = tree.predict(X_in)\n",
    "    for idx in range(n_size):\n",
    "        result_arr[idx][int(result[idx])]+=1\n",
    "   "
   ]
  },
  {
   "cell_type": "code",
   "execution_count": 189,
   "id": "2b51eebc-5e7a-41b4-bd4c-6c457af542f4",
   "metadata": {},
   "outputs": [
    {
     "data": {
      "text/plain": [
       "(25000, 5)"
      ]
     },
     "execution_count": 189,
     "metadata": {},
     "output_type": "execute_result"
    }
   ],
   "source": [
    "result_arr.shape"
   ]
  },
  {
   "cell_type": "code",
   "execution_count": 202,
   "id": "79f0588d-0b3e-4253-830d-3a350d88cab4",
   "metadata": {},
   "outputs": [
    {
     "name": "stdout",
     "output_type": "stream",
     "text": [
      "use input model\n"
     ]
    }
   ],
   "source": [
    "results =classifier.report_votes(train_data, model = model)"
   ]
  },
  {
   "cell_type": "code",
   "execution_count": 166,
   "id": "9545c34a-d2bb-4181-89c8-d104f846a396",
   "metadata": {},
   "outputs": [
    {
     "data": {
      "text/plain": [
       "(25000,)"
      ]
     },
     "execution_count": 166,
     "metadata": {},
     "output_type": "execute_result"
    }
   ],
   "source": [
    "result.shape"
   ]
  },
  {
   "cell_type": "code",
   "execution_count": 161,
   "id": "5770e65f-9f34-4d4f-b204-008cf7c3c69f",
   "metadata": {},
   "outputs": [
    {
     "data": {
      "text/plain": [
       "array([6], dtype=int32)"
      ]
     },
     "execution_count": 161,
     "metadata": {},
     "output_type": "execute_result"
    }
   ],
   "source": [
    "train_label[0:1]"
   ]
  },
  {
   "cell_type": "code",
   "execution_count": 162,
   "id": "a801611c-1152-43a8-992d-238c1a852221",
   "metadata": {},
   "outputs": [
    {
     "data": {
      "text/plain": [
       "array([ 8., 12.,  7., 66.,  7.])"
      ]
     },
     "execution_count": 162,
     "metadata": {},
     "output_type": "execute_result"
    }
   ],
   "source": [
    "result_dic"
   ]
  },
  {
   "cell_type": "code",
   "execution_count": 111,
   "id": "21354d3a-3379-410e-96fc-6616ff5ca7ed",
   "metadata": {},
   "outputs": [
    {
     "data": {
      "image/png": "[encoded data removed]",
      "text/plain": [
       "<Figure size 640x480 with 1 Axes>"
      ]
     },
     "metadata": {},
     "output_type": "display_data"
    }
   ],
   "source": [
    "import matplotlib.pyplot as plt\n",
    "\n",
    "\n",
    "image_todisplay = np.zeros\n",
    "\n",
    "plt.imshow([(255, 0, 0)])\n",
    "plt.show()"
   ]
  },
  {
   "cell_type": "code",
   "execution_count": 126,
   "id": "57885980-01fb-4c09-b8a3-eadaf4c2e23c",
   "metadata": {},
   "outputs": [
    {
     "data": {
      "image/png": "[encoded data removed]",
      "text/plain": [
       "<Figure size 640x480 with 1 Axes>"
      ]
     },
     "metadata": {},
     "output_type": "display_data"
    }
   ],
   "source": [
    "image=train_data[40].reshape((3,32,32))\n",
    "image_todisplay = np.zeros((32,32,3))\n",
    "for w in range(image_todisplay.shape[0]):\n",
    "    for h in range(image_todisplay.shape[1]):\n",
    "        for c in range(image_todisplay.shape[2]):\n",
    "            image_todisplay[w][h][c]=image[c][w][h]\n",
    "plt.imshow(image_todisplay.astype(int))\n",
    "plt.show()"
   ]
  },
  {
   "cell_type": "code",
   "execution_count": 130,
   "id": "7e24dbd5-e2f1-4c14-b5d1-dc21eba1c778",
   "metadata": {},
   "outputs": [
    {
     "data": {
      "image/png": "[encoded data removed]",
      "text/plain": [
       "<Figure size 640x480 with 1 Axes>"
      ]
     },
     "metadata": {},
     "output_type": "display_data"
    }
   ],
   "source": [
    "image=train_data[40].reshape((3, 1024))\n",
    "image_todisplay = np.zeros((32,32,3))\n",
    "for c in range(3):\n",
    "    image_c=image[c].reshape(32,32)\n",
    "    for w in range(image_todisplay.shape[0]):\n",
    "        for h in range(image_todisplay.shape[1]):\n",
    "            image_todisplay[w][h][c]=image_c[w][h]\n",
    "plt.imshow(image_todisplay.astype(int))\n",
    "plt.show()"
   ]
  },
  {
   "cell_type": "code",
   "execution_count": 135,
   "id": "eba596d9-7664-450b-ab22-be3b7e60ec59",
   "metadata": {},
   "outputs": [],
   "source": [
    "def display_image(train_image):\n",
    "    '''\n",
    "    takes in array of a single image:\n",
    "    1. image shape 3072 [array of r, array of g, array of b]\n",
    "    2. image shape 3*32*32 or 3 * 1024 [[array of r], [array of g], [array of b]]\n",
    "    '''\n",
    "    image_todisplay = np.zeros((32,32,3))\n",
    "    if train_image.shape[0] == 32*32*3:\n",
    "        #reshape input array\n",
    "        image=train_image.reshape((3,32,32))\n",
    "        for w in range(image_todisplay.shape[0]):\n",
    "            for h in range(image_todisplay.shape[1]):\n",
    "                for c in range(image_todisplay.shape[2]):\n",
    "                    image_todisplay[w][h][c]=image[c][w][h]\n",
    "        plt.imshow(image_todisplay.astype(int))\n",
    "        plt.show()\n",
    "        \n",
    "    elif train_image.shape[0] == 3:\n",
    "        #loop through channel of input image\n",
    "        for c in range(3):\n",
    "            image_c=train_image[c].reshape(32,32)\n",
    "            for w in range(image_todisplay.shape[0]):\n",
    "                for h in range(image_todisplay.shape[1]):\n",
    "                    image_todisplay[w][h][c]=image_c[w][h]\n",
    "        plt.imshow(image_todisplay.astype(int))\n",
    "        plt.show()\n",
    "    else: \n",
    "        print('check in put shape, input shape is ', train_image.shape)\n",
    "    return image_todisplay"
   ]
  },
  {
   "cell_type": "code",
   "execution_count": 139,
   "id": "96b83485-0d9d-4bd8-aed1-4decf3de5ec2",
   "metadata": {},
   "outputs": [
    {
     "data": {
      "image/png": "[encoded data removed]",
      "text/plain": [
       "<Figure size 640x480 with 1 Axes>"
      ]
     },
     "metadata": {},
     "output_type": "display_data"
    },
    {
     "data": {
      "text/plain": [
       "array([[[165.90361446, 218.13253012, 247.8313253 ],\n",
       "        [163.85542169, 215.06024096, 243.73493976],\n",
       "        [163.85542169, 215.06024096, 243.73493976],\n",
       "        ...,\n",
       "        [158.73493976, 213.01204819, 240.6626506 ],\n",
       "        [154.63855422, 210.96385542, 238.61445783],\n",
       "        [154.63855422, 205.84337349, 237.59036145]],\n",
       "\n",
       "       [[170.        , 221.20481928, 248.85542169],\n",
       "        [167.95180723, 218.13253012, 245.78313253],\n",
       "        [167.95180723, 218.13253012, 245.78313253],\n",
       "        ...,\n",
       "        [165.90361446, 215.06024096, 241.68674699],\n",
       "        [161.80722892, 211.98795181, 239.63855422],\n",
       "        [159.75903614, 207.89156627, 238.61445783]],\n",
       "\n",
       "       [[174.09638554, 223.25301205, 249.87951807],\n",
       "        [172.04819277, 220.18072289, 246.80722892],\n",
       "        [173.07228916, 221.20481928, 247.8313253 ],\n",
       "        ...,\n",
       "        [170.        , 215.06024096, 241.68674699],\n",
       "        [166.92771084, 210.96385542, 238.61445783],\n",
       "        [164.87951807, 209.93975904, 239.63855422]],\n",
       "\n",
       "       ...,\n",
       "\n",
       "       [[123.91566265, 161.80722892, 105.48192771],\n",
       "        [117.77108434, 155.6626506 , 102.40963855],\n",
       "        [112.65060241, 150.54216867,  99.3373494 ],\n",
       "        ...,\n",
       "        [117.77108434, 137.22891566, 100.36144578],\n",
       "        [ 95.24096386, 115.72289157,  78.85542169],\n",
       "        [120.84337349, 150.54216867, 100.36144578]],\n",
       "\n",
       "       [[120.84337349, 157.71084337, 100.36144578],\n",
       "        [116.74698795, 152.59036145,  99.3373494 ],\n",
       "        [112.65060241, 148.4939759 ,  96.26506024],\n",
       "        ...,\n",
       "        [126.98795181, 150.54216867, 110.60240964],\n",
       "        [120.84337349, 145.42168675, 103.43373494],\n",
       "        [120.84337349, 153.61445783, 101.38554217]],\n",
       "\n",
       "       [[121.86746988, 155.6626506 ,  96.26506024],\n",
       "        [120.84337349, 153.61445783,  99.3373494 ],\n",
       "        [116.74698795, 149.51807229,  97.28915663],\n",
       "        ...,\n",
       "        [124.93975904, 153.61445783, 108.55421687],\n",
       "        [124.93975904, 155.6626506 , 107.53012048],\n",
       "        [120.84337349, 155.6626506 , 100.36144578]]])"
      ]
     },
     "execution_count": 139,
     "metadata": {},
     "output_type": "execute_result"
    }
   ],
   "source": [
    "image_12= (train_data[12])\n",
    "image_12_norm = (image_12-image_12.min())/(image_12.max()-image_12.min())\n",
    "display_image(image_12_norm*255)"
   ]
  },
  {
   "cell_type": "code",
   "execution_count": 136,
   "id": "9af189b8-407f-4605-a04f-3548af5b4111",
   "metadata": {},
   "outputs": [
    {
     "data": {
      "image/png": "[encoded data removed]",
      "text/plain": [
       "<Figure size 640x480 with 1 Axes>"
      ]
     },
     "metadata": {},
     "output_type": "display_data"
    },
    {
     "data": {
      "text/plain": [
       "array([[[164., 215., 244.],\n",
       "        [162., 212., 240.],\n",
       "        [162., 212., 240.],\n",
       "        ...,\n",
       "        [157., 210., 237.],\n",
       "        [153., 208., 235.],\n",
       "        [153., 203., 234.]],\n",
       "\n",
       "       [[168., 218., 245.],\n",
       "        [166., 215., 242.],\n",
       "        [166., 215., 242.],\n",
       "        ...,\n",
       "        [164., 212., 238.],\n",
       "        [160., 209., 236.],\n",
       "        [158., 205., 235.]],\n",
       "\n",
       "       [[172., 220., 246.],\n",
       "        [170., 217., 243.],\n",
       "        [171., 218., 244.],\n",
       "        ...,\n",
       "        [168., 212., 238.],\n",
       "        [165., 208., 235.],\n",
       "        [163., 207., 236.]],\n",
       "\n",
       "       ...,\n",
       "\n",
       "       [[123., 160., 105.],\n",
       "        [117., 154., 102.],\n",
       "        [112., 149.,  99.],\n",
       "        ...,\n",
       "        [117., 136., 100.],\n",
       "        [ 95., 115.,  79.],\n",
       "        [120., 149., 100.]],\n",
       "\n",
       "       [[120., 156., 100.],\n",
       "        [116., 151.,  99.],\n",
       "        [112., 147.,  96.],\n",
       "        ...,\n",
       "        [126., 149., 110.],\n",
       "        [120., 144., 103.],\n",
       "        [120., 152., 101.]],\n",
       "\n",
       "       [[121., 154.,  96.],\n",
       "        [120., 152.,  99.],\n",
       "        [116., 148.,  97.],\n",
       "        ...,\n",
       "        [124., 152., 108.],\n",
       "        [124., 154., 107.],\n",
       "        [120., 154., 100.]]])"
      ]
     },
     "execution_count": 136,
     "metadata": {},
     "output_type": "execute_result"
    }
   ],
   "source": [
    "display_image(train_data[12].reshape((3,32,32)))"
   ]
  },
  {
   "cell_type": "code",
   "execution_count": null,
   "id": "80cfcdc9-cab2-42f1-a0a9-9d1b67cf7afe",
   "metadata": {},
   "outputs": [],
   "source": []
  },
  {
   "cell_type": "code",
   "execution_count": 35,
   "id": "8cb73f8e-2cd4-4440-a783-dce4ebd722e1",
   "metadata": {},
   "outputs": [
    {
     "data": {
      "text/plain": [
       "((50000, 3072), (50000,))"
      ]
     },
     "execution_count": 35,
     "metadata": {},
     "output_type": "execute_result"
    }
   ],
   "source": []
  },
  {
   "cell_type": "code",
   "execution_count": 27,
   "id": "31766f3b-7202-4600-9785-37f5331c771c",
   "metadata": {},
   "outputs": [],
   "source": [
    "#get model\n",
    "rfc=classifier.models()[\"RandomForestClassifier\"]"
   ]
  },
  {
   "cell_type": "code",
   "execution_count": 58,
   "id": "d7a0d9f0-ab45-4049-b722-2d1e9cc7caea",
   "metadata": {},
   "outputs": [
    {
     "data": {
      "text/plain": [
       "{'bootstrap': True,\n",
       " 'ccp_alpha': 0.0,\n",
       " 'class_weight': None,\n",
       " 'criterion': 'gini',\n",
       " 'max_depth': None,\n",
       " 'max_features': 'sqrt',\n",
       " 'max_leaf_nodes': None,\n",
       " 'max_samples': None,\n",
       " 'min_impurity_decrease': 0.0,\n",
       " 'min_samples_leaf': 1,\n",
       " 'min_samples_split': 2,\n",
       " 'min_weight_fraction_leaf': 0.0,\n",
       " 'n_estimators': 100,\n",
       " 'n_jobs': None,\n",
       " 'oob_score': False,\n",
       " 'random_state': 28,\n",
       " 'verbose': 0,\n",
       " 'warm_start': False}"
      ]
     },
     "execution_count": 58,
     "metadata": {},
     "output_type": "execute_result"
    }
   ],
   "source": [
    "rfc.get_params()"
   ]
  },
  {
   "cell_type": "code",
   "execution_count": 29,
   "id": "8deede7d-40a5-433c-80b1-add2edb23607",
   "metadata": {},
   "outputs": [
    {
     "data": {
      "text/html": [
       "<div>\n",
       "<style scoped>\n",
       "    .dataframe tbody tr th:only-of-type {\n",
       "        vertical-align: middle;\n",
       "    }\n",
       "\n",
       "    .dataframe tbody tr th {\n",
       "        vertical-align: top;\n",
       "    }\n",
       "\n",
       "    .dataframe thead th {\n",
       "        text-align: right;\n",
       "    }\n",
       "</style>\n",
       "<table border=\"1\" class=\"dataframe\">\n",
       "  <thead>\n",
       "    <tr style=\"text-align: right;\">\n",
       "      <th></th>\n",
       "      <th>exp_id</th>\n",
       "      <th>max_depth</th>\n",
       "      <th>max_features</th>\n",
       "      <th>min_samples_leaf</th>\n",
       "      <th>n_estimators</th>\n",
       "      <th>result</th>\n",
       "    </tr>\n",
       "  </thead>\n",
       "  <tbody>\n",
       "  </tbody>\n",
       "</table>\n",
       "</div>"
      ],
      "text/plain": [
       "Empty DataFrame\n",
       "Columns: [exp_id, max_depth, max_features, min_samples_leaf, n_estimators, result]\n",
       "Index: []"
      ]
     },
     "execution_count": 29,
     "metadata": {},
     "output_type": "execute_result"
    }
   ],
   "source": [
    "#initiate result table\n",
    "col_names = ['exp_id','max_depth','max_features','min_samples_leaf','n_estimators','result']\n",
    "results = pd.DataFrame(columns =col_names )\n",
    "results"
   ]
  },
  {
   "cell_type": "code",
   "execution_count": 38,
   "id": "00fa6465-462a-45fe-a730-ad774eea296a",
   "metadata": {
    "jupyter": {
     "source_hidden": true
    },
    "tags": []
   },
   "outputs": [
    {
     "data": {
      "text/html": [
       "<style>#sk-container-id-2 {color: black;background-color: white;}#sk-container-id-2 pre{padding: 0;}#sk-container-id-2 div.sk-toggleable {background-color: white;}#sk-container-id-2 label.sk-toggleable__label {cursor: pointer;display: block;width: 100%;margin-bottom: 0;padding: 0.3em;box-sizing: border-box;text-align: center;}#sk-container-id-2 label.sk-toggleable__label-arrow:before {content: \"▸\";float: left;margin-right: 0.25em;color: #696969;}#sk-container-id-2 label.sk-toggleable__label-arrow:hover:before {color: black;}#sk-container-id-2 div.sk-estimator:hover label.sk-toggleable__label-arrow:before {color: black;}#sk-container-id-2 div.sk-toggleable__content {max-height: 0;max-width: 0;overflow: hidden;text-align: left;background-color: #f0f8ff;}#sk-container-id-2 div.sk-toggleable__content pre {margin: 0.2em;color: black;border-radius: 0.25em;background-color: #f0f8ff;}#sk-container-id-2 input.sk-toggleable__control:checked~div.sk-toggleable__content {max-height: 200px;max-width: 100%;overflow: auto;}#sk-container-id-2 input.sk-toggleable__control:checked~label.sk-toggleable__label-arrow:before {content: \"▾\";}#sk-container-id-2 div.sk-estimator input.sk-toggleable__control:checked~label.sk-toggleable__label {background-color: #d4ebff;}#sk-container-id-2 div.sk-label input.sk-toggleable__control:checked~label.sk-toggleable__label {background-color: #d4ebff;}#sk-container-id-2 input.sk-hidden--visually {border: 0;clip: rect(1px 1px 1px 1px);clip: rect(1px, 1px, 1px, 1px);height: 1px;margin: -1px;overflow: hidden;padding: 0;position: absolute;width: 1px;}#sk-container-id-2 div.sk-estimator {font-family: monospace;background-color: #f0f8ff;border: 1px dotted black;border-radius: 0.25em;box-sizing: border-box;margin-bottom: 0.5em;}#sk-container-id-2 div.sk-estimator:hover {background-color: #d4ebff;}#sk-container-id-2 div.sk-parallel-item::after {content: \"\";width: 100%;border-bottom: 1px solid gray;flex-grow: 1;}#sk-container-id-2 div.sk-label:hover label.sk-toggleable__label {background-color: #d4ebff;}#sk-container-id-2 div.sk-serial::before {content: \"\";position: absolute;border-left: 1px solid gray;box-sizing: border-box;top: 0;bottom: 0;left: 50%;z-index: 0;}#sk-container-id-2 div.sk-serial {display: flex;flex-direction: column;align-items: center;background-color: white;padding-right: 0.2em;padding-left: 0.2em;position: relative;}#sk-container-id-2 div.sk-item {position: relative;z-index: 1;}#sk-container-id-2 div.sk-parallel {display: flex;align-items: stretch;justify-content: center;background-color: white;position: relative;}#sk-container-id-2 div.sk-item::before, #sk-container-id-2 div.sk-parallel-item::before {content: \"\";position: absolute;border-left: 1px solid gray;box-sizing: border-box;top: 0;bottom: 0;left: 50%;z-index: -1;}#sk-container-id-2 div.sk-parallel-item {display: flex;flex-direction: column;z-index: 1;position: relative;background-color: white;}#sk-container-id-2 div.sk-parallel-item:first-child::after {align-self: flex-end;width: 50%;}#sk-container-id-2 div.sk-parallel-item:last-child::after {align-self: flex-start;width: 50%;}#sk-container-id-2 div.sk-parallel-item:only-child::after {width: 0;}#sk-container-id-2 div.sk-dashed-wrapped {border: 1px dashed gray;margin: 0 0.4em 0.5em 0.4em;box-sizing: border-box;padding-bottom: 0.4em;background-color: white;}#sk-container-id-2 div.sk-label label {font-family: monospace;font-weight: bold;display: inline-block;line-height: 1.2em;}#sk-container-id-2 div.sk-label-container {text-align: center;}#sk-container-id-2 div.sk-container {/* jupyter's `normalize.less` sets `[hidden] { display: none; }` but bootstrap.min.css set `[hidden] { display: none !important; }` so we also need the `!important` here to be able to override the default hidden behavior on the sphinx rendered scikit-learn.org. See: https://github.com/scikit-learn/scikit-learn/issues/21755 */display: inline-block !important;position: relative;}#sk-container-id-2 div.sk-text-repr-fallback {display: none;}</style><div id=\"sk-container-id-2\" class=\"sk-top-container\"><div class=\"sk-text-repr-fallback\"><pre>RandomForestClassifier(random_state=28)</pre><b>In a Jupyter environment, please rerun this cell to show the HTML representation or trust the notebook. <br />On GitHub, the HTML representation is unable to render, please try loading this page with nbviewer.org.</b></div><div class=\"sk-container\" hidden><div class=\"sk-item\"><div class=\"sk-estimator sk-toggleable\"><input class=\"sk-toggleable__control sk-hidden--visually\" id=\"sk-estimator-id-2\" type=\"checkbox\" checked><label for=\"sk-estimator-id-2\" class=\"sk-toggleable__label sk-toggleable__label-arrow\">RandomForestClassifier</label><div class=\"sk-toggleable__content\"><pre>RandomForestClassifier(random_state=28)</pre></div></div></div></div></div>"
      ],
      "text/plain": [
       "RandomForestClassifier(random_state=28)"
      ]
     },
     "execution_count": 38,
     "metadata": {},
     "output_type": "execute_result"
    }
   ],
   "source": [
    "rfc.fit(train_data,train_label)"
   ]
  },
  {
   "cell_type": "code",
   "execution_count": 99,
   "id": "048e08c0-f19b-4a14-870a-341dc0deb610",
   "metadata": {},
   "outputs": [
    {
     "name": "stdout",
     "output_type": "stream",
     "text": [
      "finish training experiment: 0 {'max_depth': 10, 'max_features': 'sqrt', 'min_samples_leaf': 1, 'n_estimators': 100, 'exp_id': 0, 'result': 0.4112}\n",
      "finish training experiment: 1 {'max_depth': 10, 'max_features': 'sqrt', 'min_samples_leaf': 100, 'n_estimators': 100, 'exp_id': 1, 'result': 0.38104}\n",
      "finish training experiment: 2 {'max_depth': 30, 'max_features': 'sqrt', 'min_samples_leaf': 1, 'n_estimators': 100, 'exp_id': 2, 'result': 0.44132}\n",
      "finish training experiment: 3 {'max_depth': 30, 'max_features': 'sqrt', 'min_samples_leaf': 100, 'n_estimators': 100, 'exp_id': 3, 'result': 0.38052}\n",
      "exp_id                    2\n",
      "max_depth                30\n",
      "max_features           sqrt\n",
      "min_samples_leaf          1\n",
      "n_estimators            100\n",
      "result              0.44132\n",
      "Name: 2, dtype: object\n",
      "{'bootstrap': True, 'ccp_alpha': 0.0, 'class_weight': None, 'criterion': 'gini', 'max_depth': 30, 'max_features': 'sqrt', 'max_leaf_nodes': None, 'max_samples': None, 'min_impurity_decrease': 0.0, 'min_samples_leaf': 1, 'min_samples_split': 2, 'min_weight_fraction_leaf': 0.0, 'n_estimators': 100, 'n_jobs': None, 'oob_score': False, 'random_state': 28, 'verbose': 0, 'warm_start': False}\n"
     ]
    },
    {
     "data": {
      "text/html": [
       "<style>#sk-container-id-4 {color: black;background-color: white;}#sk-container-id-4 pre{padding: 0;}#sk-container-id-4 div.sk-toggleable {background-color: white;}#sk-container-id-4 label.sk-toggleable__label {cursor: pointer;display: block;width: 100%;margin-bottom: 0;padding: 0.3em;box-sizing: border-box;text-align: center;}#sk-container-id-4 label.sk-toggleable__label-arrow:before {content: \"▸\";float: left;margin-right: 0.25em;color: #696969;}#sk-container-id-4 label.sk-toggleable__label-arrow:hover:before {color: black;}#sk-container-id-4 div.sk-estimator:hover label.sk-toggleable__label-arrow:before {color: black;}#sk-container-id-4 div.sk-toggleable__content {max-height: 0;max-width: 0;overflow: hidden;text-align: left;background-color: #f0f8ff;}#sk-container-id-4 div.sk-toggleable__content pre {margin: 0.2em;color: black;border-radius: 0.25em;background-color: #f0f8ff;}#sk-container-id-4 input.sk-toggleable__control:checked~div.sk-toggleable__content {max-height: 200px;max-width: 100%;overflow: auto;}#sk-container-id-4 input.sk-toggleable__control:checked~label.sk-toggleable__label-arrow:before {content: \"▾\";}#sk-container-id-4 div.sk-estimator input.sk-toggleable__control:checked~label.sk-toggleable__label {background-color: #d4ebff;}#sk-container-id-4 div.sk-label input.sk-toggleable__control:checked~label.sk-toggleable__label {background-color: #d4ebff;}#sk-container-id-4 input.sk-hidden--visually {border: 0;clip: rect(1px 1px 1px 1px);clip: rect(1px, 1px, 1px, 1px);height: 1px;margin: -1px;overflow: hidden;padding: 0;position: absolute;width: 1px;}#sk-container-id-4 div.sk-estimator {font-family: monospace;background-color: #f0f8ff;border: 1px dotted black;border-radius: 0.25em;box-sizing: border-box;margin-bottom: 0.5em;}#sk-container-id-4 div.sk-estimator:hover {background-color: #d4ebff;}#sk-container-id-4 div.sk-parallel-item::after {content: \"\";width: 100%;border-bottom: 1px solid gray;flex-grow: 1;}#sk-container-id-4 div.sk-label:hover label.sk-toggleable__label {background-color: #d4ebff;}#sk-container-id-4 div.sk-serial::before {content: \"\";position: absolute;border-left: 1px solid gray;box-sizing: border-box;top: 0;bottom: 0;left: 50%;z-index: 0;}#sk-container-id-4 div.sk-serial {display: flex;flex-direction: column;align-items: center;background-color: white;padding-right: 0.2em;padding-left: 0.2em;position: relative;}#sk-container-id-4 div.sk-item {position: relative;z-index: 1;}#sk-container-id-4 div.sk-parallel {display: flex;align-items: stretch;justify-content: center;background-color: white;position: relative;}#sk-container-id-4 div.sk-item::before, #sk-container-id-4 div.sk-parallel-item::before {content: \"\";position: absolute;border-left: 1px solid gray;box-sizing: border-box;top: 0;bottom: 0;left: 50%;z-index: -1;}#sk-container-id-4 div.sk-parallel-item {display: flex;flex-direction: column;z-index: 1;position: relative;background-color: white;}#sk-container-id-4 div.sk-parallel-item:first-child::after {align-self: flex-end;width: 50%;}#sk-container-id-4 div.sk-parallel-item:last-child::after {align-self: flex-start;width: 50%;}#sk-container-id-4 div.sk-parallel-item:only-child::after {width: 0;}#sk-container-id-4 div.sk-dashed-wrapped {border: 1px dashed gray;margin: 0 0.4em 0.5em 0.4em;box-sizing: border-box;padding-bottom: 0.4em;background-color: white;}#sk-container-id-4 div.sk-label label {font-family: monospace;font-weight: bold;display: inline-block;line-height: 1.2em;}#sk-container-id-4 div.sk-label-container {text-align: center;}#sk-container-id-4 div.sk-container {/* jupyter's `normalize.less` sets `[hidden] { display: none; }` but bootstrap.min.css set `[hidden] { display: none !important; }` so we also need the `!important` here to be able to override the default hidden behavior on the sphinx rendered scikit-learn.org. See: https://github.com/scikit-learn/scikit-learn/issues/21755 */display: inline-block !important;position: relative;}#sk-container-id-4 div.sk-text-repr-fallback {display: none;}</style><div id=\"sk-container-id-4\" class=\"sk-top-container\"><div class=\"sk-text-repr-fallback\"><pre>RandomForestClassifier(max_depth=30, random_state=28)</pre><b>In a Jupyter environment, please rerun this cell to show the HTML representation or trust the notebook. <br />On GitHub, the HTML representation is unable to render, please try loading this page with nbviewer.org.</b></div><div class=\"sk-container\" hidden><div class=\"sk-item\"><div class=\"sk-estimator sk-toggleable\"><input class=\"sk-toggleable__control sk-hidden--visually\" id=\"sk-estimator-id-4\" type=\"checkbox\" checked><label for=\"sk-estimator-id-4\" class=\"sk-toggleable__label sk-toggleable__label-arrow\">RandomForestClassifier</label><div class=\"sk-toggleable__content\"><pre>RandomForestClassifier(max_depth=30, random_state=28)</pre></div></div></div></div></div>"
      ],
      "text/plain": [
       "RandomForestClassifier(max_depth=30, random_state=28)"
      ]
     },
     "execution_count": 99,
     "metadata": {},
     "output_type": "execute_result"
    }
   ],
   "source": [
    "# Test Function From the Folder\n",
    "\n",
    "classifier.model_selelection_RandomForestClassifier(train_data, train_label, \n",
    "                                             depths=[10,30], \n",
    "                                             estimators=[100],\n",
    "                                             min_samples_leaf = [1, 100]\n",
    "                                            )"
   ]
  },
  {
   "cell_type": "code",
   "execution_count": 47,
   "id": "dad7486f-c656-40b9-87df-b67ba8833e10",
   "metadata": {},
   "outputs": [
    {
     "name": "stdout",
     "output_type": "stream",
     "text": [
      "{'bootstrap': True, 'ccp_alpha': 0.0, 'class_weight': None, 'criterion': 'gini', 'max_depth': None, 'max_features': 'sqrt', 'max_leaf_nodes': None, 'max_samples': None, 'min_impurity_decrease': 0.0, 'min_samples_leaf': 1, 'min_samples_split': 2, 'min_weight_fraction_leaf': 0.0, 'n_estimators': 100, 'n_jobs': None, 'oob_score': False, 'random_state': 28, 'verbose': 0, 'warm_start': False}\n"
     ]
    }
   ],
   "source": [
    "# To Save Model\n",
    "filename = 'finalized_model.sav'\n",
    "pickle.dump(rfc, open(filename, 'wb'))\n",
    "loaded_model = pickle.load(open(filename, 'rb'))\n",
    "#result = loaded_model.score(X_test, Y_test)\n",
    "print(loaded_model.get_params())"
   ]
  },
  {
   "cell_type": "code",
   "execution_count": 68,
   "id": "73f78897-10a5-441b-83c5-e45a62737267",
   "metadata": {},
   "outputs": [],
   "source": [
    "train_X, val_X, train_Y, val_Y = train_test_split(train_data,train_label, test_size=0.5, train_size=0.5, random_state=28)"
   ]
  },
  {
   "cell_type": "code",
   "execution_count": 84,
   "id": "e18da735-0853-41ba-bd36-81acb43c87f5",
   "metadata": {},
   "outputs": [
    {
     "name": "stdout",
     "output_type": "stream",
     "text": [
      "1\n",
      "2\n",
      "3\n",
      "4\n",
      "5\n",
      "6\n",
      "7\n",
      "8\n",
      "9\n",
      "10\n",
      "11\n",
      "12\n"
     ]
    }
   ],
   "source": [
    "# train, val split\n",
    "train_X, val_X, train_Y, val_Y = train_test_split(\n",
    "    train_data,train_label, test_size=0.5, train_size=0.5, random_state=28\n",
    "    )\n",
    "\n",
    "\n",
    "exp_id=0\n",
    "depths=[10,20,50]\n",
    "estimators=[100]\n",
    "\n",
    "for max_depth in depths:\n",
    "    for est in estimators:\n",
    "        rfc=classifier.models()[\"RandomForestClassifier\"]\n",
    "        \n",
    "        hyperparam={'max_depth':max_depth,\n",
    "               'max_features':'sqrt','min_samples_leaf':1,\n",
    "               'n_estimators':est}\n",
    "        #print(hyperparam)\n",
    "        rfc=rfc.set_params(**hyperparam)\n",
    "        rfc.fit(train_X,train_Y)\n",
    "        \n",
    "        hyperparam['exp_id'] = exp_id\n",
    "        hyperparam['result'] = rfc.score(val_X,val_Y)\n",
    "        \n",
    "        results.loc[exp_id]=hyperparam\n",
    "        print(exp_id)\n",
    "        exp_id+=1\n",
    "        "
   ]
  },
  {
   "cell_type": "code",
   "execution_count": 85,
   "id": "7dedd9cb-ba45-4347-bd31-064ad53d4ccd",
   "metadata": {},
   "outputs": [
    {
     "data": {
      "text/plain": [
       "0.45588"
      ]
     },
     "execution_count": 85,
     "metadata": {},
     "output_type": "execute_result"
    }
   ],
   "source": [
    "rfc.score(val_X,val_Y)"
   ]
  },
  {
   "cell_type": "code",
   "execution_count": 92,
   "id": "d3e044f9-cfe1-473b-b936-4a0355245bfd",
   "metadata": {},
   "outputs": [
    {
     "data": {
      "text/plain": [
       "{'max_depth': 50,\n",
       " 'max_features': 'sqrt',\n",
       " 'min_samples_leaf': 1,\n",
       " 'n_estimators': 200}"
      ]
     },
     "execution_count": 92,
     "metadata": {},
     "output_type": "execute_result"
    }
   ],
   "source": [
    "results.sort_values(by='result').iloc[-1][['max_depth','max_features','min_samples_leaf','n_estimators']].to_dict()"
   ]
  },
  {
   "cell_type": "code",
   "execution_count": 109,
   "id": "6d67a12e-e41e-4a25-a4cc-0968cff2f15c",
   "metadata": {},
   "outputs": [
    {
     "name": "stdout",
     "output_type": "stream",
     "text": [
      "Read Pre Trained Best Model\n",
      "              precision    recall  f1-score   support\n",
      "\n",
      "           0       0.55      0.56      0.56      1000\n",
      "           1       0.52      0.55      0.53      1000\n",
      "           2       0.39      0.34      0.36      1000\n",
      "           3       0.33      0.27      0.30      1000\n",
      "           4       0.39      0.41      0.40      1000\n",
      "           5       0.44      0.40      0.42      1000\n",
      "           6       0.47      0.57      0.51      1000\n",
      "           7       0.53      0.46      0.49      1000\n",
      "           8       0.59      0.61      0.60      1000\n",
      "           9       0.49      0.56      0.52      1000\n",
      "\n",
      "    accuracy                           0.47     10000\n",
      "   macro avg       0.47      0.47      0.47     10000\n",
      "weighted avg       0.47      0.47      0.47     10000\n",
      "\n"
     ]
    },
    {
     "data": {
      "text/plain": [
       "array([5, 8, 8, ..., 5, 5, 7], dtype=int32)"
      ]
     },
     "execution_count": 109,
     "metadata": {},
     "output_type": "execute_result"
    }
   ],
   "source": [
    "model=clf_build(None, None, 'RandomForestClassifier')\n",
    "clf_predict(model,test_data, test_label, 'result/prediction1.csv')"
   ]
  },
  {
   "cell_type": "code",
   "execution_count": 249,
   "id": "373a909d-4ec7-461b-97c7-6ff49f87cc40",
   "metadata": {},
   "outputs": [],
   "source": [
    "df = pd.DataFrame(columns = [ 'true_label','predicted_label','predict_vote'])\n",
    "df['true_label'] = train_label\n",
    "df['predicted_label'] = predictions\n",
    "df['predict_vote'] = np.arange(25000)\n",
    "\n",
    "def put_in_count(idx):\n",
    "    return vote_count[idx]\n",
    "df['predict_vote'] = df['predict_vote'].apply(put_in_count)"
   ]
  },
  {
   "cell_type": "code",
   "execution_count": null,
   "id": "8dd3c9b7-a9e8-49b2-a1a3-7b17972296a1",
   "metadata": {},
   "outputs": [],
   "source": []
  }
 ],
 "metadata": {
  "kernelspec": {
   "display_name": "Python 3 (ipykernel)",
   "language": "python",
   "name": "python3"
  },
  "language_info": {
   "codemirror_mode": {
    "name": "ipython",
    "version": 3
   },
   "file_extension": ".py",
   "mimetype": "text/x-python",
   "name": "python",
   "nbconvert_exporter": "python",
   "pygments_lexer": "ipython3",
   "version": "3.10.7"
  }
 },
 "nbformat": 4,
 "nbformat_minor": 5
}
