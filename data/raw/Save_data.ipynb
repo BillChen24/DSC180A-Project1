{
 "cells": [
  {
   "cell_type": "code",
   "execution_count": 4,
   "id": "c622def1",
   "metadata": {},
   "outputs": [],
   "source": [
    "import numpy as np"
   ]
  },
  {
   "cell_type": "code",
   "execution_count": 1,
   "id": "0e85afc1",
   "metadata": {},
   "outputs": [],
   "source": [
    "import pickle\n",
    "def get_data(file):\n",
    "    with open(file, 'rb') as fo:\n",
    "        dict = pickle.load(fo, encoding='bytes')\n",
    "    return dict[b'data']"
   ]
  },
  {
   "cell_type": "code",
   "execution_count": 2,
   "id": "554e7c5c",
   "metadata": {},
   "outputs": [],
   "source": [
    "def get_label(file):\n",
    "    with open(file, 'rb') as fo:\n",
    "        dict = pickle.load(fo, encoding='bytes')\n",
    "    return dict[b'labels']"
   ]
  },
  {
   "cell_type": "code",
   "execution_count": 5,
   "id": "afd30e6f",
   "metadata": {},
   "outputs": [],
   "source": [
    "for i in range(1, 6):\n",
    "    x = get_data(f\"cifar-10-batches-py/data_batch_{i}\")\n",
    "    y = get_label(f\"cifar-10-batches-py/data_batch_{i}\")\n",
    "    np.save(f'X_{i}', x)\n",
    "    np.save(f'y_{i}', y)"
   ]
  },
  {
   "cell_type": "code",
   "execution_count": 6,
   "id": "0ab41bf5",
   "metadata": {},
   "outputs": [],
   "source": [
    "x_test = get_data(\"cifar-10-batches-py/test_batch\")\n",
    "y_test = get_label(\"cifar-10-batches-py/test_batch\")\n",
    "np.save('X_test', x_test)\n",
    "np.save('y_test', y_test)"
   ]
  },
  {
   "cell_type": "code",
   "execution_count": null,
   "id": "c49a481d",
   "metadata": {},
   "outputs": [],
   "source": []
  }
 ],
 "metadata": {
  "kernelspec": {
   "display_name": "Python 3 (ipykernel)",
   "language": "python",
   "name": "python3"
  },
  "language_info": {
   "codemirror_mode": {
    "name": "ipython",
    "version": 3
   },
   "file_extension": ".py",
   "mimetype": "text/x-python",
   "name": "python",
   "nbconvert_exporter": "python",
   "pygments_lexer": "ipython3",
   "version": "3.8.5"
  }
 },
 "nbformat": 4,
 "nbformat_minor": 5
}
