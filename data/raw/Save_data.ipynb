{
 "cells": [
  {
   "cell_type": "code",
   "execution_count": 4,
   "id": "c622def1",
   "metadata": {},
   "outputs": [],
   "source": [
    "import numpy as np"
   ]
  },
  {
   "cell_type": "code",
   "execution_count": 1,
   "id": "0e85afc1",
   "metadata": {},
   "outputs": [],
   "source": [
    "import pickle\n",
    "def get_data(file):\n",
    "    with open(file, 'rb') as fo:\n",
    "        dict = pickle.load(fo, encoding='bytes')\n",
    "    return dict[b'data']"
   ]
  },
  {
   "cell_type": "code",
   "execution_count": 2,
   "id": "554e7c5c",
   "metadata": {},
   "outputs": [],
   "source": [
    "def get_label(file):\n",
    "    with open(file, 'rb') as fo:\n",
    "        dict = pickle.load(fo, encoding='bytes')\n",
    "    return dict[b'labels']"
   ]
  },
  {
   "cell_type": "code",
   "execution_count": 5,
   "id": "afd30e6f",
   "metadata": {},
   "outputs": [],
   "source": [
    "for i in range(1, 6):\n",
    "    x = get_data(f\"cifar-10-batches-py/data_batch_{i}\")\n",
    "    y = get_label(f\"cifar-10-batches-py/data_batch_{i}\")\n",
    "    np.save(f'X_{i}', x)\n",
    "    np.save(f'y_{i}', y)"
   ]
  },
  {
   "cell_type": "code",
   "execution_count": 6,
   "id": "0ab41bf5",
   "metadata": {},
   "outputs": [],
   "source": [
    "x_test = get_data(\"cifar-10-batches-py/test_batch\")\n",
    "y_test = get_label(\"cifar-10-batches-py/test_batch\")\n",
    "np.save('X_test', x_test)\n",
    "np.save('y_test', y_test)"
   ]
  },
  {
   "cell_type": "code",
   "execution_count": 8,
   "id": "c49a481d",
   "metadata": {},
   "outputs": [
    {
     "data": {
      "text/plain": [
       "(10000, 3072)"
      ]
     },
     "execution_count": 8,
     "metadata": {},
     "output_type": "execute_result"
    }
   ],
   "source": [
    "x_test.shape"
   ]
  },
  {
   "cell_type": "code",
   "execution_count": 9,
   "id": "9b058a47",
   "metadata": {},
   "outputs": [
    {
     "data": {
      "text/plain": [
       "array([[158, 159, 165, ..., 124, 129, 110],\n",
       "       [235, 231, 232, ..., 178, 191, 199],\n",
       "       [158, 158, 139, ...,   8,   3,   7],\n",
       "       [155, 167, 176, ...,  50,  52,  50],\n",
       "       [ 65,  70,  48, ..., 136, 146, 117]], dtype=uint8)"
      ]
     },
     "execution_count": 9,
     "metadata": {},
     "output_type": "execute_result"
    }
   ],
   "source": [
    "x_test[:5]"
   ]
  },
  {
   "cell_type": "code",
   "execution_count": null,
   "id": "27c4f854",
   "metadata": {},
   "outputs": [],
   "source": []
  }
 ],
 "metadata": {
  "kernelspec": {
   "display_name": "Python 3 (ipykernel)",
   "language": "python",
   "name": "python3"
  },
  "language_info": {
   "codemirror_mode": {
    "name": "ipython",
    "version": 3
   },
   "file_extension": ".py",
   "mimetype": "text/x-python",
   "name": "python",
   "nbconvert_exporter": "python",
   "pygments_lexer": "ipython3",
   "version": "3.8.5"
  }
 },
 "nbformat": 4,
 "nbformat_minor": 5
}
